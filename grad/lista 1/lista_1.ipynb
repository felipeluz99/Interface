{
  "cells": [
    {
      "cell_type": "code",
      "execution_count": 1,
      "metadata": {
        "colab": {
          "base_uri": "https://localhost:8080/"
        },
        "id": "nEClwlfTxU94",
        "outputId": "3045cfe9-e3d4-4ee7-c332-33a21389baa2"
      },
      "outputs": [
        {
          "output_type": "stream",
          "name": "stdout",
          "text": [
            "Cloning into 'PUC_Redes_Neurais'...\n",
            "remote: Enumerating objects: 329, done.\u001b[K\n",
            "remote: Counting objects: 100% (49/49), done.\u001b[K\n",
            "remote: Compressing objects: 100% (9/9), done.\u001b[K\n",
            "remote: Total 329 (delta 44), reused 40 (delta 40), pack-reused 280 (from 1)\u001b[K\n",
            "Receiving objects: 100% (329/329), 4.02 MiB | 4.72 MiB/s, done.\n",
            "Resolving deltas: 100% (128/128), done.\n"
          ]
        }
      ],
      "source": [
        "colab = True\n",
        "if colab:\n",
        "    !git clone https://github.com/mdrs-thiago/PUC_Redes_Neurais\n",
        "    import os\n",
        "    os.chdir('/content/PUC_Redes_Neurais/grad/lista 1')"
      ]
    },
    {
      "cell_type": "markdown",
      "metadata": {
        "id": "CkLVLEtsgPUF",
        "scrolled": true
      },
      "source": [
        "# Redes Neurais\n",
        "## 1ª Lista de Exercícios - Classificação de padrões\n",
        "\n",
        "\n",
        "Aluno: Felipe Luz Machado\n",
        "\n",
        "Base de dados:  Diabetes"
      ]
    },
    {
      "cell_type": "markdown",
      "metadata": {
        "id": "PThbY14PxU95"
      },
      "source": [
        "### Para cada item da lista de exercício, não esqueça de fazer uma análise pertinente dos resultados obtidos.\n",
        "\n",
        "<b> Importante: </b> faça uma média dos resultados para cada item. Como o modelo é estocástico, os resultados podem variar de acordo com a inicialização dos pesos."
      ]
    },
    {
      "cell_type": "code",
      "execution_count": 2,
      "metadata": {
        "id": "7SVw33VAgPUw"
      },
      "outputs": [],
      "source": [
        "import numpy as np\n",
        "import pandas as pd\n",
        "import json\n",
        "import matplotlib.pyplot as plt\n",
        "import seaborn as sns\n",
        "from time import sleep\n",
        "import requests\n",
        "\n",
        "import torch\n",
        "import torch.nn as nn\n",
        "import torch.nn.functional as F\n",
        "from torch.utils.data import DataLoader\n",
        "\n",
        "from sklearn.preprocessing import LabelEncoder\n",
        "from sklearn.model_selection import cross_val_score, KFold, train_test_split\n",
        "from sklearn.metrics import classification_report, confusion_matrix\n",
        "\n",
        "from utils import CustomDataset, transform_data, plot_confusion_matrix\n",
        "from model_utils import train\n"
      ]
    },
    {
      "cell_type": "code",
      "execution_count": 3,
      "metadata": {
        "id": "KzCC7HdqgPVF"
      },
      "outputs": [],
      "source": [
        "class NeuralNetwork(torch.nn.Module):\n",
        "  '''\n",
        "  Objeto criado para facilitar o desenvolvimento dos scripts das aulas práticas.\n",
        "  Opção alternativa à criação externa fdo modelo. Basicamente serve como um\n",
        "  'agregador'  de trechos comuns para a criação do modelo. Por exemplo, ao invés\n",
        "  de gastar n+1 linhas para a criação de um modelo com n camadas, podemos criar\n",
        "  o mesmo modelo com apenas uma linha.\n",
        "\n",
        "  Parâmetros de entrada:\n",
        "  - hidden_neurons: Lista com a quantidade de neurônios na camada escondida.\n",
        "  - hidden_activation: Função de ativação para cada camada escondida. Aceita\n",
        "  como parâmetro string ou lista. Caso o parâmetro receba string, então a mesma\n",
        "  função de ativação é utilizada para todas as camadas escondidas. Caso seja uma\n",
        "  lista, cada camada terá sua propria função de ativação definida pela lista.\n",
        "  - output_activation: Função de ativação para a camada de saída.\n",
        "  - lr: Taxa de aprendizado\n",
        "  - n_input: Tamanho do vetor de entrada.\n",
        "  - n_output: Saída do modelo.\n",
        "  '''\n",
        "  def __init__(self,hidden_neurons = 4, hidden_activation = 'relu', output_activation='softmax', lr = 0.05, n_input = 1, n_output = 1):\n",
        "    # create model\n",
        "    super(NeuralNetwork, self).__init__()\n",
        "\n",
        "    self.activations = {'relu': nn.ReLU(), 'sigmoid':nn.Sigmoid(), 'softmax':nn.Softmax()}\n",
        "\n",
        "    self.fc1 = nn.Linear(n_input, hidden_neurons)\n",
        "    self.ha = self.activations[hidden_activation]\n",
        "    self.fc2 = nn.Linear(hidden_neurons, n_output)\n",
        "    #self.out = self.activations[output_activation]\n",
        "\n",
        "    #self.out = nn.Sigmoid() #Para o caso binário\n",
        "  def forward(self,x):\n",
        "    h = self.fc1(x)\n",
        "    h1 = self.ha(h)\n",
        "    y = self.fc2(h1)\n",
        "    #y = self.out(h2)\n",
        "    return y\n",
        "\n",
        "  def predict(self, x, binary=True):\n",
        "    y_hat = self.forward(x)\n",
        "\n",
        "    if binary:\n",
        "      y_pred = torch.round(torch.sigmoid(y_hat))\n",
        "      y_pred = y_pred.detach().numpy()\n",
        "    else:\n",
        "      y_pred = torch.argmax(y_hat, dim=1)\n",
        "\n",
        "    return y_pred"
      ]
    },
    {
      "cell_type": "code",
      "execution_count": 4,
      "metadata": {
        "id": "EUGYVLLTxU96"
      },
      "outputs": [],
      "source": [
        "device = torch.device('cuda' if torch.cuda.is_available() else 'cpu')"
      ]
    },
    {
      "cell_type": "markdown",
      "metadata": {
        "id": "OK2ohgzfgPVK"
      },
      "source": [
        "# Preparação dos dados\n",
        "\n",
        "Não esqueça de verificar o path para a pasta. Mude também o filename, de acordo com a base de dados."
      ]
    },
    {
      "cell_type": "code",
      "execution_count": 5,
      "metadata": {
        "id": "XhWc8w9ygPVT"
      },
      "outputs": [],
      "source": [
        "dataset_name = 'diabetes'\n",
        "dataset_path = f'https://raw.githubusercontent.com/mdrs-thiago/PUC_Redes_Neurais/main/datasets/c_{dataset_name}.csv'\n",
        "info_path = f'https://raw.githubusercontent.com/mdrs-thiago/PUC_Redes_Neurais/main/datasets/data_info/{dataset_name}/data_info.json'\n",
        "dataset = pd.read_csv(dataset_path)"
      ]
    },
    {
      "cell_type": "code",
      "execution_count": 6,
      "metadata": {
        "id": "VrmVpxUkxU97"
      },
      "outputs": [],
      "source": [
        "resp = requests.get(info_path)\n",
        "info = json.loads(resp.text)"
      ]
    },
    {
      "cell_type": "code",
      "execution_count": 7,
      "metadata": {
        "id": "vP12CdZmxU97"
      },
      "outputs": [],
      "source": [
        "for col, k in info.items():\n",
        "    if k == 'categorical':\n",
        "        dataset[col] = dataset[col].astype(object)"
      ]
    },
    {
      "cell_type": "code",
      "execution_count": 8,
      "metadata": {
        "colab": {
          "base_uri": "https://localhost:8080/"
        },
        "id": "5UHvr26txU97",
        "outputId": "060cfb5b-6a40-4a8c-fbe4-fbf756114a6e"
      },
      "outputs": [
        {
          "output_type": "stream",
          "name": "stdout",
          "text": [
            "('preg', dtype('int64'))\n",
            "('plas', dtype('int64'))\n",
            "('pres', dtype('int64'))\n",
            "('skin', dtype('int64'))\n",
            "('insu', dtype('int64'))\n",
            "('mass', dtype('float64'))\n",
            "('pedi', dtype('float64'))\n",
            "('age', dtype('int64'))\n",
            "('target', dtype('O'))\n"
          ]
        }
      ],
      "source": [
        "for i in dataset.dtypes.items():\n",
        "    print(i)"
      ]
    },
    {
      "cell_type": "markdown",
      "metadata": {
        "id": "wwblCYvdgPVV"
      },
      "source": [
        "## Parte I - Compreensão do problema e análise de variáveis\n",
        "\n",
        "Total: 1,0 pts.\n"
      ]
    },
    {
      "cell_type": "markdown",
      "metadata": {
        "id": "Xcmh5eH_gPVW"
      },
      "source": [
        "### 1)\tObserve a base de dados do problema. Existem variáveis que podem ser eliminadas do dataset? Justifique."
      ]
    },
    {
      "cell_type": "markdown",
      "metadata": {
        "id": "t41HM_RqgPVY"
      },
      "source": [
        "#### Rascunho"
      ]
    },
    {
      "cell_type": "code",
      "execution_count": 24,
      "metadata": {
        "id": "PMMN_pkLgPVf",
        "colab": {
          "base_uri": "https://localhost:8080/"
        },
        "outputId": "7d24d60f-595c-4cee-fbd4-ad1fc677c5a4"
      },
      "outputs": [
        {
          "output_type": "stream",
          "name": "stdout",
          "text": [
            "227\n",
            "374\n",
            "35\n"
          ]
        }
      ],
      "source": [
        "print(dataset['skin'].value_counts()[0])\n",
        "print(dataset['insu'].value_counts()[0])\n",
        "print(dataset['pres'].value_counts()[0])\n"
      ]
    },
    {
      "cell_type": "markdown",
      "metadata": {
        "id": "6DCNmE9pgPVg"
      },
      "source": [
        "#### Resposta"
      ]
    },
    {
      "cell_type": "code",
      "execution_count": 27,
      "metadata": {
        "id": "HIavGaiUgPVj",
        "colab": {
          "base_uri": "https://localhost:8080/"
        },
        "outputId": "f4139cc1-5c0a-4c0e-af9d-ac81f0d1a04b"
      },
      "outputs": [
        {
          "output_type": "stream",
          "name": "stdout",
          "text": [
            "zeros skin: 227\n",
            "zeros insu: 374\n"
          ]
        }
      ],
      "source": [
        "print(\"zeros skin:\", dataset['skin'].value_counts()[0])\n",
        "print(\"zeros insu:\", dataset['insu'].value_counts()[0])\n",
        "#Pelo grande numero de zeros, que indica que não houve medição, as variaveis skin e insu sao candidatas imediatas a serem removidas do dataset"
      ]
    },
    {
      "cell_type": "markdown",
      "metadata": {
        "id": "2gwm8VM7gPVk"
      },
      "source": [
        "### 2)\tImplemente técnicas de visualização de dados e seleção de variáveis para extrair características importantes sobre a base de dados. Explique a motivação destas técnicas e o que é possível inferir dos resultados obtidos."
      ]
    },
    {
      "cell_type": "markdown",
      "metadata": {
        "id": "2KTMuMxigPVl"
      },
      "source": [
        "#### Rascunho"
      ]
    },
    {
      "cell_type": "code",
      "execution_count": 30,
      "metadata": {
        "id": "9MhSKzy0gPVm",
        "colab": {
          "base_uri": "https://localhost:8080/",
          "height": 450
        },
        "outputId": "4ada7cc7-402f-44f3-b721-bca11474d78d"
      },
      "outputs": [
        {
          "output_type": "display_data",
          "data": {
            "text/plain": [
              "<Figure size 640x480 with 1 Axes>"
            ],
            "image/png": "[encoded data removed]"
          },
          "metadata": {}
        }
      ],
      "source": [
        "#dataset.hist(bins=30, figsize=(12,8))\n",
        "#plt.show()\n",
        "sns.boxplot(x=\"target\", y=\"plas\", data=dataset)\n",
        "plt.show()\n"
      ]
    },
    {
      "cell_type": "code",
      "execution_count": null,
      "metadata": {
        "id": "ET1owKAbgPVn"
      },
      "outputs": [],
      "source": []
    },
    {
      "cell_type": "markdown",
      "metadata": {
        "id": "cXyhqHJFgPVo"
      },
      "source": [
        "#### Resposta"
      ]
    },
    {
      "cell_type": "code",
      "execution_count": 42,
      "metadata": {
        "id": "mqpGofxTgPVp",
        "scrolled": false,
        "colab": {
          "base_uri": "https://localhost:8080/",
          "height": 530
        },
        "outputId": "56020cfd-ea7c-402e-cbf1-a5ef06ce1e6d"
      },
      "outputs": [
        {
          "output_type": "execute_result",
          "data": {
            "text/plain": [
              "<seaborn.axisgrid.PairGrid at 0x7e261a64d430>"
            ]
          },
          "metadata": {},
          "execution_count": 42
        },
        {
          "output_type": "display_data",
          "data": {
            "text/plain": [
              "<Figure size 661.875x500 with 6 Axes>"
            ],
            "image/png": "[encoded data removed]"
          },
          "metadata": {}
        }
      ],
      "source": [
        "#sns.pairplot(dataset, hue=\"target\", diag_kind=\"hist\")\n",
        "sns.pairplot(dataset[['preg','age','target']], hue=\"target\", diag_kind=\"hist\")\n",
        "\n",
        "\n"
      ]
    },
    {
      "cell_type": "markdown",
      "metadata": {
        "id": "p2qe3VzFgPVs"
      },
      "source": [
        "## Parte II. Treinamento do modelo de Rede Neural - Baseline\n",
        "\n",
        "Total: 1,0 pts."
      ]
    },
    {
      "cell_type": "markdown",
      "metadata": {
        "id": "STUb4bCjgPVt"
      },
      "source": [
        "### 1)\tCom as configurações do modelo MLP previamente definidas no script, faça o treinamento da Rede Neural sem normalizar os atributos numéricos. Comente o resultado obtido, baseado nas métricas de avaliação disponíveis (acurácia, precision, recall, F1-Score, Matriz de confusão, etc.)"
      ]
    },
    {
      "cell_type": "markdown",
      "metadata": {
        "id": "xIXkzdZfgPVu"
      },
      "source": [
        "#### Rascunho"
      ]
    },
    {
      "cell_type": "code",
      "execution_count": 62,
      "metadata": {
        "id": "eml98zS5gPVx",
        "colab": {
          "base_uri": "https://localhost:8080/",
          "height": 206
        },
        "outputId": "f7bd16d6-a59a-472c-c61c-d9bf9265bc60"
      },
      "outputs": [
        {
          "output_type": "execute_result",
          "data": {
            "text/plain": [
              "   preg  plas  pres  skin  insu  mass   pedi  age           target  \\\n",
              "0     6   148    72    35     0  33.6  0.627   50  tested_positive   \n",
              "1     1    85    66    29     0  26.6  0.351   31  tested_negative   \n",
              "2     8   183    64     0     0  23.3  0.672   32  tested_positive   \n",
              "3     1    89    66    23    94  28.1  0.167   21  tested_negative   \n",
              "4     0   137    40    35   168  43.1  2.288   33  tested_positive   \n",
              "\n",
              "   target_encoded  \n",
              "0               1  \n",
              "1               0  \n",
              "2               1  \n",
              "3               0  \n",
              "4               1  "
            ],
            "text/html": [
              "\n",
              "  <div id=\"df-78bc87d1-12f4-4f78-8365-5f137f8f27aa\" class=\"colab-df-container\">\n",
              "    <div>\n",
              "<style scoped>\n",
              "    .dataframe tbody tr th:only-of-type {\n",
              "        vertical-align: middle;\n",
              "    }\n",
              "\n",
              "    .dataframe tbody tr th {\n",
              "        vertical-align: top;\n",
              "    }\n",
              "\n",
              "    .dataframe thead th {\n",
              "        text-align: right;\n",
              "    }\n",
              "</style>\n",
              "<table border=\"1\" class=\"dataframe\">\n",
              "  <thead>\n",
              "    <tr style=\"text-align: right;\">\n",
              "      <th></th>\n",
              "      <th>preg</th>\n",
              "      <th>plas</th>\n",
              "      <th>pres</th>\n",
              "      <th>skin</th>\n",
              "      <th>insu</th>\n",
              "      <th>mass</th>\n",
              "      <th>pedi</th>\n",
              "      <th>age</th>\n",
              "      <th>target</th>\n",
              "      <th>target_encoded</th>\n",
              "    </tr>\n",
              "  </thead>\n",
              "  <tbody>\n",
              "    <tr>\n",
              "      <th>0</th>\n",
              "      <td>6</td>\n",
              "      <td>148</td>\n",
              "      <td>72</td>\n",
              "      <td>35</td>\n",
              "      <td>0</td>\n",
              "      <td>33.6</td>\n",
              "      <td>0.627</td>\n",
              "      <td>50</td>\n",
              "      <td>tested_positive</td>\n",
              "      <td>1</td>\n",
              "    </tr>\n",
              "    <tr>\n",
              "      <th>1</th>\n",
              "      <td>1</td>\n",
              "      <td>85</td>\n",
              "      <td>66</td>\n",
              "      <td>29</td>\n",
              "      <td>0</td>\n",
              "      <td>26.6</td>\n",
              "      <td>0.351</td>\n",
              "      <td>31</td>\n",
              "      <td>tested_negative</td>\n",
              "      <td>0</td>\n",
              "    </tr>\n",
              "    <tr>\n",
              "      <th>2</th>\n",
              "      <td>8</td>\n",
              "      <td>183</td>\n",
              "      <td>64</td>\n",
              "      <td>0</td>\n",
              "      <td>0</td>\n",
              "      <td>23.3</td>\n",
              "      <td>0.672</td>\n",
              "      <td>32</td>\n",
              "      <td>tested_positive</td>\n",
              "      <td>1</td>\n",
              "    </tr>\n",
              "    <tr>\n",
              "      <th>3</th>\n",
              "      <td>1</td>\n",
              "      <td>89</td>\n",
              "      <td>66</td>\n",
              "      <td>23</td>\n",
              "      <td>94</td>\n",
              "      <td>28.1</td>\n",
              "      <td>0.167</td>\n",
              "      <td>21</td>\n",
              "      <td>tested_negative</td>\n",
              "      <td>0</td>\n",
              "    </tr>\n",
              "    <tr>\n",
              "      <th>4</th>\n",
              "      <td>0</td>\n",
              "      <td>137</td>\n",
              "      <td>40</td>\n",
              "      <td>35</td>\n",
              "      <td>168</td>\n",
              "      <td>43.1</td>\n",
              "      <td>2.288</td>\n",
              "      <td>33</td>\n",
              "      <td>tested_positive</td>\n",
              "      <td>1</td>\n",
              "    </tr>\n",
              "  </tbody>\n",
              "</table>\n",
              "</div>\n",
              "    <div class=\"colab-df-buttons\">\n",
              "\n",
              "  <div class=\"colab-df-container\">\n",
              "    <button class=\"colab-df-convert\" onclick=\"convertToInteractive('df-78bc87d1-12f4-4f78-8365-5f137f8f27aa')\"\n",
              "            title=\"Convert this dataframe to an interactive table.\"\n",
              "            style=\"display:none;\">\n",
              "\n",
              "  <svg xmlns=\"http://www.w3.org/2000/svg\" height=\"24px\" viewBox=\"0 -960 960 960\">\n",
              "    <path d=\"M120-120v-720h720v720H120Zm60-500h600v-160H180v160Zm220 220h160v-160H400v160Zm0 220h160v-160H400v160ZM180-400h160v-160H180v160Zm440 0h160v-160H620v160ZM180-180h160v-160H180v160Zm440 0h160v-160H620v160Z\"/>\n",
              "  </svg>\n",
              "    </button>\n",
              "\n",
              "  <style>\n",
              "    .colab-df-container {\n",
              "      display:flex;\n",
              "      gap: 12px;\n",
              "    }\n",
              "\n",
              "    .colab-df-convert {\n",
              "      background-color: #E8F0FE;\n",
              "      border: none;\n",
              "      border-radius: 50%;\n",
              "      cursor: pointer;\n",
              "      display: none;\n",
              "      fill: #1967D2;\n",
              "      height: 32px;\n",
              "      padding: 0 0 0 0;\n",
              "      width: 32px;\n",
              "    }\n",
              "\n",
              "    .colab-df-convert:hover {\n",
              "      background-color: #E2EBFA;\n",
              "      box-shadow: 0px 1px 2px rgba(60, 64, 67, 0.3), 0px 1px 3px 1px rgba(60, 64, 67, 0.15);\n",
              "      fill: #174EA6;\n",
              "    }\n",
              "\n",
              "    .colab-df-buttons div {\n",
              "      margin-bottom: 4px;\n",
              "    }\n",
              "\n",
              "    [theme=dark] .colab-df-convert {\n",
              "      background-color: #3B4455;\n",
              "      fill: #D2E3FC;\n",
              "    }\n",
              "\n",
              "    [theme=dark] .colab-df-convert:hover {\n",
              "      background-color: #434B5C;\n",
              "      box-shadow: 0px 1px 3px 1px rgba(0, 0, 0, 0.15);\n",
              "      filter: drop-shadow(0px 1px 2px rgba(0, 0, 0, 0.3));\n",
              "      fill: #FFFFFF;\n",
              "    }\n",
              "  </style>\n",
              "\n",
              "    <script>\n",
              "      const buttonEl =\n",
              "        document.querySelector('#df-78bc87d1-12f4-4f78-8365-5f137f8f27aa button.colab-df-convert');\n",
              "      buttonEl.style.display =\n",
              "        google.colab.kernel.accessAllowed ? 'block' : 'none';\n",
              "\n",
              "      async function convertToInteractive(key) {\n",
              "        const element = document.querySelector('#df-78bc87d1-12f4-4f78-8365-5f137f8f27aa');\n",
              "        const dataTable =\n",
              "          await google.colab.kernel.invokeFunction('convertToInteractive',\n",
              "                                                    [key], {});\n",
              "        if (!dataTable) return;\n",
              "\n",
              "        const docLinkHtml = 'Like what you see? Visit the ' +\n",
              "          '<a target=\"_blank\" href=https://colab.research.google.com/notebooks/data_table.ipynb>data table notebook</a>'\n",
              "          + ' to learn more about interactive tables.';\n",
              "        element.innerHTML = '';\n",
              "        dataTable['output_type'] = 'display_data';\n",
              "        await google.colab.output.renderOutput(dataTable, element);\n",
              "        const docLink = document.createElement('div');\n",
              "        docLink.innerHTML = docLinkHtml;\n",
              "        element.appendChild(docLink);\n",
              "      }\n",
              "    </script>\n",
              "  </div>\n",
              "\n",
              "\n",
              "    <div id=\"df-8bd74366-56f7-4d0b-94e9-1a6424b42955\">\n",
              "      <button class=\"colab-df-quickchart\" onclick=\"quickchart('df-8bd74366-56f7-4d0b-94e9-1a6424b42955')\"\n",
              "                title=\"Suggest charts\"\n",
              "                style=\"display:none;\">\n",
              "\n",
              "<svg xmlns=\"http://www.w3.org/2000/svg\" height=\"24px\"viewBox=\"0 0 24 24\"\n",
              "     width=\"24px\">\n",
              "    <g>\n",
              "        <path d=\"M19 3H5c-1.1 0-2 .9-2 2v14c0 1.1.9 2 2 2h14c1.1 0 2-.9 2-2V5c0-1.1-.9-2-2-2zM9 17H7v-7h2v7zm4 0h-2V7h2v10zm4 0h-2v-4h2v4z\"/>\n",
              "    </g>\n",
              "</svg>\n",
              "      </button>\n",
              "\n",
              "<style>\n",
              "  .colab-df-quickchart {\n",
              "      --bg-color: #E8F0FE;\n",
              "      --fill-color: #1967D2;\n",
              "      --hover-bg-color: #E2EBFA;\n",
              "      --hover-fill-color: #174EA6;\n",
              "      --disabled-fill-color: #AAA;\n",
              "      --disabled-bg-color: #DDD;\n",
              "  }\n",
              "\n",
              "  [theme=dark] .colab-df-quickchart {\n",
              "      --bg-color: #3B4455;\n",
              "      --fill-color: #D2E3FC;\n",
              "      --hover-bg-color: #434B5C;\n",
              "      --hover-fill-color: #FFFFFF;\n",
              "      --disabled-bg-color: #3B4455;\n",
              "      --disabled-fill-color: #666;\n",
              "  }\n",
              "\n",
              "  .colab-df-quickchart {\n",
              "    background-color: var(--bg-color);\n",
              "    border: none;\n",
              "    border-radius: 50%;\n",
              "    cursor: pointer;\n",
              "    display: none;\n",
              "    fill: var(--fill-color);\n",
              "    height: 32px;\n",
              "    padding: 0;\n",
              "    width: 32px;\n",
              "  }\n",
              "\n",
              "  .colab-df-quickchart:hover {\n",
              "    background-color: var(--hover-bg-color);\n",
              "    box-shadow: 0 1px 2px rgba(60, 64, 67, 0.3), 0 1px 3px 1px rgba(60, 64, 67, 0.15);\n",
              "    fill: var(--button-hover-fill-color);\n",
              "  }\n",
              "\n",
              "  .colab-df-quickchart-complete:disabled,\n",
              "  .colab-df-quickchart-complete:disabled:hover {\n",
              "    background-color: var(--disabled-bg-color);\n",
              "    fill: var(--disabled-fill-color);\n",
              "    box-shadow: none;\n",
              "  }\n",
              "\n",
              "  .colab-df-spinner {\n",
              "    border: 2px solid var(--fill-color);\n",
              "    border-color: transparent;\n",
              "    border-bottom-color: var(--fill-color);\n",
              "    animation:\n",
              "      spin 1s steps(1) infinite;\n",
              "  }\n",
              "\n",
              "  @keyframes spin {\n",
              "    0% {\n",
              "      border-color: transparent;\n",
              "      border-bottom-color: var(--fill-color);\n",
              "      border-left-color: var(--fill-color);\n",
              "    }\n",
              "    20% {\n",
              "      border-color: transparent;\n",
              "      border-left-color: var(--fill-color);\n",
              "      border-top-color: var(--fill-color);\n",
              "    }\n",
              "    30% {\n",
              "      border-color: transparent;\n",
              "      border-left-color: var(--fill-color);\n",
              "      border-top-color: var(--fill-color);\n",
              "      border-right-color: var(--fill-color);\n",
              "    }\n",
              "    40% {\n",
              "      border-color: transparent;\n",
              "      border-right-color: var(--fill-color);\n",
              "      border-top-color: var(--fill-color);\n",
              "    }\n",
              "    60% {\n",
              "      border-color: transparent;\n",
              "      border-right-color: var(--fill-color);\n",
              "    }\n",
              "    80% {\n",
              "      border-color: transparent;\n",
              "      border-right-color: var(--fill-color);\n",
              "      border-bottom-color: var(--fill-color);\n",
              "    }\n",
              "    90% {\n",
              "      border-color: transparent;\n",
              "      border-bottom-color: var(--fill-color);\n",
              "    }\n",
              "  }\n",
              "</style>\n",
              "\n",
              "      <script>\n",
              "        async function quickchart(key) {\n",
              "          const quickchartButtonEl =\n",
              "            document.querySelector('#' + key + ' button');\n",
              "          quickchartButtonEl.disabled = true;  // To prevent multiple clicks.\n",
              "          quickchartButtonEl.classList.add('colab-df-spinner');\n",
              "          try {\n",
              "            const charts = await google.colab.kernel.invokeFunction(\n",
              "                'suggestCharts', [key], {});\n",
              "          } catch (error) {\n",
              "            console.error('Error during call to suggestCharts:', error);\n",
              "          }\n",
              "          quickchartButtonEl.classList.remove('colab-df-spinner');\n",
              "          quickchartButtonEl.classList.add('colab-df-quickchart-complete');\n",
              "        }\n",
              "        (() => {\n",
              "          let quickchartButtonEl =\n",
              "            document.querySelector('#df-8bd74366-56f7-4d0b-94e9-1a6424b42955 button');\n",
              "          quickchartButtonEl.style.display =\n",
              "            google.colab.kernel.accessAllowed ? 'block' : 'none';\n",
              "        })();\n",
              "      </script>\n",
              "    </div>\n",
              "\n",
              "    </div>\n",
              "  </div>\n"
            ],
            "application/vnd.google.colaboratory.intrinsic+json": {
              "type": "dataframe",
              "variable_name": "new_df",
              "summary": "{\n  \"name\": \"new_df\",\n  \"rows\": 768,\n  \"fields\": [\n    {\n      \"column\": \"preg\",\n      \"properties\": {\n        \"dtype\": \"number\",\n        \"std\": 3,\n        \"min\": 0,\n        \"max\": 17,\n        \"num_unique_values\": 17,\n        \"samples\": [\n          6,\n          1,\n          3\n        ],\n        \"semantic_type\": \"\",\n        \"description\": \"\"\n      }\n    },\n    {\n      \"column\": \"plas\",\n      \"properties\": {\n        \"dtype\": \"number\",\n        \"std\": 31,\n        \"min\": 0,\n        \"max\": 199,\n        \"num_unique_values\": 136,\n        \"samples\": [\n          151,\n          101,\n          112\n        ],\n        \"semantic_type\": \"\",\n        \"description\": \"\"\n      }\n    },\n    {\n      \"column\": \"pres\",\n      \"properties\": {\n        \"dtype\": \"number\",\n        \"std\": 19,\n        \"min\": 0,\n        \"max\": 122,\n        \"num_unique_values\": 47,\n        \"samples\": [\n          86,\n          46,\n          85\n        ],\n        \"semantic_type\": \"\",\n        \"description\": \"\"\n      }\n    },\n    {\n      \"column\": \"skin\",\n      \"properties\": {\n        \"dtype\": \"number\",\n        \"std\": 15,\n        \"min\": 0,\n        \"max\": 99,\n        \"num_unique_values\": 51,\n        \"samples\": [\n          7,\n          12,\n          48\n        ],\n        \"semantic_type\": \"\",\n        \"description\": \"\"\n      }\n    },\n    {\n      \"column\": \"insu\",\n      \"properties\": {\n        \"dtype\": \"number\",\n        \"std\": 115,\n        \"min\": 0,\n        \"max\": 846,\n        \"num_unique_values\": 186,\n        \"samples\": [\n          52,\n          41,\n          183\n        ],\n        \"semantic_type\": \"\",\n        \"description\": \"\"\n      }\n    },\n    {\n      \"column\": \"mass\",\n      \"properties\": {\n        \"dtype\": \"number\",\n        \"std\": 7.8841603203754405,\n        \"min\": 0.0,\n        \"max\": 67.1,\n        \"num_unique_values\": 248,\n        \"samples\": [\n          19.9,\n          31.0,\n          38.1\n        ],\n        \"semantic_type\": \"\",\n        \"description\": \"\"\n      }\n    },\n    {\n      \"column\": \"pedi\",\n      \"properties\": {\n        \"dtype\": \"number\",\n        \"std\": 0.33132859501277484,\n        \"min\": 0.078,\n        \"max\": 2.42,\n        \"num_unique_values\": 517,\n        \"samples\": [\n          1.731,\n          0.426,\n          0.138\n        ],\n        \"semantic_type\": \"\",\n        \"description\": \"\"\n      }\n    },\n    {\n      \"column\": \"age\",\n      \"properties\": {\n        \"dtype\": \"number\",\n        \"std\": 11,\n        \"min\": 21,\n        \"max\": 81,\n        \"num_unique_values\": 52,\n        \"samples\": [\n          60,\n          47,\n          72\n        ],\n        \"semantic_type\": \"\",\n        \"description\": \"\"\n      }\n    },\n    {\n      \"column\": \"target\",\n      \"properties\": {\n        \"dtype\": \"category\",\n        \"num_unique_values\": 2,\n        \"samples\": [\n          \"tested_negative\",\n          \"tested_positive\"\n        ],\n        \"semantic_type\": \"\",\n        \"description\": \"\"\n      }\n    },\n    {\n      \"column\": \"target_encoded\",\n      \"properties\": {\n        \"dtype\": \"number\",\n        \"std\": 0,\n        \"min\": 0,\n        \"max\": 1,\n        \"num_unique_values\": 2,\n        \"samples\": [\n          0,\n          1\n        ],\n        \"semantic_type\": \"\",\n        \"description\": \"\"\n      }\n    }\n  ]\n}"
            }
          },
          "metadata": {},
          "execution_count": 62
        }
      ],
      "source": [
        "new_df = transform_data(dataset, normalize=False)\n",
        "new_df.head()"
      ]
    },
    {
      "cell_type": "code",
      "execution_count": 52,
      "metadata": {
        "id": "YwKoGm2txU99"
      },
      "outputs": [],
      "source": [
        "new_df.head()\n",
        "\n",
        "#removendo a coluna target original que continha strings\n",
        "new_df = new_df.drop(columns=[\"target\"])"
      ]
    },
    {
      "cell_type": "code",
      "execution_count": 53,
      "metadata": {
        "colab": {
          "base_uri": "https://localhost:8080/"
        },
        "id": "JQQacqWGgPVz",
        "outputId": "cf458539-b215-4d8b-fe62-03d93db4129c"
      },
      "outputs": [
        {
          "output_type": "stream",
          "name": "stdout",
          "text": [
            "Index(['preg', 'plas', 'pres', 'skin', 'insu', 'mass', 'pedi', 'age',\n",
            "       'target_encoded'],\n",
            "      dtype='object')\n",
            "Binary classification\n"
          ]
        }
      ],
      "source": [
        "\n",
        "print(new_df.columns)\n",
        "X = new_df.values[:,:-1].astype('float')\n",
        "target = new_df.values[:,-1]\n",
        "\n",
        "encoder = LabelEncoder()\n",
        "y = encoder.fit_transform(target)\n",
        "\n",
        "n_input = X.shape[1]\n",
        "\n",
        "if np.unique(y).shape[0] <= 2:\n",
        "  print('Binary classification')\n",
        "  n_output = 1\n",
        "  binary = True\n",
        "else:\n",
        "  print('Multiclass classification')\n",
        "  n_output = len(encoder.classes_)\n",
        "  binary = False\n",
        "  #y = np.eye(n_output)[y]"
      ]
    },
    {
      "cell_type": "code",
      "execution_count": 54,
      "metadata": {
        "id": "9zA-7VamxU99"
      },
      "outputs": [],
      "source": [
        "batch_size = 32\n",
        "epochs = 170"
      ]
    },
    {
      "cell_type": "code",
      "execution_count": 55,
      "metadata": {
        "id": "bpOpmNongPV1"
      },
      "outputs": [],
      "source": [
        "X_train, X_test, y_train, y_test = train_test_split(X,y,test_size=0.2,random_state=42)\n",
        "X_train, X_val, y_train, y_val = train_test_split(X_train,y_train,test_size=0.2,random_state=42)"
      ]
    },
    {
      "cell_type": "code",
      "execution_count": null,
      "metadata": {
        "id": "7pFZGEEoxU99"
      },
      "outputs": [],
      "source": [
        "\n",
        "#Para o caso de múltiplas classes\n",
        "#train_dataset = CustomDataset(torch.from_numpy(X_train).float(), torch.from_numpy(y_train).long())\n",
        "#val_dataset = CustomDataset(torch.from_numpy(X_val).float(), torch.from_numpy(y_val).long())\n",
        "#test_dataset = CustomDataset(torch.from_numpy(X_test).float(), torch.from_numpy(y_test).long())\n",
        "\n"
      ]
    },
    {
      "cell_type": "code",
      "execution_count": 56,
      "metadata": {
        "id": "VsISdAV4xU9-"
      },
      "outputs": [],
      "source": [
        "#Para o caso binário\n",
        "if binary:\n",
        "    train_dataset = CustomDataset(torch.from_numpy(X_train).float(), torch.from_numpy(y_train).float().unsqueeze(1))\n",
        "    val_dataset = CustomDataset(torch.from_numpy(X_val).float(), torch.from_numpy(y_val).float().unsqueeze(1))\n",
        "    test_dataset = CustomDataset(torch.from_numpy(X_test).float(), torch.from_numpy(y_test).float().unsqueeze(1))\n",
        "else:\n",
        "    train_dataset = CustomDataset(torch.from_numpy(X_train).float(), torch.from_numpy(y_train).long())\n",
        "    val_dataset = CustomDataset(torch.from_numpy(X_val).float(), torch.from_numpy(y_val).long())\n",
        "    test_dataset = CustomDataset(torch.from_numpy(X_test).float(), torch.from_numpy(y_test).long())\n",
        "\n",
        "train_loader = DataLoader(dataset=train_dataset,batch_size=batch_size)\n",
        "val_loader = DataLoader(dataset=val_dataset, batch_size=1)\n",
        "test_loader = DataLoader(dataset=test_dataset, batch_size=1)"
      ]
    },
    {
      "cell_type": "code",
      "execution_count": 57,
      "metadata": {
        "colab": {
          "base_uri": "https://localhost:8080/"
        },
        "id": "Je7McMBPxU9-",
        "outputId": "42e0207e-ad89-439d-89d9-186b95dea916"
      },
      "outputs": [
        {
          "output_type": "execute_result",
          "data": {
            "text/plain": [
              "tensor([[  3.0000, 128.0000,  78.0000,  ...,  21.1000,   0.2680,  55.0000],\n",
              "        [  4.0000,  95.0000,  60.0000,  ...,  35.4000,   0.2840,  28.0000],\n",
              "        [  1.0000, 163.0000,  72.0000,  ...,  39.0000,   1.2220,  33.0000],\n",
              "        ...,\n",
              "        [  2.0000,  90.0000,  68.0000,  ...,  38.2000,   0.5030,  27.0000],\n",
              "        [  5.0000, 116.0000,  74.0000,  ...,  32.3000,   0.6600,  35.0000],\n",
              "        [  4.0000, 116.0000,  72.0000,  ...,  22.1000,   0.4630,  37.0000]])"
            ]
          },
          "metadata": {},
          "execution_count": 57
        }
      ],
      "source": [
        "train_dataset.X_data"
      ]
    },
    {
      "cell_type": "code",
      "execution_count": 58,
      "metadata": {
        "id": "xREE_DzsxU9-"
      },
      "outputs": [],
      "source": [
        "model = NeuralNetwork(n_input = n_input, n_output=n_output,output_activation='sigmoid')"
      ]
    },
    {
      "cell_type": "code",
      "execution_count": 59,
      "metadata": {
        "id": "G5A2sjaCgPV5",
        "colab": {
          "base_uri": "https://localhost:8080/",
          "height": 1000,
          "referenced_widgets": [
            "1d8f547e210e4feab20a032c464dee9d",
            "ae0620622e4444839e1af940f9046165",
            "db085553dfd94db2a2c3c47f64943bc7",
            "b7fdf20437474bcfa56664dff4d0d39c",
            "a50d7daf2efe44ba8daafd58c024502e",
            "b58334102257401a8b447fb1661ab493",
            "aa3c037bdf2e4228adbd340918eb7e6b",
            "6bd8d97526be4cba9978cec3a8e1900e",
            "35a381a161714a859f5aabf7263d8a74",
            "713d769da71042b48a8b08067fa239c1",
            "4ec8ac0a75624d9aae265e0de1e86ca5"
          ]
        },
        "outputId": "bf85e2cc-59b7-428b-9aba-a4ebd31eff8e"
      },
      "outputs": [
        {
          "output_type": "display_data",
          "data": {
            "text/plain": [
              "  0%|          | 0/250 [00:00<?, ?it/s]"
            ],
            "application/vnd.jupyter.widget-view+json": {
              "version_major": 2,
              "version_minor": 0,
              "model_id": "1d8f547e210e4feab20a032c464dee9d"
            }
          },
          "metadata": {}
        },
        {
          "output_type": "stream",
          "name": "stdout",
          "text": [
            "Epoch 001: | Train Loss: 2.287 | Val Loss: 0.8019 | Train Acc: 59.6875| Val Acc: 46.0000\n",
            "Epoch 002: | Train Loss: 0.662 | Val Loss: 0.7051 | Train Acc: 63.6875| Val Acc: 54.0000\n",
            "Epoch 003: | Train Loss: 0.641 | Val Loss: 0.6779 | Train Acc: 64.5625| Val Acc: 56.0000\n",
            "Epoch 004: | Train Loss: 0.624 | Val Loss: 0.6858 | Train Acc: 65.0625| Val Acc: 55.0000\n",
            "Epoch 005: | Train Loss: 0.623 | Val Loss: 0.6793 | Train Acc: 66.0625| Val Acc: 58.0000\n",
            "Epoch 006: | Train Loss: 0.618 | Val Loss: 0.6792 | Train Acc: 66.5000| Val Acc: 59.0000\n",
            "Epoch 007: | Train Loss: 0.615 | Val Loss: 0.7325 | Train Acc: 66.6875| Val Acc: 63.0000\n",
            "Epoch 008: | Train Loss: 0.619 | Val Loss: 0.7086 | Train Acc: 67.0625| Val Acc: 63.0000\n",
            "Epoch 009: | Train Loss: 0.616 | Val Loss: 0.7021 | Train Acc: 67.2500| Val Acc: 63.0000\n",
            "Epoch 010: | Train Loss: 0.614 | Val Loss: 0.7003 | Train Acc: 67.2500| Val Acc: 64.0000\n",
            "Epoch 011: | Train Loss: 0.613 | Val Loss: 0.6991 | Train Acc: 67.6875| Val Acc: 63.0000\n",
            "Epoch 012: | Train Loss: 0.612 | Val Loss: 0.6976 | Train Acc: 67.8750| Val Acc: 63.0000\n",
            "Epoch 013: | Train Loss: 0.611 | Val Loss: 0.6988 | Train Acc: 66.5625| Val Acc: 63.0000\n",
            "Epoch 014: | Train Loss: 0.610 | Val Loss: 0.6979 | Train Acc: 67.1250| Val Acc: 63.0000\n",
            "Epoch 015: | Train Loss: 0.609 | Val Loss: 0.6978 | Train Acc: 67.1250| Val Acc: 63.0000\n",
            "Epoch 016: | Train Loss: 0.609 | Val Loss: 0.6952 | Train Acc: 67.5000| Val Acc: 65.0000\n",
            "Epoch 017: | Train Loss: 0.609 | Val Loss: 0.6912 | Train Acc: 67.2500| Val Acc: 65.0000\n",
            "Epoch 018: | Train Loss: 0.606 | Val Loss: 0.6867 | Train Acc: 67.0625| Val Acc: 64.0000\n",
            "Epoch 019: | Train Loss: 0.606 | Val Loss: 0.6861 | Train Acc: 67.2500| Val Acc: 65.0000\n",
            "Epoch 020: | Train Loss: 0.607 | Val Loss: 0.6852 | Train Acc: 67.8750| Val Acc: 66.0000\n",
            "Epoch 021: | Train Loss: 0.606 | Val Loss: 0.6839 | Train Acc: 67.6875| Val Acc: 66.0000\n",
            "Epoch 022: | Train Loss: 0.605 | Val Loss: 0.6837 | Train Acc: 67.6250| Val Acc: 66.0000\n",
            "Epoch 023: | Train Loss: 0.605 | Val Loss: 0.6828 | Train Acc: 67.6250| Val Acc: 66.0000\n",
            "Epoch 024: | Train Loss: 0.604 | Val Loss: 0.6815 | Train Acc: 67.6250| Val Acc: 66.0000\n",
            "Epoch 025: | Train Loss: 0.603 | Val Loss: 0.6850 | Train Acc: 68.2500| Val Acc: 66.0000\n",
            "Epoch 026: | Train Loss: 0.602 | Val Loss: 0.6863 | Train Acc: 68.6875| Val Acc: 66.0000\n",
            "Epoch 027: | Train Loss: 0.601 | Val Loss: 0.6875 | Train Acc: 68.6875| Val Acc: 66.0000\n",
            "Epoch 028: | Train Loss: 0.600 | Val Loss: 0.6881 | Train Acc: 68.3125| Val Acc: 66.0000\n",
            "Epoch 029: | Train Loss: 0.600 | Val Loss: 0.6879 | Train Acc: 68.3125| Val Acc: 67.0000\n",
            "Epoch 030: | Train Loss: 0.600 | Val Loss: 0.6880 | Train Acc: 67.9375| Val Acc: 67.0000\n",
            "Epoch 031: | Train Loss: 0.598 | Val Loss: 0.6861 | Train Acc: 68.0625| Val Acc: 67.0000\n",
            "Epoch 032: | Train Loss: 0.598 | Val Loss: 0.6858 | Train Acc: 68.2500| Val Acc: 67.0000\n",
            "Epoch 033: | Train Loss: 0.597 | Val Loss: 0.6853 | Train Acc: 68.2500| Val Acc: 67.0000\n",
            "Epoch 034: | Train Loss: 0.597 | Val Loss: 0.6849 | Train Acc: 68.2500| Val Acc: 66.0000\n",
            "Epoch 035: | Train Loss: 0.597 | Val Loss: 0.6825 | Train Acc: 68.0000| Val Acc: 66.0000\n",
            "Epoch 036: | Train Loss: 0.596 | Val Loss: 0.6829 | Train Acc: 68.2500| Val Acc: 66.0000\n",
            "Epoch 037: | Train Loss: 0.596 | Val Loss: 0.6826 | Train Acc: 68.2500| Val Acc: 66.0000\n",
            "Epoch 038: | Train Loss: 0.595 | Val Loss: 0.6811 | Train Acc: 68.2500| Val Acc: 66.0000\n",
            "Epoch 039: | Train Loss: 0.594 | Val Loss: 0.6804 | Train Acc: 68.2500| Val Acc: 67.0000\n",
            "Epoch 040: | Train Loss: 0.593 | Val Loss: 0.6793 | Train Acc: 68.2500| Val Acc: 66.0000\n",
            "Epoch 041: | Train Loss: 0.593 | Val Loss: 0.6788 | Train Acc: 68.6250| Val Acc: 67.0000\n",
            "Epoch 042: | Train Loss: 0.592 | Val Loss: 0.6780 | Train Acc: 68.4375| Val Acc: 67.0000\n",
            "Epoch 043: | Train Loss: 0.594 | Val Loss: 0.6813 | Train Acc: 68.3750| Val Acc: 65.0000\n",
            "Epoch 044: | Train Loss: 0.593 | Val Loss: 0.6798 | Train Acc: 68.5000| Val Acc: 66.0000\n",
            "Epoch 045: | Train Loss: 0.592 | Val Loss: 0.6798 | Train Acc: 68.8750| Val Acc: 66.0000\n",
            "Epoch 046: | Train Loss: 0.592 | Val Loss: 0.6804 | Train Acc: 68.6875| Val Acc: 66.0000\n",
            "Epoch 047: | Train Loss: 0.591 | Val Loss: 0.6795 | Train Acc: 68.3125| Val Acc: 67.0000\n",
            "Epoch 048: | Train Loss: 0.590 | Val Loss: 0.6778 | Train Acc: 68.9375| Val Acc: 67.0000\n",
            "Epoch 049: | Train Loss: 0.590 | Val Loss: 0.6762 | Train Acc: 68.5625| Val Acc: 66.0000\n",
            "Epoch 050: | Train Loss: 0.586 | Val Loss: 0.6728 | Train Acc: 68.9375| Val Acc: 69.0000\n",
            "Epoch 051: | Train Loss: 0.586 | Val Loss: 0.6751 | Train Acc: 68.5000| Val Acc: 68.0000\n",
            "Epoch 052: | Train Loss: 0.587 | Val Loss: 0.6737 | Train Acc: 68.9375| Val Acc: 68.0000\n",
            "Epoch 053: | Train Loss: 0.586 | Val Loss: 0.6727 | Train Acc: 68.8750| Val Acc: 68.0000\n",
            "Epoch 054: | Train Loss: 0.585 | Val Loss: 0.6718 | Train Acc: 68.8125| Val Acc: 68.0000\n",
            "Epoch 055: | Train Loss: 0.584 | Val Loss: 0.6701 | Train Acc: 69.0000| Val Acc: 66.0000\n",
            "Epoch 056: | Train Loss: 0.584 | Val Loss: 0.6676 | Train Acc: 69.0625| Val Acc: 67.0000\n",
            "Epoch 057: | Train Loss: 0.583 | Val Loss: 0.6671 | Train Acc: 68.6875| Val Acc: 67.0000\n",
            "Epoch 058: | Train Loss: 0.582 | Val Loss: 0.6697 | Train Acc: 69.0000| Val Acc: 67.0000\n",
            "Epoch 059: | Train Loss: 0.583 | Val Loss: 0.6681 | Train Acc: 69.0625| Val Acc: 66.0000\n",
            "Epoch 060: | Train Loss: 0.582 | Val Loss: 0.6657 | Train Acc: 68.6250| Val Acc: 67.0000\n",
            "Epoch 061: | Train Loss: 0.581 | Val Loss: 0.6650 | Train Acc: 68.8125| Val Acc: 68.0000\n",
            "Epoch 062: | Train Loss: 0.580 | Val Loss: 0.6641 | Train Acc: 69.2500| Val Acc: 67.0000\n",
            "Epoch 063: | Train Loss: 0.579 | Val Loss: 0.6656 | Train Acc: 68.8125| Val Acc: 67.0000\n",
            "Epoch 064: | Train Loss: 0.580 | Val Loss: 0.6233 | Train Acc: 69.0625| Val Acc: 68.0000\n",
            "Epoch 065: | Train Loss: 0.574 | Val Loss: 0.6270 | Train Acc: 69.2500| Val Acc: 67.0000\n",
            "Epoch 066: | Train Loss: 0.573 | Val Loss: 0.6298 | Train Acc: 69.0625| Val Acc: 64.0000\n",
            "Epoch 067: | Train Loss: 0.573 | Val Loss: 0.6302 | Train Acc: 68.8750| Val Acc: 65.0000\n",
            "Epoch 068: | Train Loss: 0.573 | Val Loss: 0.6291 | Train Acc: 68.6875| Val Acc: 66.0000\n",
            "Epoch 069: | Train Loss: 0.572 | Val Loss: 0.6344 | Train Acc: 69.6250| Val Acc: 64.0000\n",
            "Epoch 070: | Train Loss: 0.574 | Val Loss: 0.6308 | Train Acc: 68.3125| Val Acc: 66.0000\n",
            "Epoch 071: | Train Loss: 0.572 | Val Loss: 0.6301 | Train Acc: 68.6875| Val Acc: 66.0000\n",
            "Epoch 072: | Train Loss: 0.574 | Val Loss: 0.6292 | Train Acc: 69.3125| Val Acc: 66.0000\n",
            "Epoch 073: | Train Loss: 0.572 | Val Loss: 0.6285 | Train Acc: 69.0625| Val Acc: 67.0000\n",
            "Epoch 074: | Train Loss: 0.571 | Val Loss: 0.6360 | Train Acc: 69.6875| Val Acc: 66.0000\n",
            "Epoch 075: | Train Loss: 0.571 | Val Loss: 0.6344 | Train Acc: 68.8750| Val Acc: 66.0000\n",
            "Epoch 076: | Train Loss: 0.570 | Val Loss: 0.6350 | Train Acc: 69.2500| Val Acc: 66.0000\n",
            "Epoch 077: | Train Loss: 0.570 | Val Loss: 0.6340 | Train Acc: 69.2500| Val Acc: 67.0000\n",
            "Epoch 078: | Train Loss: 0.570 | Val Loss: 0.6271 | Train Acc: 68.9375| Val Acc: 69.0000\n",
            "Epoch 079: | Train Loss: 0.568 | Val Loss: 0.6287 | Train Acc: 69.1250| Val Acc: 68.0000\n",
            "Epoch 080: | Train Loss: 0.570 | Val Loss: 0.6310 | Train Acc: 69.3125| Val Acc: 68.0000\n",
            "Epoch 081: | Train Loss: 0.572 | Val Loss: 0.6374 | Train Acc: 69.8750| Val Acc: 67.0000\n",
            "Epoch 082: | Train Loss: 0.569 | Val Loss: 0.6300 | Train Acc: 69.1250| Val Acc: 67.0000\n",
            "Epoch 083: | Train Loss: 0.569 | Val Loss: 0.6342 | Train Acc: 69.1250| Val Acc: 68.0000\n",
            "Epoch 084: | Train Loss: 0.568 | Val Loss: 0.6289 | Train Acc: 69.1250| Val Acc: 67.0000\n",
            "Epoch 085: | Train Loss: 0.567 | Val Loss: 0.6288 | Train Acc: 69.1250| Val Acc: 67.0000\n",
            "Epoch 086: | Train Loss: 0.567 | Val Loss: 0.6839 | Train Acc: 69.3125| Val Acc: 67.0000\n",
            "Epoch 087: | Train Loss: 0.572 | Val Loss: 0.6724 | Train Acc: 69.2500| Val Acc: 67.0000\n",
            "Epoch 088: | Train Loss: 0.570 | Val Loss: 0.6717 | Train Acc: 68.5000| Val Acc: 67.0000\n",
            "Epoch 089: | Train Loss: 0.569 | Val Loss: 0.6708 | Train Acc: 69.2500| Val Acc: 67.0000\n",
            "Epoch 090: | Train Loss: 0.570 | Val Loss: 0.6781 | Train Acc: 69.2500| Val Acc: 67.0000\n",
            "Epoch 091: | Train Loss: 0.570 | Val Loss: 0.6766 | Train Acc: 68.6875| Val Acc: 67.0000\n",
            "Epoch 092: | Train Loss: 0.569 | Val Loss: 0.6763 | Train Acc: 68.9375| Val Acc: 67.0000\n",
            "Epoch 093: | Train Loss: 0.569 | Val Loss: 0.6765 | Train Acc: 68.9375| Val Acc: 67.0000\n",
            "Epoch 094: | Train Loss: 0.569 | Val Loss: 0.6765 | Train Acc: 68.9375| Val Acc: 69.0000\n",
            "Epoch 095: | Train Loss: 0.568 | Val Loss: 0.6765 | Train Acc: 68.9375| Val Acc: 69.0000\n",
            "Epoch 096: | Train Loss: 0.568 | Val Loss: 0.6818 | Train Acc: 69.3125| Val Acc: 67.0000\n",
            "Epoch 097: | Train Loss: 0.569 | Val Loss: 0.6779 | Train Acc: 68.5625| Val Acc: 68.0000\n",
            "Epoch 098: | Train Loss: 0.569 | Val Loss: 0.6769 | Train Acc: 69.3125| Val Acc: 69.0000\n",
            "Epoch 099: | Train Loss: 0.569 | Val Loss: 0.6750 | Train Acc: 69.3125| Val Acc: 69.0000\n",
            "Epoch 100: | Train Loss: 0.569 | Val Loss: 0.6685 | Train Acc: 68.7500| Val Acc: 69.0000\n",
            "Epoch 101: | Train Loss: 0.567 | Val Loss: 0.6722 | Train Acc: 68.9375| Val Acc: 67.0000\n",
            "Epoch 102: | Train Loss: 0.565 | Val Loss: 0.6741 | Train Acc: 69.5000| Val Acc: 67.0000\n",
            "Epoch 103: | Train Loss: 0.565 | Val Loss: 0.6741 | Train Acc: 69.3125| Val Acc: 67.0000\n",
            "Epoch 104: | Train Loss: 0.565 | Val Loss: 0.6739 | Train Acc: 69.5000| Val Acc: 67.0000\n",
            "Epoch 105: | Train Loss: 0.567 | Val Loss: 0.6722 | Train Acc: 69.3125| Val Acc: 68.0000\n",
            "Epoch 106: | Train Loss: 0.570 | Val Loss: 0.6695 | Train Acc: 68.9375| Val Acc: 69.0000\n",
            "Epoch 107: | Train Loss: 0.569 | Val Loss: 0.6714 | Train Acc: 68.9375| Val Acc: 69.0000\n",
            "Epoch 108: | Train Loss: 0.569 | Val Loss: 0.6700 | Train Acc: 69.1250| Val Acc: 69.0000\n",
            "Epoch 109: | Train Loss: 0.569 | Val Loss: 0.6682 | Train Acc: 69.1250| Val Acc: 69.0000\n",
            "Epoch 110: | Train Loss: 0.575 | Val Loss: 0.6572 | Train Acc: 69.1250| Val Acc: 68.0000\n",
            "Epoch 111: | Train Loss: 0.567 | Val Loss: 0.6692 | Train Acc: 69.6875| Val Acc: 69.0000\n",
            "Epoch 112: | Train Loss: 0.566 | Val Loss: 0.6716 | Train Acc: 69.5000| Val Acc: 69.0000\n",
            "Epoch 113: | Train Loss: 0.566 | Val Loss: 0.6718 | Train Acc: 69.5000| Val Acc: 68.0000\n",
            "Epoch 114: | Train Loss: 0.566 | Val Loss: 0.6719 | Train Acc: 69.6875| Val Acc: 68.0000\n",
            "Epoch 115: | Train Loss: 0.566 | Val Loss: 0.6718 | Train Acc: 69.6875| Val Acc: 68.0000\n",
            "Epoch 116: | Train Loss: 0.565 | Val Loss: 0.6715 | Train Acc: 69.6875| Val Acc: 68.0000\n",
            "Epoch 117: | Train Loss: 0.565 | Val Loss: 0.6674 | Train Acc: 69.8750| Val Acc: 69.0000\n",
            "Epoch 118: | Train Loss: 0.564 | Val Loss: 0.6670 | Train Acc: 69.8750| Val Acc: 69.0000\n",
            "Epoch 119: | Train Loss: 0.564 | Val Loss: 0.6670 | Train Acc: 69.8750| Val Acc: 69.0000\n",
            "Epoch 120: | Train Loss: 0.564 | Val Loss: 0.6671 | Train Acc: 69.8750| Val Acc: 70.0000\n",
            "Epoch 121: | Train Loss: 0.564 | Val Loss: 0.6667 | Train Acc: 69.8750| Val Acc: 70.0000\n",
            "Epoch 122: | Train Loss: 0.563 | Val Loss: 0.6665 | Train Acc: 69.8750| Val Acc: 70.0000\n",
            "Epoch 123: | Train Loss: 0.564 | Val Loss: 0.6653 | Train Acc: 69.8750| Val Acc: 70.0000\n",
            "Epoch 124: | Train Loss: 0.564 | Val Loss: 0.6649 | Train Acc: 69.8750| Val Acc: 70.0000\n",
            "Epoch 125: | Train Loss: 0.566 | Val Loss: 0.6724 | Train Acc: 69.8750| Val Acc: 69.0000\n",
            "Epoch 126: | Train Loss: 0.564 | Val Loss: 0.6644 | Train Acc: 70.0625| Val Acc: 70.0000\n",
            "Epoch 127: | Train Loss: 0.566 | Val Loss: 0.6719 | Train Acc: 70.0625| Val Acc: 69.0000\n",
            "Epoch 128: | Train Loss: 0.568 | Val Loss: 0.6272 | Train Acc: 70.0625| Val Acc: 71.0000\n",
            "Epoch 129: | Train Loss: 0.558 | Val Loss: 0.6680 | Train Acc: 70.2500| Val Acc: 70.0000\n",
            "Epoch 130: | Train Loss: 0.567 | Val Loss: 0.6282 | Train Acc: 70.0625| Val Acc: 70.0000\n",
            "Epoch 131: | Train Loss: 0.558 | Val Loss: 0.6673 | Train Acc: 70.4375| Val Acc: 70.0000\n",
            "Epoch 132: | Train Loss: 0.567 | Val Loss: 0.6279 | Train Acc: 69.8750| Val Acc: 70.0000\n",
            "Epoch 133: | Train Loss: 0.558 | Val Loss: 0.6670 | Train Acc: 70.4375| Val Acc: 70.0000\n",
            "Epoch 134: | Train Loss: 0.567 | Val Loss: 0.6278 | Train Acc: 69.6875| Val Acc: 70.0000\n",
            "Epoch 135: | Train Loss: 0.558 | Val Loss: 0.6667 | Train Acc: 70.2500| Val Acc: 70.0000\n",
            "Epoch 136: | Train Loss: 0.565 | Val Loss: 0.6712 | Train Acc: 69.5000| Val Acc: 69.0000\n",
            "Epoch 137: | Train Loss: 0.563 | Val Loss: 0.6626 | Train Acc: 69.5000| Val Acc: 70.0000\n",
            "Epoch 138: | Train Loss: 0.562 | Val Loss: 0.6630 | Train Acc: 69.6875| Val Acc: 70.0000\n",
            "Epoch 139: | Train Loss: 0.565 | Val Loss: 0.6700 | Train Acc: 69.6875| Val Acc: 69.0000\n",
            "Epoch 140: | Train Loss: 0.563 | Val Loss: 0.6623 | Train Acc: 69.6875| Val Acc: 70.0000\n",
            "Epoch 141: | Train Loss: 0.564 | Val Loss: 0.6693 | Train Acc: 69.6875| Val Acc: 69.0000\n",
            "Epoch 142: | Train Loss: 0.562 | Val Loss: 0.6624 | Train Acc: 69.6875| Val Acc: 70.0000\n",
            "Epoch 143: | Train Loss: 0.564 | Val Loss: 0.6691 | Train Acc: 69.8750| Val Acc: 69.0000\n",
            "Epoch 144: | Train Loss: 0.562 | Val Loss: 0.6624 | Train Acc: 69.8750| Val Acc: 70.0000\n",
            "Epoch 145: | Train Loss: 0.564 | Val Loss: 0.6699 | Train Acc: 69.6875| Val Acc: 69.0000\n",
            "Epoch 146: | Train Loss: 0.562 | Val Loss: 0.6622 | Train Acc: 69.6875| Val Acc: 70.0000\n",
            "Epoch 147: | Train Loss: 0.564 | Val Loss: 0.6698 | Train Acc: 69.8750| Val Acc: 69.0000\n",
            "Epoch 148: | Train Loss: 0.562 | Val Loss: 0.6622 | Train Acc: 70.0625| Val Acc: 70.0000\n",
            "Epoch 149: | Train Loss: 0.564 | Val Loss: 0.6693 | Train Acc: 69.8750| Val Acc: 69.0000\n",
            "Epoch 150: | Train Loss: 0.566 | Val Loss: 0.6254 | Train Acc: 70.0625| Val Acc: 69.0000\n",
            "Epoch 151: | Train Loss: 0.561 | Val Loss: 0.6286 | Train Acc: 70.2500| Val Acc: 70.0000\n",
            "Epoch 152: | Train Loss: 0.560 | Val Loss: 0.6724 | Train Acc: 70.4375| Val Acc: 69.0000\n",
            "Epoch 153: | Train Loss: 0.565 | Val Loss: 0.6684 | Train Acc: 69.8750| Val Acc: 69.0000\n",
            "Epoch 154: | Train Loss: 0.562 | Val Loss: 0.6615 | Train Acc: 70.2500| Val Acc: 70.0000\n",
            "Epoch 155: | Train Loss: 0.564 | Val Loss: 0.6259 | Train Acc: 70.4375| Val Acc: 69.0000\n",
            "Epoch 156: | Train Loss: 0.559 | Val Loss: 0.6706 | Train Acc: 70.4375| Val Acc: 69.0000\n",
            "Epoch 157: | Train Loss: 0.565 | Val Loss: 0.6258 | Train Acc: 70.4375| Val Acc: 69.0000\n",
            "Epoch 158: | Train Loss: 0.561 | Val Loss: 0.6273 | Train Acc: 70.4375| Val Acc: 70.0000\n",
            "Epoch 159: | Train Loss: 0.561 | Val Loss: 0.6275 | Train Acc: 70.4375| Val Acc: 70.0000\n",
            "Epoch 160: | Train Loss: 0.561 | Val Loss: 0.6274 | Train Acc: 70.4375| Val Acc: 70.0000\n",
            "Epoch 161: | Train Loss: 0.561 | Val Loss: 0.6274 | Train Acc: 70.4375| Val Acc: 70.0000\n",
            "Epoch 162: | Train Loss: 0.561 | Val Loss: 0.6273 | Train Acc: 70.4375| Val Acc: 69.0000\n",
            "Epoch 163: | Train Loss: 0.561 | Val Loss: 0.6273 | Train Acc: 70.4375| Val Acc: 69.0000\n",
            "Epoch 164: | Train Loss: 0.560 | Val Loss: 0.6272 | Train Acc: 70.4375| Val Acc: 69.0000\n",
            "Epoch 165: | Train Loss: 0.557 | Val Loss: 0.6657 | Train Acc: 70.4375| Val Acc: 70.0000\n",
            "Epoch 166: | Train Loss: 0.564 | Val Loss: 0.6263 | Train Acc: 70.4375| Val Acc: 69.0000\n",
            "Epoch 167: | Train Loss: 0.560 | Val Loss: 0.6271 | Train Acc: 70.4375| Val Acc: 69.0000\n",
            "Epoch 168: | Train Loss: 0.556 | Val Loss: 0.6648 | Train Acc: 70.4375| Val Acc: 70.0000\n",
            "Epoch 169: | Train Loss: 0.563 | Val Loss: 0.6263 | Train Acc: 70.4375| Val Acc: 69.0000\n",
            "Epoch 170: | Train Loss: 0.560 | Val Loss: 0.6271 | Train Acc: 70.4375| Val Acc: 69.0000\n",
            "Epoch 171: | Train Loss: 0.556 | Val Loss: 0.6646 | Train Acc: 70.4375| Val Acc: 70.0000\n",
            "Epoch 172: | Train Loss: 0.559 | Val Loss: 0.6632 | Train Acc: 70.4375| Val Acc: 70.0000\n",
            "Epoch 173: | Train Loss: 0.563 | Val Loss: 0.6262 | Train Acc: 70.2500| Val Acc: 69.0000\n",
            "Epoch 174: | Train Loss: 0.556 | Val Loss: 0.6651 | Train Acc: 70.6250| Val Acc: 70.0000\n",
            "Epoch 175: | Train Loss: 0.563 | Val Loss: 0.6265 | Train Acc: 70.4375| Val Acc: 69.0000\n",
            "Epoch 176: | Train Loss: 0.559 | Val Loss: 0.6271 | Train Acc: 70.6250| Val Acc: 69.0000\n",
            "Epoch 177: | Train Loss: 0.556 | Val Loss: 0.6644 | Train Acc: 70.4375| Val Acc: 69.0000\n",
            "Epoch 178: | Train Loss: 0.563 | Val Loss: 0.6261 | Train Acc: 70.2500| Val Acc: 69.0000\n",
            "Epoch 179: | Train Loss: 0.556 | Val Loss: 0.6645 | Train Acc: 70.6250| Val Acc: 70.0000\n",
            "Epoch 180: | Train Loss: 0.562 | Val Loss: 0.6262 | Train Acc: 70.4375| Val Acc: 69.0000\n",
            "Epoch 181: | Train Loss: 0.556 | Val Loss: 0.6637 | Train Acc: 70.6250| Val Acc: 70.0000\n",
            "Epoch 182: | Train Loss: 0.562 | Val Loss: 0.6624 | Train Acc: 70.4375| Val Acc: 70.0000\n",
            "Epoch 183: | Train Loss: 0.561 | Val Loss: 0.6625 | Train Acc: 70.6250| Val Acc: 70.0000\n",
            "Epoch 184: | Train Loss: 0.561 | Val Loss: 0.6606 | Train Acc: 70.4375| Val Acc: 70.0000\n",
            "Epoch 185: | Train Loss: 0.564 | Val Loss: 0.6516 | Train Acc: 69.6875| Val Acc: 72.0000\n",
            "Epoch 186: | Train Loss: 0.560 | Val Loss: 0.6593 | Train Acc: 70.4375| Val Acc: 70.0000\n",
            "Epoch 187: | Train Loss: 0.559 | Val Loss: 0.6589 | Train Acc: 70.2500| Val Acc: 70.0000\n",
            "Epoch 188: | Train Loss: 0.559 | Val Loss: 0.6601 | Train Acc: 70.2500| Val Acc: 70.0000\n",
            "Epoch 189: | Train Loss: 0.559 | Val Loss: 0.6605 | Train Acc: 70.2500| Val Acc: 70.0000\n",
            "Epoch 190: | Train Loss: 0.559 | Val Loss: 0.6607 | Train Acc: 70.4375| Val Acc: 70.0000\n",
            "Epoch 191: | Train Loss: 0.562 | Val Loss: 0.6264 | Train Acc: 70.4375| Val Acc: 69.0000\n",
            "Epoch 192: | Train Loss: 0.558 | Val Loss: 0.6273 | Train Acc: 70.6250| Val Acc: 69.0000\n",
            "Epoch 193: | Train Loss: 0.558 | Val Loss: 0.6281 | Train Acc: 71.0000| Val Acc: 69.0000\n",
            "Epoch 194: | Train Loss: 0.556 | Val Loss: 0.6699 | Train Acc: 70.6250| Val Acc: 70.0000\n",
            "Epoch 195: | Train Loss: 0.560 | Val Loss: 0.6610 | Train Acc: 70.2500| Val Acc: 70.0000\n",
            "Epoch 196: | Train Loss: 0.559 | Val Loss: 0.6600 | Train Acc: 70.4375| Val Acc: 70.0000\n",
            "Epoch 197: | Train Loss: 0.559 | Val Loss: 0.6620 | Train Acc: 70.4375| Val Acc: 70.0000\n",
            "Epoch 198: | Train Loss: 0.560 | Val Loss: 0.6597 | Train Acc: 70.4375| Val Acc: 69.0000\n",
            "Epoch 199: | Train Loss: 0.559 | Val Loss: 0.6601 | Train Acc: 70.4375| Val Acc: 70.0000\n",
            "Epoch 200: | Train Loss: 0.558 | Val Loss: 0.6588 | Train Acc: 70.4375| Val Acc: 69.0000\n",
            "Epoch 201: | Train Loss: 0.562 | Val Loss: 0.6257 | Train Acc: 70.4375| Val Acc: 69.0000\n",
            "Epoch 202: | Train Loss: 0.558 | Val Loss: 0.6269 | Train Acc: 70.6250| Val Acc: 69.0000\n",
            "Epoch 203: | Train Loss: 0.554 | Val Loss: 0.6645 | Train Acc: 70.6250| Val Acc: 69.0000\n",
            "Epoch 204: | Train Loss: 0.563 | Val Loss: 0.6613 | Train Acc: 70.4375| Val Acc: 69.0000\n",
            "Epoch 205: | Train Loss: 0.561 | Val Loss: 0.6249 | Train Acc: 70.4375| Val Acc: 69.0000\n",
            "Epoch 206: | Train Loss: 0.557 | Val Loss: 0.6264 | Train Acc: 70.8125| Val Acc: 69.0000\n",
            "Epoch 207: | Train Loss: 0.555 | Val Loss: 0.6672 | Train Acc: 70.6250| Val Acc: 70.0000\n",
            "Epoch 208: | Train Loss: 0.562 | Val Loss: 0.6249 | Train Acc: 70.4375| Val Acc: 69.0000\n",
            "Epoch 209: | Train Loss: 0.555 | Val Loss: 0.6660 | Train Acc: 70.6250| Val Acc: 70.0000\n",
            "Epoch 210: | Train Loss: 0.560 | Val Loss: 0.6606 | Train Acc: 70.4375| Val Acc: 69.0000\n",
            "Epoch 211: | Train Loss: 0.560 | Val Loss: 0.6592 | Train Acc: 70.4375| Val Acc: 69.0000\n",
            "Epoch 212: | Train Loss: 0.559 | Val Loss: 0.6589 | Train Acc: 70.4375| Val Acc: 69.0000\n",
            "Epoch 213: | Train Loss: 0.558 | Val Loss: 0.6578 | Train Acc: 70.4375| Val Acc: 70.0000\n",
            "Epoch 214: | Train Loss: 0.557 | Val Loss: 0.6582 | Train Acc: 70.4375| Val Acc: 69.0000\n",
            "Epoch 215: | Train Loss: 0.557 | Val Loss: 0.6586 | Train Acc: 70.4375| Val Acc: 69.0000\n",
            "Epoch 216: | Train Loss: 0.557 | Val Loss: 0.6587 | Train Acc: 70.4375| Val Acc: 69.0000\n",
            "Epoch 217: | Train Loss: 0.557 | Val Loss: 0.6588 | Train Acc: 70.4375| Val Acc: 69.0000\n",
            "Epoch 218: | Train Loss: 0.557 | Val Loss: 0.6588 | Train Acc: 70.4375| Val Acc: 69.0000\n",
            "Epoch 219: | Train Loss: 0.557 | Val Loss: 0.6589 | Train Acc: 70.4375| Val Acc: 69.0000\n",
            "Epoch 220: | Train Loss: 0.557 | Val Loss: 0.6590 | Train Acc: 70.4375| Val Acc: 69.0000\n",
            "Epoch 221: | Train Loss: 0.557 | Val Loss: 0.6589 | Train Acc: 70.4375| Val Acc: 69.0000\n",
            "Epoch 222: | Train Loss: 0.557 | Val Loss: 0.6591 | Train Acc: 70.4375| Val Acc: 69.0000\n",
            "Epoch 223: | Train Loss: 0.557 | Val Loss: 0.6590 | Train Acc: 70.4375| Val Acc: 69.0000\n",
            "Epoch 224: | Train Loss: 0.557 | Val Loss: 0.6591 | Train Acc: 70.8125| Val Acc: 69.0000\n",
            "Epoch 225: | Train Loss: 0.557 | Val Loss: 0.6582 | Train Acc: 70.8125| Val Acc: 68.0000\n",
            "Epoch 226: | Train Loss: 0.557 | Val Loss: 0.6579 | Train Acc: 70.8125| Val Acc: 68.0000\n",
            "Epoch 227: | Train Loss: 0.556 | Val Loss: 0.6577 | Train Acc: 70.8125| Val Acc: 69.0000\n",
            "Epoch 228: | Train Loss: 0.556 | Val Loss: 0.6576 | Train Acc: 71.0000| Val Acc: 69.0000\n",
            "Epoch 229: | Train Loss: 0.556 | Val Loss: 0.6574 | Train Acc: 71.0000| Val Acc: 69.0000\n",
            "Epoch 230: | Train Loss: 0.556 | Val Loss: 0.6572 | Train Acc: 71.0000| Val Acc: 69.0000\n",
            "Epoch 231: | Train Loss: 0.556 | Val Loss: 0.6571 | Train Acc: 71.0000| Val Acc: 70.0000\n",
            "Epoch 232: | Train Loss: 0.556 | Val Loss: 0.6570 | Train Acc: 71.0000| Val Acc: 70.0000\n",
            "Epoch 233: | Train Loss: 0.556 | Val Loss: 0.6568 | Train Acc: 71.0000| Val Acc: 70.0000\n",
            "Epoch 234: | Train Loss: 0.556 | Val Loss: 0.6567 | Train Acc: 71.0000| Val Acc: 70.0000\n",
            "Epoch 235: | Train Loss: 0.558 | Val Loss: 0.6578 | Train Acc: 71.0000| Val Acc: 70.0000\n",
            "Epoch 236: | Train Loss: 0.558 | Val Loss: 0.6572 | Train Acc: 71.0000| Val Acc: 70.0000\n",
            "Epoch 237: | Train Loss: 0.557 | Val Loss: 0.6569 | Train Acc: 71.0000| Val Acc: 70.0000\n",
            "Epoch 238: | Train Loss: 0.557 | Val Loss: 0.6568 | Train Acc: 71.0000| Val Acc: 70.0000\n",
            "Epoch 239: | Train Loss: 0.556 | Val Loss: 0.6556 | Train Acc: 71.0000| Val Acc: 70.0000\n",
            "Epoch 240: | Train Loss: 0.557 | Val Loss: 0.6569 | Train Acc: 71.0000| Val Acc: 70.0000\n",
            "Epoch 241: | Train Loss: 0.557 | Val Loss: 0.6564 | Train Acc: 71.0000| Val Acc: 70.0000\n",
            "Epoch 242: | Train Loss: 0.557 | Val Loss: 0.6563 | Train Acc: 71.0000| Val Acc: 70.0000\n",
            "Epoch 243: | Train Loss: 0.558 | Val Loss: 0.6556 | Train Acc: 70.8125| Val Acc: 70.0000\n",
            "Epoch 244: | Train Loss: 0.559 | Val Loss: 0.6555 | Train Acc: 70.8125| Val Acc: 71.0000\n",
            "Epoch 245: | Train Loss: 0.560 | Val Loss: 0.6568 | Train Acc: 70.8125| Val Acc: 70.0000\n",
            "Epoch 246: | Train Loss: 0.559 | Val Loss: 0.6551 | Train Acc: 70.8125| Val Acc: 71.0000\n",
            "Epoch 247: | Train Loss: 0.558 | Val Loss: 0.6553 | Train Acc: 70.8125| Val Acc: 71.0000\n",
            "Epoch 248: | Train Loss: 0.556 | Val Loss: 0.6538 | Train Acc: 70.8125| Val Acc: 70.0000\n",
            "Epoch 249: | Train Loss: 0.556 | Val Loss: 0.6534 | Train Acc: 70.8125| Val Acc: 70.0000\n",
            "Epoch 250: | Train Loss: 0.556 | Val Loss: 0.6533 | Train Acc: 70.8125| Val Acc: 70.0000\n"
          ]
        }
      ],
      "source": [
        "lr = 0.01\n",
        "epochs = 250\n",
        "\n",
        "history, y_hat = train(model, train_loader, val_dataset, epochs=epochs, lr=lr, device=device, binary=binary)"
      ]
    },
    {
      "cell_type": "code",
      "execution_count": 60,
      "metadata": {
        "id": "aCDR37-ZxU9-"
      },
      "outputs": [],
      "source": [
        "y_pred = model.predict(test_dataset.X_data, binary=binary)"
      ]
    },
    {
      "cell_type": "code",
      "execution_count": 61,
      "metadata": {
        "colab": {
          "base_uri": "https://localhost:8080/",
          "height": 798
        },
        "id": "4QVHPhoSxU9-",
        "outputId": "36489303-20fe-42ac-dff4-fb1b2aad93c1"
      },
      "outputs": [
        {
          "output_type": "stream",
          "name": "stdout",
          "text": [
            "              precision    recall  f1-score   support\n",
            "\n",
            "           0       0.69      0.91      0.79        99\n",
            "           1       0.62      0.27      0.38        55\n",
            "\n",
            "    accuracy                           0.68       154\n",
            "   macro avg       0.66      0.59      0.58       154\n",
            "weighted avg       0.67      0.68      0.64       154\n",
            "\n"
          ]
        },
        {
          "output_type": "display_data",
          "data": {
            "text/plain": [
              "<Figure size 800x600 with 2 Axes>"
            ],
            "image/png": "[encoded data removed]"
          },
          "metadata": {}
        }
      ],
      "source": [
        "print(classification_report(y_test, y_pred))\n",
        "\n",
        "cm = confusion_matrix(y_test, y_pred)\n",
        "\n",
        "plot_confusion_matrix(cm)"
      ]
    },
    {
      "cell_type": "markdown",
      "metadata": {
        "id": "sT51muasgPV6"
      },
      "source": [
        "#### Resposta"
      ]
    },
    {
      "cell_type": "markdown",
      "metadata": {
        "id": "vZi3GgBhgPWM"
      },
      "source": [
        "## Parte III - Mudança de configurações do modelo\n",
        "\n",
        "Total: 8,0 pts."
      ]
    },
    {
      "cell_type": "markdown",
      "metadata": {
        "id": "Vlv6Jt4bxU-C"
      },
      "source": [
        "### 1)\tAgora normalize os dados de entrada e treine novamente o modelo MLP. Avalie os resultados obtidos e comente o efeito da normalização no treinamento da Rede Neural."
      ]
    },
    {
      "cell_type": "markdown",
      "metadata": {
        "id": "rZYGPouDxU-C"
      },
      "source": [
        "#### Rascunho"
      ]
    },
    {
      "cell_type": "code",
      "execution_count": 65,
      "metadata": {
        "colab": {
          "base_uri": "https://localhost:8080/",
          "height": 206
        },
        "id": "NqjAcXjxxU-C",
        "outputId": "8f13b1e5-f2f3-4ef5-f01f-ceb89a69a052"
      },
      "outputs": [
        {
          "output_type": "execute_result",
          "data": {
            "text/plain": [
              "       preg      plas      pres      skin      insu      mass      pedi  \\\n",
              "0  0.352941  0.743719  0.590164  0.353535  0.000000  0.500745  0.234415   \n",
              "1  0.058824  0.427136  0.540984  0.292929  0.000000  0.396423  0.116567   \n",
              "2  0.470588  0.919598  0.524590  0.000000  0.000000  0.347243  0.253629   \n",
              "3  0.058824  0.447236  0.540984  0.232323  0.111111  0.418778  0.038002   \n",
              "4  0.000000  0.688442  0.327869  0.353535  0.198582  0.642325  0.943638   \n",
              "\n",
              "        age  target_encoded  \n",
              "0  0.483333             1.0  \n",
              "1  0.166667             0.0  \n",
              "2  0.183333             1.0  \n",
              "3  0.000000             0.0  \n",
              "4  0.200000             1.0  "
            ],
            "text/html": [
              "\n",
              "  <div id=\"df-a646f4fb-a5e9-454f-a744-2aabcabdd36e\" class=\"colab-df-container\">\n",
              "    <div>\n",
              "<style scoped>\n",
              "    .dataframe tbody tr th:only-of-type {\n",
              "        vertical-align: middle;\n",
              "    }\n",
              "\n",
              "    .dataframe tbody tr th {\n",
              "        vertical-align: top;\n",
              "    }\n",
              "\n",
              "    .dataframe thead th {\n",
              "        text-align: right;\n",
              "    }\n",
              "</style>\n",
              "<table border=\"1\" class=\"dataframe\">\n",
              "  <thead>\n",
              "    <tr style=\"text-align: right;\">\n",
              "      <th></th>\n",
              "      <th>preg</th>\n",
              "      <th>plas</th>\n",
              "      <th>pres</th>\n",
              "      <th>skin</th>\n",
              "      <th>insu</th>\n",
              "      <th>mass</th>\n",
              "      <th>pedi</th>\n",
              "      <th>age</th>\n",
              "      <th>target_encoded</th>\n",
              "    </tr>\n",
              "  </thead>\n",
              "  <tbody>\n",
              "    <tr>\n",
              "      <th>0</th>\n",
              "      <td>0.352941</td>\n",
              "      <td>0.743719</td>\n",
              "      <td>0.590164</td>\n",
              "      <td>0.353535</td>\n",
              "      <td>0.000000</td>\n",
              "      <td>0.500745</td>\n",
              "      <td>0.234415</td>\n",
              "      <td>0.483333</td>\n",
              "      <td>1.0</td>\n",
              "    </tr>\n",
              "    <tr>\n",
              "      <th>1</th>\n",
              "      <td>0.058824</td>\n",
              "      <td>0.427136</td>\n",
              "      <td>0.540984</td>\n",
              "      <td>0.292929</td>\n",
              "      <td>0.000000</td>\n",
              "      <td>0.396423</td>\n",
              "      <td>0.116567</td>\n",
              "      <td>0.166667</td>\n",
              "      <td>0.0</td>\n",
              "    </tr>\n",
              "    <tr>\n",
              "      <th>2</th>\n",
              "      <td>0.470588</td>\n",
              "      <td>0.919598</td>\n",
              "      <td>0.524590</td>\n",
              "      <td>0.000000</td>\n",
              "      <td>0.000000</td>\n",
              "      <td>0.347243</td>\n",
              "      <td>0.253629</td>\n",
              "      <td>0.183333</td>\n",
              "      <td>1.0</td>\n",
              "    </tr>\n",
              "    <tr>\n",
              "      <th>3</th>\n",
              "      <td>0.058824</td>\n",
              "      <td>0.447236</td>\n",
              "      <td>0.540984</td>\n",
              "      <td>0.232323</td>\n",
              "      <td>0.111111</td>\n",
              "      <td>0.418778</td>\n",
              "      <td>0.038002</td>\n",
              "      <td>0.000000</td>\n",
              "      <td>0.0</td>\n",
              "    </tr>\n",
              "    <tr>\n",
              "      <th>4</th>\n",
              "      <td>0.000000</td>\n",
              "      <td>0.688442</td>\n",
              "      <td>0.327869</td>\n",
              "      <td>0.353535</td>\n",
              "      <td>0.198582</td>\n",
              "      <td>0.642325</td>\n",
              "      <td>0.943638</td>\n",
              "      <td>0.200000</td>\n",
              "      <td>1.0</td>\n",
              "    </tr>\n",
              "  </tbody>\n",
              "</table>\n",
              "</div>\n",
              "    <div class=\"colab-df-buttons\">\n",
              "\n",
              "  <div class=\"colab-df-container\">\n",
              "    <button class=\"colab-df-convert\" onclick=\"convertToInteractive('df-a646f4fb-a5e9-454f-a744-2aabcabdd36e')\"\n",
              "            title=\"Convert this dataframe to an interactive table.\"\n",
              "            style=\"display:none;\">\n",
              "\n",
              "  <svg xmlns=\"http://www.w3.org/2000/svg\" height=\"24px\" viewBox=\"0 -960 960 960\">\n",
              "    <path d=\"M120-120v-720h720v720H120Zm60-500h600v-160H180v160Zm220 220h160v-160H400v160Zm0 220h160v-160H400v160ZM180-400h160v-160H180v160Zm440 0h160v-160H620v160ZM180-180h160v-160H180v160Zm440 0h160v-160H620v160Z\"/>\n",
              "  </svg>\n",
              "    </button>\n",
              "\n",
              "  <style>\n",
              "    .colab-df-container {\n",
              "      display:flex;\n",
              "      gap: 12px;\n",
              "    }\n",
              "\n",
              "    .colab-df-convert {\n",
              "      background-color: #E8F0FE;\n",
              "      border: none;\n",
              "      border-radius: 50%;\n",
              "      cursor: pointer;\n",
              "      display: none;\n",
              "      fill: #1967D2;\n",
              "      height: 32px;\n",
              "      padding: 0 0 0 0;\n",
              "      width: 32px;\n",
              "    }\n",
              "\n",
              "    .colab-df-convert:hover {\n",
              "      background-color: #E2EBFA;\n",
              "      box-shadow: 0px 1px 2px rgba(60, 64, 67, 0.3), 0px 1px 3px 1px rgba(60, 64, 67, 0.15);\n",
              "      fill: #174EA6;\n",
              "    }\n",
              "\n",
              "    .colab-df-buttons div {\n",
              "      margin-bottom: 4px;\n",
              "    }\n",
              "\n",
              "    [theme=dark] .colab-df-convert {\n",
              "      background-color: #3B4455;\n",
              "      fill: #D2E3FC;\n",
              "    }\n",
              "\n",
              "    [theme=dark] .colab-df-convert:hover {\n",
              "      background-color: #434B5C;\n",
              "      box-shadow: 0px 1px 3px 1px rgba(0, 0, 0, 0.15);\n",
              "      filter: drop-shadow(0px 1px 2px rgba(0, 0, 0, 0.3));\n",
              "      fill: #FFFFFF;\n",
              "    }\n",
              "  </style>\n",
              "\n",
              "    <script>\n",
              "      const buttonEl =\n",
              "        document.querySelector('#df-a646f4fb-a5e9-454f-a744-2aabcabdd36e button.colab-df-convert');\n",
              "      buttonEl.style.display =\n",
              "        google.colab.kernel.accessAllowed ? 'block' : 'none';\n",
              "\n",
              "      async function convertToInteractive(key) {\n",
              "        const element = document.querySelector('#df-a646f4fb-a5e9-454f-a744-2aabcabdd36e');\n",
              "        const dataTable =\n",
              "          await google.colab.kernel.invokeFunction('convertToInteractive',\n",
              "                                                    [key], {});\n",
              "        if (!dataTable) return;\n",
              "\n",
              "        const docLinkHtml = 'Like what you see? Visit the ' +\n",
              "          '<a target=\"_blank\" href=https://colab.research.google.com/notebooks/data_table.ipynb>data table notebook</a>'\n",
              "          + ' to learn more about interactive tables.';\n",
              "        element.innerHTML = '';\n",
              "        dataTable['output_type'] = 'display_data';\n",
              "        await google.colab.output.renderOutput(dataTable, element);\n",
              "        const docLink = document.createElement('div');\n",
              "        docLink.innerHTML = docLinkHtml;\n",
              "        element.appendChild(docLink);\n",
              "      }\n",
              "    </script>\n",
              "  </div>\n",
              "\n",
              "\n",
              "    <div id=\"df-bddb171b-f0ae-4471-9d2c-7dea1bfdcd91\">\n",
              "      <button class=\"colab-df-quickchart\" onclick=\"quickchart('df-bddb171b-f0ae-4471-9d2c-7dea1bfdcd91')\"\n",
              "                title=\"Suggest charts\"\n",
              "                style=\"display:none;\">\n",
              "\n",
              "<svg xmlns=\"http://www.w3.org/2000/svg\" height=\"24px\"viewBox=\"0 0 24 24\"\n",
              "     width=\"24px\">\n",
              "    <g>\n",
              "        <path d=\"M19 3H5c-1.1 0-2 .9-2 2v14c0 1.1.9 2 2 2h14c1.1 0 2-.9 2-2V5c0-1.1-.9-2-2-2zM9 17H7v-7h2v7zm4 0h-2V7h2v10zm4 0h-2v-4h2v4z\"/>\n",
              "    </g>\n",
              "</svg>\n",
              "      </button>\n",
              "\n",
              "<style>\n",
              "  .colab-df-quickchart {\n",
              "      --bg-color: #E8F0FE;\n",
              "      --fill-color: #1967D2;\n",
              "      --hover-bg-color: #E2EBFA;\n",
              "      --hover-fill-color: #174EA6;\n",
              "      --disabled-fill-color: #AAA;\n",
              "      --disabled-bg-color: #DDD;\n",
              "  }\n",
              "\n",
              "  [theme=dark] .colab-df-quickchart {\n",
              "      --bg-color: #3B4455;\n",
              "      --fill-color: #D2E3FC;\n",
              "      --hover-bg-color: #434B5C;\n",
              "      --hover-fill-color: #FFFFFF;\n",
              "      --disabled-bg-color: #3B4455;\n",
              "      --disabled-fill-color: #666;\n",
              "  }\n",
              "\n",
              "  .colab-df-quickchart {\n",
              "    background-color: var(--bg-color);\n",
              "    border: none;\n",
              "    border-radius: 50%;\n",
              "    cursor: pointer;\n",
              "    display: none;\n",
              "    fill: var(--fill-color);\n",
              "    height: 32px;\n",
              "    padding: 0;\n",
              "    width: 32px;\n",
              "  }\n",
              "\n",
              "  .colab-df-quickchart:hover {\n",
              "    background-color: var(--hover-bg-color);\n",
              "    box-shadow: 0 1px 2px rgba(60, 64, 67, 0.3), 0 1px 3px 1px rgba(60, 64, 67, 0.15);\n",
              "    fill: var(--button-hover-fill-color);\n",
              "  }\n",
              "\n",
              "  .colab-df-quickchart-complete:disabled,\n",
              "  .colab-df-quickchart-complete:disabled:hover {\n",
              "    background-color: var(--disabled-bg-color);\n",
              "    fill: var(--disabled-fill-color);\n",
              "    box-shadow: none;\n",
              "  }\n",
              "\n",
              "  .colab-df-spinner {\n",
              "    border: 2px solid var(--fill-color);\n",
              "    border-color: transparent;\n",
              "    border-bottom-color: var(--fill-color);\n",
              "    animation:\n",
              "      spin 1s steps(1) infinite;\n",
              "  }\n",
              "\n",
              "  @keyframes spin {\n",
              "    0% {\n",
              "      border-color: transparent;\n",
              "      border-bottom-color: var(--fill-color);\n",
              "      border-left-color: var(--fill-color);\n",
              "    }\n",
              "    20% {\n",
              "      border-color: transparent;\n",
              "      border-left-color: var(--fill-color);\n",
              "      border-top-color: var(--fill-color);\n",
              "    }\n",
              "    30% {\n",
              "      border-color: transparent;\n",
              "      border-left-color: var(--fill-color);\n",
              "      border-top-color: var(--fill-color);\n",
              "      border-right-color: var(--fill-color);\n",
              "    }\n",
              "    40% {\n",
              "      border-color: transparent;\n",
              "      border-right-color: var(--fill-color);\n",
              "      border-top-color: var(--fill-color);\n",
              "    }\n",
              "    60% {\n",
              "      border-color: transparent;\n",
              "      border-right-color: var(--fill-color);\n",
              "    }\n",
              "    80% {\n",
              "      border-color: transparent;\n",
              "      border-right-color: var(--fill-color);\n",
              "      border-bottom-color: var(--fill-color);\n",
              "    }\n",
              "    90% {\n",
              "      border-color: transparent;\n",
              "      border-bottom-color: var(--fill-color);\n",
              "    }\n",
              "  }\n",
              "</style>\n",
              "\n",
              "      <script>\n",
              "        async function quickchart(key) {\n",
              "          const quickchartButtonEl =\n",
              "            document.querySelector('#' + key + ' button');\n",
              "          quickchartButtonEl.disabled = true;  // To prevent multiple clicks.\n",
              "          quickchartButtonEl.classList.add('colab-df-spinner');\n",
              "          try {\n",
              "            const charts = await google.colab.kernel.invokeFunction(\n",
              "                'suggestCharts', [key], {});\n",
              "          } catch (error) {\n",
              "            console.error('Error during call to suggestCharts:', error);\n",
              "          }\n",
              "          quickchartButtonEl.classList.remove('colab-df-spinner');\n",
              "          quickchartButtonEl.classList.add('colab-df-quickchart-complete');\n",
              "        }\n",
              "        (() => {\n",
              "          let quickchartButtonEl =\n",
              "            document.querySelector('#df-bddb171b-f0ae-4471-9d2c-7dea1bfdcd91 button');\n",
              "          quickchartButtonEl.style.display =\n",
              "            google.colab.kernel.accessAllowed ? 'block' : 'none';\n",
              "        })();\n",
              "      </script>\n",
              "    </div>\n",
              "\n",
              "    </div>\n",
              "  </div>\n"
            ],
            "application/vnd.google.colaboratory.intrinsic+json": {
              "type": "dataframe",
              "variable_name": "new_df",
              "summary": "{\n  \"name\": \"new_df\",\n  \"rows\": 768,\n  \"fields\": [\n    {\n      \"column\": \"preg\",\n      \"properties\": {\n        \"dtype\": \"number\",\n        \"std\": 0.19821047427640448,\n        \"min\": 0.0,\n        \"max\": 1.0,\n        \"num_unique_values\": 17,\n        \"samples\": [\n          0.35294117647058826,\n          0.058823529411764705,\n          0.17647058823529413\n        ],\n        \"semantic_type\": \"\",\n        \"description\": \"\"\n      }\n    },\n    {\n      \"column\": \"plas\",\n      \"properties\": {\n        \"dtype\": \"number\",\n        \"std\": 0.16066642309113685,\n        \"min\": 0.0,\n        \"max\": 1.0,\n        \"num_unique_values\": 136,\n        \"samples\": [\n          0.7587939698492462,\n          0.507537688442211,\n          0.5628140703517588\n        ],\n        \"semantic_type\": \"\",\n        \"description\": \"\"\n      }\n    },\n    {\n      \"column\": \"pres\",\n      \"properties\": {\n        \"dtype\": \"number\",\n        \"std\": 0.15865415713643255,\n        \"min\": 0.0,\n        \"max\": 1.0,\n        \"num_unique_values\": 47,\n        \"samples\": [\n          0.7049180327868853,\n          0.3770491803278688,\n          0.6967213114754098\n        ],\n        \"semantic_type\": \"\",\n        \"description\": \"\"\n      }\n    },\n    {\n      \"column\": \"skin\",\n      \"properties\": {\n        \"dtype\": \"number\",\n        \"std\": 0.16113351078512722,\n        \"min\": 0.0,\n        \"max\": 1.0,\n        \"num_unique_values\": 51,\n        \"samples\": [\n          0.0707070707070707,\n          0.12121212121212122,\n          0.48484848484848486\n        ],\n        \"semantic_type\": \"\",\n        \"description\": \"\"\n      }\n    },\n    {\n      \"column\": \"insu\",\n      \"properties\": {\n        \"dtype\": \"number\",\n        \"std\": 0.13622222500158185,\n        \"min\": 0.0,\n        \"max\": 1.0,\n        \"num_unique_values\": 186,\n        \"samples\": [\n          0.061465721040189124,\n          0.04846335697399527,\n          0.21631205673758866\n        ],\n        \"semantic_type\": \"\",\n        \"description\": \"\"\n      }\n    },\n    {\n      \"column\": \"mass\",\n      \"properties\": {\n        \"dtype\": \"number\",\n        \"std\": 0.11749866349292773,\n        \"min\": 0.0,\n        \"max\": 1.0,\n        \"num_unique_values\": 248,\n        \"samples\": [\n          0.2965722801788376,\n          0.4619970193740686,\n          0.5678092399403876\n        ],\n        \"semantic_type\": \"\",\n        \"description\": \"\"\n      }\n    },\n    {\n      \"column\": \"pedi\",\n      \"properties\": {\n        \"dtype\": \"number\",\n        \"std\": 0.1414725000054547,\n        \"min\": 0.0,\n        \"max\": 1.0,\n        \"num_unique_values\": 517,\n        \"samples\": [\n          0.7058070025619129,\n          0.1485909479077711,\n          0.025619128949615717\n        ],\n        \"semantic_type\": \"\",\n        \"description\": \"\"\n      }\n    },\n    {\n      \"column\": \"age\",\n      \"properties\": {\n        \"dtype\": \"number\",\n        \"std\": 0.19600385901131126,\n        \"min\": 0.0,\n        \"max\": 1.0,\n        \"num_unique_values\": 52,\n        \"samples\": [\n          0.65,\n          0.43333333333333335,\n          0.85\n        ],\n        \"semantic_type\": \"\",\n        \"description\": \"\"\n      }\n    },\n    {\n      \"column\": \"target_encoded\",\n      \"properties\": {\n        \"dtype\": \"number\",\n        \"std\": 0.4769513772427971,\n        \"min\": 0.0,\n        \"max\": 1.0,\n        \"num_unique_values\": 2,\n        \"samples\": [\n          0.0,\n          1.0\n        ],\n        \"semantic_type\": \"\",\n        \"description\": \"\"\n      }\n    }\n  ]\n}"
            }
          },
          "metadata": {},
          "execution_count": 65
        }
      ],
      "source": [
        "new_df = transform_data(dataset, normalize=True)\n",
        "new_df = new_df.drop(columns=['target'])\n",
        "new_df.head()"
      ]
    },
    {
      "cell_type": "code",
      "execution_count": null,
      "metadata": {
        "id": "HdkDDbecxU-C"
      },
      "outputs": [],
      "source": []
    },
    {
      "cell_type": "code",
      "execution_count": 66,
      "metadata": {
        "colab": {
          "base_uri": "https://localhost:8080/"
        },
        "id": "4xv8591lxU-D",
        "outputId": "cc9685cd-be77-4844-c8c6-00516b167cb1"
      },
      "outputs": [
        {
          "output_type": "stream",
          "name": "stdout",
          "text": [
            "Binary classification\n"
          ]
        }
      ],
      "source": [
        "X = new_df.values[:,:-1].astype('float')\n",
        "target = new_df.values[:,-1]\n",
        "\n",
        "encoder = LabelEncoder()\n",
        "y = encoder.fit_transform(target)\n",
        "\n",
        "n_input = X.shape[1]\n",
        "\n",
        "if np.unique(y).shape[0] <= 2:\n",
        "  print('Binary classification')\n",
        "  n_output = 1\n",
        "\n",
        "else:\n",
        "  print('Multiclass classification')\n",
        "  #y = to_categorical(y)\n",
        "  n_output = encoder.classes_.shape[0]\n",
        "\n",
        "\n",
        "X_train, X_test, y_train, y_test = train_test_split(X,y,test_size=0.2,random_state=42)\n",
        "X_train, X_val, y_train, y_val = train_test_split(X_train,y_train,test_size=0.2,random_state=42)"
      ]
    },
    {
      "cell_type": "code",
      "execution_count": 67,
      "metadata": {
        "id": "knGmVu5GxU-D"
      },
      "outputs": [],
      "source": [
        "if binary:\n",
        "    train_dataset = CustomDataset(torch.from_numpy(X_train).float(), torch.from_numpy(y_train).float().unsqueeze(1))\n",
        "    val_dataset = CustomDataset(torch.from_numpy(X_val).float(), torch.from_numpy(y_val).float().unsqueeze(1))\n",
        "    test_dataset = CustomDataset(torch.from_numpy(X_test).float(), torch.from_numpy(y_test).float().unsqueeze(1))\n",
        "else:\n",
        "    train_dataset = CustomDataset(torch.from_numpy(X_train).float(), torch.from_numpy(y_train).long())\n",
        "    val_dataset = CustomDataset(torch.from_numpy(X_val).float(), torch.from_numpy(y_val).long())\n",
        "    test_dataset = CustomDataset(torch.from_numpy(X_test).float(), torch.from_numpy(y_test).long())\n",
        "\n",
        "train_loader = DataLoader(dataset=train_dataset,batch_size=batch_size)\n",
        "val_loader = DataLoader(dataset=val_dataset, batch_size=1)\n",
        "test_loader = DataLoader(dataset=test_dataset, batch_size=1)"
      ]
    },
    {
      "cell_type": "code",
      "execution_count": 68,
      "metadata": {
        "colab": {
          "base_uri": "https://localhost:8080/",
          "height": 1000,
          "referenced_widgets": [
            "489fef83434e43a29fd0da8207f89a38",
            "1832cc370ab443cfbed4a0e39fc86a66",
            "ffc6ba6f4ec44293a06b14ab24f5d9c4",
            "fa60ce1e48b841fdae4ff89c85741dd0",
            "ac23e168e40c458e8d77a1ee7dcfc13e",
            "8fd4550a5dc746cdae5ae3fb3302bc57",
            "f5e8a2de7f884df5a17eed87725c7126",
            "7ed9ae0f706a43e2bb7ef798f4bd4b6e",
            "e53dca2dcb764748a04966ad151873d5",
            "018f40fb7d62492b9c4971c5248dcc08",
            "5b05a3c1f3154b3eb3c666c9330a46ec"
          ]
        },
        "id": "cOkvqI3axU-D",
        "outputId": "326040a5-242d-4d50-d8c4-1c43b6d975e4"
      },
      "outputs": [
        {
          "output_type": "display_data",
          "data": {
            "text/plain": [
              "  0%|          | 0/250 [00:00<?, ?it/s]"
            ],
            "application/vnd.jupyter.widget-view+json": {
              "version_major": 2,
              "version_minor": 0,
              "model_id": "489fef83434e43a29fd0da8207f89a38"
            }
          },
          "metadata": {}
        },
        {
          "output_type": "stream",
          "name": "stdout",
          "text": [
            "Epoch 001: | Train Loss: 0.727 | Val Loss: 0.7239 | Train Acc: 34.4375| Val Acc: 34.0000\n",
            "Epoch 002: | Train Loss: 0.720 | Val Loss: 0.7173 | Train Acc: 34.4375| Val Acc: 34.0000\n",
            "Epoch 003: | Train Loss: 0.714 | Val Loss: 0.7113 | Train Acc: 34.4375| Val Acc: 34.0000\n",
            "Epoch 004: | Train Loss: 0.709 | Val Loss: 0.7058 | Train Acc: 34.4375| Val Acc: 34.0000\n",
            "Epoch 005: | Train Loss: 0.703 | Val Loss: 0.7008 | Train Acc: 34.4375| Val Acc: 34.0000\n",
            "Epoch 006: | Train Loss: 0.699 | Val Loss: 0.6962 | Train Acc: 34.4375| Val Acc: 33.0000\n",
            "Epoch 007: | Train Loss: 0.694 | Val Loss: 0.6920 | Train Acc: 42.5625| Val Acc: 66.0000\n",
            "Epoch 008: | Train Loss: 0.691 | Val Loss: 0.6881 | Train Acc: 65.5625| Val Acc: 66.0000\n",
            "Epoch 009: | Train Loss: 0.687 | Val Loss: 0.6846 | Train Acc: 65.5625| Val Acc: 66.0000\n",
            "Epoch 010: | Train Loss: 0.684 | Val Loss: 0.6813 | Train Acc: 65.5625| Val Acc: 66.0000\n",
            "Epoch 011: | Train Loss: 0.681 | Val Loss: 0.6783 | Train Acc: 65.5625| Val Acc: 66.0000\n",
            "Epoch 012: | Train Loss: 0.678 | Val Loss: 0.6756 | Train Acc: 65.5625| Val Acc: 66.0000\n",
            "Epoch 013: | Train Loss: 0.675 | Val Loss: 0.6731 | Train Acc: 65.5625| Val Acc: 66.0000\n",
            "Epoch 014: | Train Loss: 0.673 | Val Loss: 0.6708 | Train Acc: 65.5625| Val Acc: 66.0000\n",
            "Epoch 015: | Train Loss: 0.671 | Val Loss: 0.6687 | Train Acc: 65.5625| Val Acc: 66.0000\n",
            "Epoch 016: | Train Loss: 0.669 | Val Loss: 0.6668 | Train Acc: 65.5625| Val Acc: 66.0000\n",
            "Epoch 017: | Train Loss: 0.667 | Val Loss: 0.6650 | Train Acc: 65.5625| Val Acc: 66.0000\n",
            "Epoch 018: | Train Loss: 0.665 | Val Loss: 0.6633 | Train Acc: 65.5625| Val Acc: 66.0000\n",
            "Epoch 019: | Train Loss: 0.664 | Val Loss: 0.6619 | Train Acc: 65.5625| Val Acc: 66.0000\n",
            "Epoch 020: | Train Loss: 0.663 | Val Loss: 0.6605 | Train Acc: 65.5625| Val Acc: 66.0000\n",
            "Epoch 021: | Train Loss: 0.661 | Val Loss: 0.6592 | Train Acc: 65.5625| Val Acc: 66.0000\n",
            "Epoch 022: | Train Loss: 0.660 | Val Loss: 0.6580 | Train Acc: 65.5625| Val Acc: 66.0000\n",
            "Epoch 023: | Train Loss: 0.659 | Val Loss: 0.6570 | Train Acc: 65.5625| Val Acc: 66.0000\n",
            "Epoch 024: | Train Loss: 0.658 | Val Loss: 0.6560 | Train Acc: 65.5625| Val Acc: 66.0000\n",
            "Epoch 025: | Train Loss: 0.657 | Val Loss: 0.6551 | Train Acc: 65.5625| Val Acc: 66.0000\n",
            "Epoch 026: | Train Loss: 0.656 | Val Loss: 0.6542 | Train Acc: 65.5625| Val Acc: 66.0000\n",
            "Epoch 027: | Train Loss: 0.656 | Val Loss: 0.6535 | Train Acc: 65.5625| Val Acc: 66.0000\n",
            "Epoch 028: | Train Loss: 0.655 | Val Loss: 0.6528 | Train Acc: 65.5625| Val Acc: 66.0000\n",
            "Epoch 029: | Train Loss: 0.654 | Val Loss: 0.6521 | Train Acc: 65.5625| Val Acc: 66.0000\n",
            "Epoch 030: | Train Loss: 0.654 | Val Loss: 0.6515 | Train Acc: 65.5625| Val Acc: 66.0000\n",
            "Epoch 031: | Train Loss: 0.653 | Val Loss: 0.6509 | Train Acc: 65.5625| Val Acc: 66.0000\n",
            "Epoch 032: | Train Loss: 0.653 | Val Loss: 0.6504 | Train Acc: 65.5625| Val Acc: 66.0000\n",
            "Epoch 033: | Train Loss: 0.652 | Val Loss: 0.6500 | Train Acc: 65.5625| Val Acc: 66.0000\n",
            "Epoch 034: | Train Loss: 0.652 | Val Loss: 0.6495 | Train Acc: 65.5625| Val Acc: 66.0000\n",
            "Epoch 035: | Train Loss: 0.651 | Val Loss: 0.6491 | Train Acc: 65.5625| Val Acc: 66.0000\n",
            "Epoch 036: | Train Loss: 0.651 | Val Loss: 0.6487 | Train Acc: 65.5625| Val Acc: 66.0000\n",
            "Epoch 037: | Train Loss: 0.651 | Val Loss: 0.6484 | Train Acc: 65.5625| Val Acc: 66.0000\n",
            "Epoch 038: | Train Loss: 0.650 | Val Loss: 0.6480 | Train Acc: 65.5625| Val Acc: 66.0000\n",
            "Epoch 039: | Train Loss: 0.650 | Val Loss: 0.6477 | Train Acc: 65.5625| Val Acc: 66.0000\n",
            "Epoch 040: | Train Loss: 0.650 | Val Loss: 0.6475 | Train Acc: 65.5625| Val Acc: 66.0000\n",
            "Epoch 041: | Train Loss: 0.650 | Val Loss: 0.6472 | Train Acc: 65.5625| Val Acc: 66.0000\n",
            "Epoch 042: | Train Loss: 0.649 | Val Loss: 0.6469 | Train Acc: 65.5625| Val Acc: 66.0000\n",
            "Epoch 043: | Train Loss: 0.649 | Val Loss: 0.6467 | Train Acc: 65.5625| Val Acc: 66.0000\n",
            "Epoch 044: | Train Loss: 0.649 | Val Loss: 0.6465 | Train Acc: 65.5625| Val Acc: 66.0000\n",
            "Epoch 045: | Train Loss: 0.649 | Val Loss: 0.6463 | Train Acc: 65.5625| Val Acc: 66.0000\n",
            "Epoch 046: | Train Loss: 0.648 | Val Loss: 0.6461 | Train Acc: 65.5625| Val Acc: 66.0000\n",
            "Epoch 047: | Train Loss: 0.648 | Val Loss: 0.6459 | Train Acc: 65.5625| Val Acc: 66.0000\n",
            "Epoch 048: | Train Loss: 0.648 | Val Loss: 0.6458 | Train Acc: 65.5625| Val Acc: 66.0000\n",
            "Epoch 049: | Train Loss: 0.648 | Val Loss: 0.6456 | Train Acc: 65.5625| Val Acc: 66.0000\n",
            "Epoch 050: | Train Loss: 0.648 | Val Loss: 0.6455 | Train Acc: 65.5625| Val Acc: 66.0000\n",
            "Epoch 051: | Train Loss: 0.648 | Val Loss: 0.6453 | Train Acc: 65.5625| Val Acc: 66.0000\n",
            "Epoch 052: | Train Loss: 0.648 | Val Loss: 0.6452 | Train Acc: 65.5625| Val Acc: 66.0000\n",
            "Epoch 053: | Train Loss: 0.647 | Val Loss: 0.6451 | Train Acc: 65.5625| Val Acc: 66.0000\n",
            "Epoch 054: | Train Loss: 0.647 | Val Loss: 0.6449 | Train Acc: 65.5625| Val Acc: 66.0000\n",
            "Epoch 055: | Train Loss: 0.647 | Val Loss: 0.6448 | Train Acc: 65.5625| Val Acc: 66.0000\n",
            "Epoch 056: | Train Loss: 0.647 | Val Loss: 0.6447 | Train Acc: 65.5625| Val Acc: 66.0000\n",
            "Epoch 057: | Train Loss: 0.647 | Val Loss: 0.6446 | Train Acc: 65.5625| Val Acc: 66.0000\n",
            "Epoch 058: | Train Loss: 0.647 | Val Loss: 0.6445 | Train Acc: 65.5625| Val Acc: 66.0000\n",
            "Epoch 059: | Train Loss: 0.647 | Val Loss: 0.6444 | Train Acc: 65.5625| Val Acc: 66.0000\n",
            "Epoch 060: | Train Loss: 0.647 | Val Loss: 0.6443 | Train Acc: 65.5625| Val Acc: 66.0000\n",
            "Epoch 061: | Train Loss: 0.647 | Val Loss: 0.6442 | Train Acc: 65.5625| Val Acc: 66.0000\n",
            "Epoch 062: | Train Loss: 0.647 | Val Loss: 0.6442 | Train Acc: 65.5625| Val Acc: 66.0000\n",
            "Epoch 063: | Train Loss: 0.646 | Val Loss: 0.6441 | Train Acc: 65.5625| Val Acc: 66.0000\n",
            "Epoch 064: | Train Loss: 0.646 | Val Loss: 0.6440 | Train Acc: 65.5625| Val Acc: 66.0000\n",
            "Epoch 065: | Train Loss: 0.646 | Val Loss: 0.6439 | Train Acc: 65.5625| Val Acc: 66.0000\n",
            "Epoch 066: | Train Loss: 0.646 | Val Loss: 0.6439 | Train Acc: 65.5625| Val Acc: 66.0000\n",
            "Epoch 067: | Train Loss: 0.646 | Val Loss: 0.6438 | Train Acc: 65.5625| Val Acc: 66.0000\n",
            "Epoch 068: | Train Loss: 0.646 | Val Loss: 0.6437 | Train Acc: 65.5625| Val Acc: 66.0000\n",
            "Epoch 069: | Train Loss: 0.646 | Val Loss: 0.6437 | Train Acc: 65.5625| Val Acc: 66.0000\n",
            "Epoch 070: | Train Loss: 0.646 | Val Loss: 0.6436 | Train Acc: 65.5625| Val Acc: 66.0000\n",
            "Epoch 071: | Train Loss: 0.646 | Val Loss: 0.6435 | Train Acc: 65.5625| Val Acc: 66.0000\n",
            "Epoch 072: | Train Loss: 0.646 | Val Loss: 0.6435 | Train Acc: 65.5625| Val Acc: 66.0000\n",
            "Epoch 073: | Train Loss: 0.646 | Val Loss: 0.6434 | Train Acc: 65.5625| Val Acc: 66.0000\n",
            "Epoch 074: | Train Loss: 0.646 | Val Loss: 0.6434 | Train Acc: 65.5625| Val Acc: 66.0000\n",
            "Epoch 075: | Train Loss: 0.646 | Val Loss: 0.6433 | Train Acc: 65.5625| Val Acc: 66.0000\n",
            "Epoch 076: | Train Loss: 0.646 | Val Loss: 0.6432 | Train Acc: 65.5625| Val Acc: 66.0000\n",
            "Epoch 077: | Train Loss: 0.646 | Val Loss: 0.6432 | Train Acc: 65.5625| Val Acc: 66.0000\n",
            "Epoch 078: | Train Loss: 0.645 | Val Loss: 0.6431 | Train Acc: 65.5625| Val Acc: 66.0000\n",
            "Epoch 079: | Train Loss: 0.645 | Val Loss: 0.6431 | Train Acc: 65.5625| Val Acc: 66.0000\n",
            "Epoch 080: | Train Loss: 0.645 | Val Loss: 0.6430 | Train Acc: 65.5625| Val Acc: 66.0000\n",
            "Epoch 081: | Train Loss: 0.645 | Val Loss: 0.6430 | Train Acc: 65.5625| Val Acc: 66.0000\n",
            "Epoch 082: | Train Loss: 0.645 | Val Loss: 0.6429 | Train Acc: 65.5625| Val Acc: 66.0000\n",
            "Epoch 083: | Train Loss: 0.645 | Val Loss: 0.6429 | Train Acc: 65.5625| Val Acc: 66.0000\n",
            "Epoch 084: | Train Loss: 0.645 | Val Loss: 0.6428 | Train Acc: 65.5625| Val Acc: 66.0000\n",
            "Epoch 085: | Train Loss: 0.645 | Val Loss: 0.6428 | Train Acc: 65.5625| Val Acc: 66.0000\n",
            "Epoch 086: | Train Loss: 0.645 | Val Loss: 0.6428 | Train Acc: 65.5625| Val Acc: 66.0000\n",
            "Epoch 087: | Train Loss: 0.645 | Val Loss: 0.6427 | Train Acc: 65.5625| Val Acc: 66.0000\n",
            "Epoch 088: | Train Loss: 0.645 | Val Loss: 0.6427 | Train Acc: 65.5625| Val Acc: 66.0000\n",
            "Epoch 089: | Train Loss: 0.645 | Val Loss: 0.6426 | Train Acc: 65.5625| Val Acc: 66.0000\n",
            "Epoch 090: | Train Loss: 0.645 | Val Loss: 0.6426 | Train Acc: 65.5625| Val Acc: 66.0000\n",
            "Epoch 091: | Train Loss: 0.645 | Val Loss: 0.6425 | Train Acc: 65.5625| Val Acc: 66.0000\n",
            "Epoch 092: | Train Loss: 0.645 | Val Loss: 0.6425 | Train Acc: 65.5625| Val Acc: 66.0000\n",
            "Epoch 093: | Train Loss: 0.645 | Val Loss: 0.6425 | Train Acc: 65.5625| Val Acc: 66.0000\n",
            "Epoch 094: | Train Loss: 0.645 | Val Loss: 0.6424 | Train Acc: 65.5625| Val Acc: 66.0000\n",
            "Epoch 095: | Train Loss: 0.645 | Val Loss: 0.6424 | Train Acc: 65.5625| Val Acc: 66.0000\n",
            "Epoch 096: | Train Loss: 0.645 | Val Loss: 0.6423 | Train Acc: 65.5625| Val Acc: 66.0000\n",
            "Epoch 097: | Train Loss: 0.644 | Val Loss: 0.6423 | Train Acc: 65.5625| Val Acc: 66.0000\n",
            "Epoch 098: | Train Loss: 0.644 | Val Loss: 0.6422 | Train Acc: 65.5625| Val Acc: 66.0000\n",
            "Epoch 099: | Train Loss: 0.644 | Val Loss: 0.6422 | Train Acc: 65.5625| Val Acc: 66.0000\n",
            "Epoch 100: | Train Loss: 0.644 | Val Loss: 0.6422 | Train Acc: 65.5625| Val Acc: 66.0000\n",
            "Epoch 101: | Train Loss: 0.644 | Val Loss: 0.6421 | Train Acc: 65.5625| Val Acc: 66.0000\n",
            "Epoch 102: | Train Loss: 0.644 | Val Loss: 0.6421 | Train Acc: 65.5625| Val Acc: 66.0000\n",
            "Epoch 103: | Train Loss: 0.644 | Val Loss: 0.6420 | Train Acc: 65.5625| Val Acc: 66.0000\n",
            "Epoch 104: | Train Loss: 0.644 | Val Loss: 0.6420 | Train Acc: 65.5625| Val Acc: 66.0000\n",
            "Epoch 105: | Train Loss: 0.644 | Val Loss: 0.6420 | Train Acc: 65.5625| Val Acc: 66.0000\n",
            "Epoch 106: | Train Loss: 0.644 | Val Loss: 0.6419 | Train Acc: 65.5625| Val Acc: 66.0000\n",
            "Epoch 107: | Train Loss: 0.644 | Val Loss: 0.6419 | Train Acc: 65.5625| Val Acc: 66.0000\n",
            "Epoch 108: | Train Loss: 0.644 | Val Loss: 0.6418 | Train Acc: 65.5625| Val Acc: 66.0000\n",
            "Epoch 109: | Train Loss: 0.644 | Val Loss: 0.6418 | Train Acc: 65.5625| Val Acc: 66.0000\n",
            "Epoch 110: | Train Loss: 0.644 | Val Loss: 0.6418 | Train Acc: 65.5625| Val Acc: 66.0000\n",
            "Epoch 111: | Train Loss: 0.644 | Val Loss: 0.6417 | Train Acc: 65.5625| Val Acc: 66.0000\n",
            "Epoch 112: | Train Loss: 0.644 | Val Loss: 0.6417 | Train Acc: 65.5625| Val Acc: 66.0000\n",
            "Epoch 113: | Train Loss: 0.644 | Val Loss: 0.6417 | Train Acc: 65.5625| Val Acc: 66.0000\n",
            "Epoch 114: | Train Loss: 0.644 | Val Loss: 0.6416 | Train Acc: 65.5625| Val Acc: 66.0000\n",
            "Epoch 115: | Train Loss: 0.644 | Val Loss: 0.6416 | Train Acc: 65.5625| Val Acc: 66.0000\n",
            "Epoch 116: | Train Loss: 0.644 | Val Loss: 0.6415 | Train Acc: 65.5625| Val Acc: 66.0000\n",
            "Epoch 117: | Train Loss: 0.643 | Val Loss: 0.6415 | Train Acc: 65.5625| Val Acc: 66.0000\n",
            "Epoch 118: | Train Loss: 0.643 | Val Loss: 0.6415 | Train Acc: 65.5625| Val Acc: 66.0000\n",
            "Epoch 119: | Train Loss: 0.643 | Val Loss: 0.6414 | Train Acc: 65.5625| Val Acc: 66.0000\n",
            "Epoch 120: | Train Loss: 0.643 | Val Loss: 0.6414 | Train Acc: 65.5625| Val Acc: 66.0000\n",
            "Epoch 121: | Train Loss: 0.643 | Val Loss: 0.6413 | Train Acc: 65.5625| Val Acc: 66.0000\n",
            "Epoch 122: | Train Loss: 0.643 | Val Loss: 0.6413 | Train Acc: 65.5625| Val Acc: 66.0000\n",
            "Epoch 123: | Train Loss: 0.643 | Val Loss: 0.6413 | Train Acc: 65.5625| Val Acc: 66.0000\n",
            "Epoch 124: | Train Loss: 0.643 | Val Loss: 0.6412 | Train Acc: 65.5625| Val Acc: 66.0000\n",
            "Epoch 125: | Train Loss: 0.643 | Val Loss: 0.6412 | Train Acc: 65.5625| Val Acc: 66.0000\n",
            "Epoch 126: | Train Loss: 0.643 | Val Loss: 0.6411 | Train Acc: 65.5625| Val Acc: 66.0000\n",
            "Epoch 127: | Train Loss: 0.643 | Val Loss: 0.6411 | Train Acc: 65.5625| Val Acc: 66.0000\n",
            "Epoch 128: | Train Loss: 0.643 | Val Loss: 0.6411 | Train Acc: 65.5625| Val Acc: 66.0000\n",
            "Epoch 129: | Train Loss: 0.643 | Val Loss: 0.6410 | Train Acc: 65.5625| Val Acc: 66.0000\n",
            "Epoch 130: | Train Loss: 0.643 | Val Loss: 0.6410 | Train Acc: 65.5625| Val Acc: 66.0000\n",
            "Epoch 131: | Train Loss: 0.643 | Val Loss: 0.6409 | Train Acc: 65.5625| Val Acc: 66.0000\n",
            "Epoch 132: | Train Loss: 0.643 | Val Loss: 0.6409 | Train Acc: 65.5625| Val Acc: 66.0000\n",
            "Epoch 133: | Train Loss: 0.643 | Val Loss: 0.6409 | Train Acc: 65.5625| Val Acc: 66.0000\n",
            "Epoch 134: | Train Loss: 0.643 | Val Loss: 0.6408 | Train Acc: 65.5625| Val Acc: 66.0000\n",
            "Epoch 135: | Train Loss: 0.643 | Val Loss: 0.6408 | Train Acc: 65.5625| Val Acc: 66.0000\n",
            "Epoch 136: | Train Loss: 0.643 | Val Loss: 0.6407 | Train Acc: 65.5625| Val Acc: 66.0000\n",
            "Epoch 137: | Train Loss: 0.642 | Val Loss: 0.6407 | Train Acc: 65.5625| Val Acc: 66.0000\n",
            "Epoch 138: | Train Loss: 0.642 | Val Loss: 0.6406 | Train Acc: 65.5625| Val Acc: 66.0000\n",
            "Epoch 139: | Train Loss: 0.642 | Val Loss: 0.6406 | Train Acc: 65.5625| Val Acc: 66.0000\n",
            "Epoch 140: | Train Loss: 0.642 | Val Loss: 0.6406 | Train Acc: 65.5625| Val Acc: 66.0000\n",
            "Epoch 141: | Train Loss: 0.642 | Val Loss: 0.6405 | Train Acc: 65.5625| Val Acc: 66.0000\n",
            "Epoch 142: | Train Loss: 0.642 | Val Loss: 0.6405 | Train Acc: 65.5625| Val Acc: 66.0000\n",
            "Epoch 143: | Train Loss: 0.642 | Val Loss: 0.6404 | Train Acc: 65.5625| Val Acc: 66.0000\n",
            "Epoch 144: | Train Loss: 0.642 | Val Loss: 0.6404 | Train Acc: 65.5625| Val Acc: 66.0000\n",
            "Epoch 145: | Train Loss: 0.642 | Val Loss: 0.6403 | Train Acc: 65.5625| Val Acc: 66.0000\n",
            "Epoch 146: | Train Loss: 0.642 | Val Loss: 0.6403 | Train Acc: 65.5625| Val Acc: 66.0000\n",
            "Epoch 147: | Train Loss: 0.642 | Val Loss: 0.6403 | Train Acc: 65.5625| Val Acc: 66.0000\n",
            "Epoch 148: | Train Loss: 0.642 | Val Loss: 0.6402 | Train Acc: 65.5625| Val Acc: 66.0000\n",
            "Epoch 149: | Train Loss: 0.642 | Val Loss: 0.6402 | Train Acc: 65.5625| Val Acc: 66.0000\n",
            "Epoch 150: | Train Loss: 0.642 | Val Loss: 0.6401 | Train Acc: 65.5625| Val Acc: 66.0000\n",
            "Epoch 151: | Train Loss: 0.642 | Val Loss: 0.6401 | Train Acc: 65.5625| Val Acc: 66.0000\n",
            "Epoch 152: | Train Loss: 0.642 | Val Loss: 0.6400 | Train Acc: 65.5625| Val Acc: 66.0000\n",
            "Epoch 153: | Train Loss: 0.642 | Val Loss: 0.6400 | Train Acc: 65.5625| Val Acc: 66.0000\n",
            "Epoch 154: | Train Loss: 0.641 | Val Loss: 0.6399 | Train Acc: 65.5625| Val Acc: 66.0000\n",
            "Epoch 155: | Train Loss: 0.641 | Val Loss: 0.6399 | Train Acc: 65.5625| Val Acc: 66.0000\n",
            "Epoch 156: | Train Loss: 0.641 | Val Loss: 0.6398 | Train Acc: 65.5625| Val Acc: 66.0000\n",
            "Epoch 157: | Train Loss: 0.641 | Val Loss: 0.6398 | Train Acc: 65.5625| Val Acc: 66.0000\n",
            "Epoch 158: | Train Loss: 0.641 | Val Loss: 0.6397 | Train Acc: 65.5625| Val Acc: 66.0000\n",
            "Epoch 159: | Train Loss: 0.641 | Val Loss: 0.6397 | Train Acc: 65.5625| Val Acc: 66.0000\n",
            "Epoch 160: | Train Loss: 0.641 | Val Loss: 0.6396 | Train Acc: 65.5625| Val Acc: 66.0000\n",
            "Epoch 161: | Train Loss: 0.641 | Val Loss: 0.6396 | Train Acc: 65.5625| Val Acc: 66.0000\n",
            "Epoch 162: | Train Loss: 0.641 | Val Loss: 0.6395 | Train Acc: 65.5625| Val Acc: 66.0000\n",
            "Epoch 163: | Train Loss: 0.641 | Val Loss: 0.6395 | Train Acc: 65.5625| Val Acc: 66.0000\n",
            "Epoch 164: | Train Loss: 0.641 | Val Loss: 0.6394 | Train Acc: 65.5625| Val Acc: 66.0000\n",
            "Epoch 165: | Train Loss: 0.641 | Val Loss: 0.6394 | Train Acc: 65.5625| Val Acc: 66.0000\n",
            "Epoch 166: | Train Loss: 0.641 | Val Loss: 0.6393 | Train Acc: 65.5625| Val Acc: 66.0000\n",
            "Epoch 167: | Train Loss: 0.641 | Val Loss: 0.6393 | Train Acc: 65.5625| Val Acc: 66.0000\n",
            "Epoch 168: | Train Loss: 0.641 | Val Loss: 0.6392 | Train Acc: 65.5625| Val Acc: 66.0000\n",
            "Epoch 169: | Train Loss: 0.641 | Val Loss: 0.6392 | Train Acc: 65.5625| Val Acc: 66.0000\n",
            "Epoch 170: | Train Loss: 0.640 | Val Loss: 0.6391 | Train Acc: 65.5625| Val Acc: 66.0000\n",
            "Epoch 171: | Train Loss: 0.640 | Val Loss: 0.6391 | Train Acc: 65.5625| Val Acc: 66.0000\n",
            "Epoch 172: | Train Loss: 0.640 | Val Loss: 0.6390 | Train Acc: 65.5625| Val Acc: 66.0000\n",
            "Epoch 173: | Train Loss: 0.640 | Val Loss: 0.6390 | Train Acc: 65.5625| Val Acc: 66.0000\n",
            "Epoch 174: | Train Loss: 0.640 | Val Loss: 0.6389 | Train Acc: 65.5625| Val Acc: 66.0000\n",
            "Epoch 175: | Train Loss: 0.640 | Val Loss: 0.6388 | Train Acc: 65.5625| Val Acc: 66.0000\n",
            "Epoch 176: | Train Loss: 0.640 | Val Loss: 0.6388 | Train Acc: 65.5625| Val Acc: 66.0000\n",
            "Epoch 177: | Train Loss: 0.640 | Val Loss: 0.6387 | Train Acc: 65.5625| Val Acc: 66.0000\n",
            "Epoch 178: | Train Loss: 0.640 | Val Loss: 0.6387 | Train Acc: 65.5625| Val Acc: 66.0000\n",
            "Epoch 179: | Train Loss: 0.640 | Val Loss: 0.6386 | Train Acc: 65.5625| Val Acc: 66.0000\n",
            "Epoch 180: | Train Loss: 0.640 | Val Loss: 0.6385 | Train Acc: 65.5625| Val Acc: 66.0000\n",
            "Epoch 181: | Train Loss: 0.640 | Val Loss: 0.6385 | Train Acc: 65.5625| Val Acc: 66.0000\n",
            "Epoch 182: | Train Loss: 0.640 | Val Loss: 0.6384 | Train Acc: 65.5625| Val Acc: 66.0000\n",
            "Epoch 183: | Train Loss: 0.640 | Val Loss: 0.6384 | Train Acc: 65.5625| Val Acc: 66.0000\n",
            "Epoch 184: | Train Loss: 0.639 | Val Loss: 0.6383 | Train Acc: 65.5625| Val Acc: 66.0000\n",
            "Epoch 185: | Train Loss: 0.639 | Val Loss: 0.6382 | Train Acc: 65.5625| Val Acc: 66.0000\n",
            "Epoch 186: | Train Loss: 0.639 | Val Loss: 0.6382 | Train Acc: 65.5625| Val Acc: 66.0000\n",
            "Epoch 187: | Train Loss: 0.639 | Val Loss: 0.6381 | Train Acc: 65.5625| Val Acc: 66.0000\n",
            "Epoch 188: | Train Loss: 0.639 | Val Loss: 0.6380 | Train Acc: 65.5625| Val Acc: 66.0000\n",
            "Epoch 189: | Train Loss: 0.639 | Val Loss: 0.6380 | Train Acc: 65.5625| Val Acc: 66.0000\n",
            "Epoch 190: | Train Loss: 0.639 | Val Loss: 0.6379 | Train Acc: 65.5625| Val Acc: 66.0000\n",
            "Epoch 191: | Train Loss: 0.639 | Val Loss: 0.6378 | Train Acc: 65.5625| Val Acc: 66.0000\n",
            "Epoch 192: | Train Loss: 0.639 | Val Loss: 0.6378 | Train Acc: 65.5625| Val Acc: 66.0000\n",
            "Epoch 193: | Train Loss: 0.639 | Val Loss: 0.6377 | Train Acc: 65.5625| Val Acc: 66.0000\n",
            "Epoch 194: | Train Loss: 0.639 | Val Loss: 0.6376 | Train Acc: 65.5625| Val Acc: 66.0000\n",
            "Epoch 195: | Train Loss: 0.639 | Val Loss: 0.6376 | Train Acc: 65.5625| Val Acc: 66.0000\n",
            "Epoch 196: | Train Loss: 0.638 | Val Loss: 0.6375 | Train Acc: 65.5625| Val Acc: 66.0000\n",
            "Epoch 197: | Train Loss: 0.638 | Val Loss: 0.6374 | Train Acc: 65.5625| Val Acc: 66.0000\n",
            "Epoch 198: | Train Loss: 0.638 | Val Loss: 0.6374 | Train Acc: 65.5625| Val Acc: 66.0000\n",
            "Epoch 199: | Train Loss: 0.638 | Val Loss: 0.6373 | Train Acc: 65.5625| Val Acc: 66.0000\n",
            "Epoch 200: | Train Loss: 0.638 | Val Loss: 0.6372 | Train Acc: 65.5625| Val Acc: 66.0000\n",
            "Epoch 201: | Train Loss: 0.638 | Val Loss: 0.6371 | Train Acc: 65.5625| Val Acc: 66.0000\n",
            "Epoch 202: | Train Loss: 0.638 | Val Loss: 0.6371 | Train Acc: 65.5625| Val Acc: 66.0000\n",
            "Epoch 203: | Train Loss: 0.638 | Val Loss: 0.6370 | Train Acc: 65.5625| Val Acc: 66.0000\n",
            "Epoch 204: | Train Loss: 0.638 | Val Loss: 0.6369 | Train Acc: 65.5625| Val Acc: 66.0000\n",
            "Epoch 205: | Train Loss: 0.638 | Val Loss: 0.6368 | Train Acc: 65.5625| Val Acc: 66.0000\n",
            "Epoch 206: | Train Loss: 0.637 | Val Loss: 0.6368 | Train Acc: 65.5625| Val Acc: 66.0000\n",
            "Epoch 207: | Train Loss: 0.637 | Val Loss: 0.6367 | Train Acc: 65.5625| Val Acc: 66.0000\n",
            "Epoch 208: | Train Loss: 0.637 | Val Loss: 0.6366 | Train Acc: 65.5625| Val Acc: 66.0000\n",
            "Epoch 209: | Train Loss: 0.637 | Val Loss: 0.6365 | Train Acc: 65.5625| Val Acc: 66.0000\n",
            "Epoch 210: | Train Loss: 0.637 | Val Loss: 0.6364 | Train Acc: 65.5625| Val Acc: 66.0000\n",
            "Epoch 211: | Train Loss: 0.637 | Val Loss: 0.6364 | Train Acc: 65.5625| Val Acc: 66.0000\n",
            "Epoch 212: | Train Loss: 0.637 | Val Loss: 0.6363 | Train Acc: 65.5625| Val Acc: 66.0000\n",
            "Epoch 213: | Train Loss: 0.637 | Val Loss: 0.6362 | Train Acc: 65.5625| Val Acc: 66.0000\n",
            "Epoch 214: | Train Loss: 0.637 | Val Loss: 0.6361 | Train Acc: 65.5625| Val Acc: 66.0000\n",
            "Epoch 215: | Train Loss: 0.637 | Val Loss: 0.6360 | Train Acc: 65.5625| Val Acc: 66.0000\n",
            "Epoch 216: | Train Loss: 0.636 | Val Loss: 0.6360 | Train Acc: 65.5625| Val Acc: 66.0000\n",
            "Epoch 217: | Train Loss: 0.636 | Val Loss: 0.6359 | Train Acc: 65.5625| Val Acc: 66.0000\n",
            "Epoch 218: | Train Loss: 0.636 | Val Loss: 0.6358 | Train Acc: 65.5625| Val Acc: 66.0000\n",
            "Epoch 219: | Train Loss: 0.636 | Val Loss: 0.6357 | Train Acc: 65.5625| Val Acc: 66.0000\n",
            "Epoch 220: | Train Loss: 0.636 | Val Loss: 0.6356 | Train Acc: 65.5625| Val Acc: 66.0000\n",
            "Epoch 221: | Train Loss: 0.636 | Val Loss: 0.6355 | Train Acc: 65.5625| Val Acc: 66.0000\n",
            "Epoch 222: | Train Loss: 0.636 | Val Loss: 0.6354 | Train Acc: 65.5625| Val Acc: 66.0000\n",
            "Epoch 223: | Train Loss: 0.636 | Val Loss: 0.6353 | Train Acc: 65.5625| Val Acc: 66.0000\n",
            "Epoch 224: | Train Loss: 0.636 | Val Loss: 0.6352 | Train Acc: 65.5625| Val Acc: 66.0000\n",
            "Epoch 225: | Train Loss: 0.635 | Val Loss: 0.6351 | Train Acc: 65.5625| Val Acc: 66.0000\n",
            "Epoch 226: | Train Loss: 0.635 | Val Loss: 0.6351 | Train Acc: 65.5625| Val Acc: 66.0000\n",
            "Epoch 227: | Train Loss: 0.635 | Val Loss: 0.6350 | Train Acc: 65.5625| Val Acc: 66.0000\n",
            "Epoch 228: | Train Loss: 0.635 | Val Loss: 0.6349 | Train Acc: 65.5625| Val Acc: 66.0000\n",
            "Epoch 229: | Train Loss: 0.635 | Val Loss: 0.6348 | Train Acc: 65.5625| Val Acc: 66.0000\n",
            "Epoch 230: | Train Loss: 0.635 | Val Loss: 0.6347 | Train Acc: 65.5625| Val Acc: 66.0000\n",
            "Epoch 231: | Train Loss: 0.635 | Val Loss: 0.6346 | Train Acc: 65.5625| Val Acc: 66.0000\n",
            "Epoch 232: | Train Loss: 0.635 | Val Loss: 0.6345 | Train Acc: 65.5625| Val Acc: 66.0000\n",
            "Epoch 233: | Train Loss: 0.634 | Val Loss: 0.6344 | Train Acc: 65.5625| Val Acc: 66.0000\n",
            "Epoch 234: | Train Loss: 0.634 | Val Loss: 0.6343 | Train Acc: 65.5625| Val Acc: 66.0000\n",
            "Epoch 235: | Train Loss: 0.634 | Val Loss: 0.6342 | Train Acc: 65.5625| Val Acc: 66.0000\n",
            "Epoch 236: | Train Loss: 0.634 | Val Loss: 0.6341 | Train Acc: 65.5625| Val Acc: 66.0000\n",
            "Epoch 237: | Train Loss: 0.634 | Val Loss: 0.6340 | Train Acc: 65.5625| Val Acc: 66.0000\n",
            "Epoch 238: | Train Loss: 0.634 | Val Loss: 0.6339 | Train Acc: 65.5625| Val Acc: 66.0000\n",
            "Epoch 239: | Train Loss: 0.634 | Val Loss: 0.6337 | Train Acc: 65.5625| Val Acc: 66.0000\n",
            "Epoch 240: | Train Loss: 0.634 | Val Loss: 0.6336 | Train Acc: 65.5625| Val Acc: 66.0000\n",
            "Epoch 241: | Train Loss: 0.633 | Val Loss: 0.6335 | Train Acc: 65.5625| Val Acc: 66.0000\n",
            "Epoch 242: | Train Loss: 0.633 | Val Loss: 0.6334 | Train Acc: 65.5625| Val Acc: 66.0000\n",
            "Epoch 243: | Train Loss: 0.633 | Val Loss: 0.6333 | Train Acc: 65.5625| Val Acc: 66.0000\n",
            "Epoch 244: | Train Loss: 0.633 | Val Loss: 0.6332 | Train Acc: 65.5625| Val Acc: 66.0000\n",
            "Epoch 245: | Train Loss: 0.633 | Val Loss: 0.6331 | Train Acc: 65.5625| Val Acc: 66.0000\n",
            "Epoch 246: | Train Loss: 0.633 | Val Loss: 0.6330 | Train Acc: 65.5625| Val Acc: 66.0000\n",
            "Epoch 247: | Train Loss: 0.633 | Val Loss: 0.6329 | Train Acc: 65.5625| Val Acc: 66.0000\n",
            "Epoch 248: | Train Loss: 0.632 | Val Loss: 0.6327 | Train Acc: 65.5625| Val Acc: 66.0000\n",
            "Epoch 249: | Train Loss: 0.632 | Val Loss: 0.6326 | Train Acc: 65.5625| Val Acc: 66.0000\n",
            "Epoch 250: | Train Loss: 0.632 | Val Loss: 0.6325 | Train Acc: 65.5625| Val Acc: 66.0000\n"
          ]
        }
      ],
      "source": [
        "model = NeuralNetwork(n_input = n_input, n_output=n_output,output_activation='sigmoid')\n",
        "history, y_hat = train(model, train_loader, val_dataset, epochs=epochs, lr=lr, device=device, binary=binary)"
      ]
    },
    {
      "cell_type": "markdown",
      "metadata": {
        "id": "-d3PqFqVxU-D"
      },
      "source": [
        "#### Resposta"
      ]
    },
    {
      "cell_type": "code",
      "execution_count": 69,
      "metadata": {
        "id": "9_VkaYwaxU-D"
      },
      "outputs": [],
      "source": [
        "y_pred = model.predict(test_dataset.X_data,binary=binary)\n"
      ]
    },
    {
      "cell_type": "code",
      "execution_count": 70,
      "metadata": {
        "colab": {
          "base_uri": "https://localhost:8080/",
          "height": 902
        },
        "id": "0_c33dusxU-D",
        "outputId": "927243f5-471c-4d1f-8b09-13de0a7bc3fe"
      },
      "outputs": [
        {
          "output_type": "stream",
          "name": "stdout",
          "text": [
            "              precision    recall  f1-score   support\n",
            "\n",
            "           0       0.64      1.00      0.78        99\n",
            "           1       0.00      0.00      0.00        55\n",
            "\n",
            "    accuracy                           0.64       154\n",
            "   macro avg       0.32      0.50      0.39       154\n",
            "weighted avg       0.41      0.64      0.50       154\n",
            "\n"
          ]
        },
        {
          "output_type": "stream",
          "name": "stderr",
          "text": [
            "/usr/local/lib/python3.12/dist-packages/sklearn/metrics/_classification.py:1565: UndefinedMetricWarning: Precision is ill-defined and being set to 0.0 in labels with no predicted samples. Use `zero_division` parameter to control this behavior.\n",
            "  _warn_prf(average, modifier, f\"{metric.capitalize()} is\", len(result))\n",
            "/usr/local/lib/python3.12/dist-packages/sklearn/metrics/_classification.py:1565: UndefinedMetricWarning: Precision is ill-defined and being set to 0.0 in labels with no predicted samples. Use `zero_division` parameter to control this behavior.\n",
            "  _warn_prf(average, modifier, f\"{metric.capitalize()} is\", len(result))\n",
            "/usr/local/lib/python3.12/dist-packages/sklearn/metrics/_classification.py:1565: UndefinedMetricWarning: Precision is ill-defined and being set to 0.0 in labels with no predicted samples. Use `zero_division` parameter to control this behavior.\n",
            "  _warn_prf(average, modifier, f\"{metric.capitalize()} is\", len(result))\n"
          ]
        },
        {
          "output_type": "display_data",
          "data": {
            "text/plain": [
              "<Figure size 800x600 with 2 Axes>"
            ],
            "image/png": "[encoded data removed]"
          },
          "metadata": {}
        }
      ],
      "source": [
        "print(classification_report(y_test, y_pred))\n",
        "\n",
        "cm = confusion_matrix(y_test, y_pred)\n",
        "\n",
        "plot_confusion_matrix(cm)"
      ]
    },
    {
      "cell_type": "markdown",
      "metadata": {
        "id": "D7cWvJCFgPWV"
      },
      "source": [
        "### 2)\tModifique o tempo de treinamento (épocas) da Rede Neural. Escolha valores distintos (e.g. 1 e 1000 épocas) e avalie os resultados."
      ]
    },
    {
      "cell_type": "markdown",
      "metadata": {
        "id": "w-7UtnU9gPWW"
      },
      "source": [
        "#### Rascunho"
      ]
    },
    {
      "cell_type": "code",
      "execution_count": null,
      "metadata": {
        "id": "mWeBg2aegPWX"
      },
      "outputs": [],
      "source": []
    },
    {
      "cell_type": "code",
      "execution_count": null,
      "metadata": {
        "id": "4Bi4sljdgPWY"
      },
      "outputs": [],
      "source": []
    },
    {
      "cell_type": "markdown",
      "metadata": {
        "id": "XSHP-OfzgPWZ"
      },
      "source": [
        "#### Resposta"
      ]
    },
    {
      "cell_type": "code",
      "execution_count": null,
      "metadata": {
        "id": "jz5i-4AggPWa"
      },
      "outputs": [],
      "source": []
    },
    {
      "cell_type": "code",
      "execution_count": null,
      "metadata": {
        "id": "U_M_0gobgPWb"
      },
      "outputs": [],
      "source": []
    },
    {
      "cell_type": "markdown",
      "metadata": {
        "id": "fvTj11HjgPWc"
      },
      "source": [
        "### 3)\t Modifique a taxa de aprendizado da Rede Neural. Escolha valores distintos (e.g. 0,001 e 0,1) e avalie os resultados."
      ]
    },
    {
      "cell_type": "markdown",
      "metadata": {
        "id": "dk2JosYggPWd"
      },
      "source": [
        "#### Rascunho"
      ]
    },
    {
      "cell_type": "code",
      "execution_count": null,
      "metadata": {
        "id": "wG5CiivfgPWe"
      },
      "outputs": [],
      "source": []
    },
    {
      "cell_type": "code",
      "execution_count": null,
      "metadata": {
        "id": "JJkYToMWgPWf"
      },
      "outputs": [],
      "source": []
    },
    {
      "cell_type": "code",
      "execution_count": null,
      "metadata": {
        "id": "mWfo8qx9gPWg"
      },
      "outputs": [],
      "source": []
    },
    {
      "cell_type": "markdown",
      "metadata": {
        "id": "rVmTwvkggPWh"
      },
      "source": [
        "#### Resposta"
      ]
    },
    {
      "cell_type": "code",
      "execution_count": null,
      "metadata": {
        "id": "PTr_1qMNgPWi"
      },
      "outputs": [],
      "source": []
    },
    {
      "cell_type": "code",
      "execution_count": null,
      "metadata": {
        "id": "wHY877-RgPWj"
      },
      "outputs": [],
      "source": []
    },
    {
      "cell_type": "code",
      "execution_count": null,
      "metadata": {
        "id": "0m0tmG1egPWk"
      },
      "outputs": [],
      "source": []
    },
    {
      "cell_type": "markdown",
      "metadata": {
        "id": "EzIc3RZMgPWk"
      },
      "source": [
        "### 4)\tModifique a quantidade de neurônios na camada escondida da Rede Neural. Escolha valores distintos (e.g. 2 e 70 neurônios) e avalie os resultados."
      ]
    },
    {
      "cell_type": "markdown",
      "metadata": {
        "id": "GHCO6w-2gPWl"
      },
      "source": [
        "#### Rascunho"
      ]
    },
    {
      "cell_type": "code",
      "execution_count": null,
      "metadata": {
        "id": "JsPDeM4IgPWm"
      },
      "outputs": [],
      "source": []
    },
    {
      "cell_type": "code",
      "execution_count": null,
      "metadata": {
        "id": "ESzdXPO1gPWn"
      },
      "outputs": [],
      "source": []
    },
    {
      "cell_type": "code",
      "execution_count": null,
      "metadata": {
        "id": "w4v2Y7kngPWp"
      },
      "outputs": [],
      "source": []
    },
    {
      "cell_type": "code",
      "execution_count": null,
      "metadata": {
        "id": "olKNpJ2lgPWq"
      },
      "outputs": [],
      "source": []
    },
    {
      "cell_type": "markdown",
      "metadata": {
        "id": "WQIl4IUTgPWr"
      },
      "source": [
        "#### Resposta"
      ]
    },
    {
      "cell_type": "code",
      "execution_count": null,
      "metadata": {
        "id": "y1Ue7kAkgPWs"
      },
      "outputs": [],
      "source": []
    },
    {
      "cell_type": "code",
      "execution_count": null,
      "metadata": {
        "id": "p3WyH06FgPWt"
      },
      "outputs": [],
      "source": []
    },
    {
      "cell_type": "code",
      "execution_count": null,
      "metadata": {
        "id": "yoP80Kx8gPWt"
      },
      "outputs": [],
      "source": []
    },
    {
      "cell_type": "markdown",
      "metadata": {
        "id": "QiM6sFTOgPWt"
      },
      "source": [
        "## Parte IV - Análise dos resultados - **Extra**"
      ]
    },
    {
      "cell_type": "markdown",
      "metadata": {
        "id": "1yPVBu47xU-G"
      },
      "source": [
        "### 1)\tImplemente a técnica de parada antecipada (Early Stopping) usando o conjunto de validação. Avalie o resultado obtido.\n",
        "\n",
        "OBS: crie uma nova função (e.g. train_EarlyStopping) ou use um parâmetro para habilitar/desabilitar o Early Stopping."
      ]
    },
    {
      "cell_type": "markdown",
      "metadata": {
        "id": "27OzUOQxxU-G"
      },
      "source": [
        "#### Rascunho"
      ]
    },
    {
      "cell_type": "code",
      "execution_count": null,
      "metadata": {
        "id": "3WLEI0ebxU-G"
      },
      "outputs": [],
      "source": []
    },
    {
      "cell_type": "code",
      "execution_count": null,
      "metadata": {
        "id": "cBdNF1aexU-G"
      },
      "outputs": [],
      "source": []
    },
    {
      "cell_type": "markdown",
      "metadata": {
        "id": "Dz85MvFqxU-G"
      },
      "source": [
        "#### Resposta"
      ]
    },
    {
      "cell_type": "code",
      "execution_count": null,
      "metadata": {
        "id": "Mb-ffKYHxU-G"
      },
      "outputs": [],
      "source": []
    },
    {
      "cell_type": "code",
      "execution_count": null,
      "metadata": {
        "id": "7H310miZxU-G"
      },
      "outputs": [],
      "source": []
    },
    {
      "cell_type": "code",
      "execution_count": null,
      "metadata": {
        "id": "8JnJVTjmxU-H"
      },
      "outputs": [],
      "source": []
    },
    {
      "cell_type": "markdown",
      "metadata": {
        "id": "UW_TArx3gPWw"
      },
      "source": [
        "### 2)\tFaça novos testes para avaliar o desempenho da Rede Neural no problema designado usando a técnica K-Fold (com K = 10). Comente o resultado obtido.\n",
        "\n",
        "Dica: não é necessário utilizar a ferramenta KFold do scikit-learn para o desenvolvimento deste item. Uma alternativa <b> simples </b> é fazer um *for loop*, selecionando os índices em bloco."
      ]
    },
    {
      "cell_type": "markdown",
      "metadata": {
        "id": "92fLmxFxgPWx"
      },
      "source": [
        "#### Rascunho"
      ]
    },
    {
      "cell_type": "code",
      "execution_count": null,
      "metadata": {
        "id": "FdAq5uP8gPWx"
      },
      "outputs": [],
      "source": []
    },
    {
      "cell_type": "code",
      "execution_count": null,
      "metadata": {
        "id": "JKQCChIwgPWy"
      },
      "outputs": [],
      "source": []
    },
    {
      "cell_type": "markdown",
      "metadata": {
        "id": "OJDcfjeRgPWz"
      },
      "source": [
        "#### Resposta"
      ]
    },
    {
      "cell_type": "code",
      "execution_count": null,
      "metadata": {
        "id": "VEYXeqiWgPW0"
      },
      "outputs": [],
      "source": []
    },
    {
      "cell_type": "markdown",
      "metadata": {
        "id": "jMCbzZPCgPW0"
      },
      "source": [
        "### 3)\tFaça análises e novas implementações que você julgue importante para o seu trabalho. Não esqueça de explicar a motivação da análise realizada."
      ]
    },
    {
      "cell_type": "markdown",
      "metadata": {
        "id": "idqI-vD9gPW1"
      },
      "source": [
        "#### Rascunho"
      ]
    },
    {
      "cell_type": "code",
      "execution_count": null,
      "metadata": {
        "id": "1cADcwqogPW4"
      },
      "outputs": [],
      "source": []
    },
    {
      "cell_type": "markdown",
      "metadata": {
        "id": "xUgWaWBbgPXE"
      },
      "source": [
        "#### Resposta"
      ]
    },
    {
      "cell_type": "code",
      "execution_count": null,
      "metadata": {
        "id": "P_-ocy_LgPXG"
      },
      "outputs": [],
      "source": []
    }
  ],
  "metadata": {
    "colab": {
      "collapsed_sections": [
        "dk2JosYggPWd",
        "rVmTwvkggPWh",
        "idqI-vD9gPW1",
        "xUgWaWBbgPXE"
      ],
      "name": "class_pratica1.ipynb",
      "provenance": [],
      "toc_visible": true
    },
    "kernelspec": {
      "display_name": "Python 3",
      "language": "python",
      "name": "python3"
    },
    "language_info": {
      "codemirror_mode": {
        "name": "ipython",
        "version": 3
      },
      "file_extension": ".py",
      "mimetype": "text/x-python",
      "name": "python",
      "nbconvert_exporter": "python",
      "pygments_lexer": "ipython3",
      "version": "3.8.2"
    },
    "vscode": {
      "interpreter": {
        "hash": "d044c6e0ce06759120adefce77398d00e1228e64d92f3f185fbd024a7701b8e0"
      }
    },
    "widgets": {
      "application/vnd.jupyter.widget-state+json": {
        "1d8f547e210e4feab20a032c464dee9d": {
          "model_module": "@jupyter-widgets/controls",
          "model_name": "HBoxModel",
          "model_module_version": "1.5.0",
          "state": {
            "_dom_classes": [],
            "_model_module": "@jupyter-widgets/controls",
            "_model_module_version": "1.5.0",
            "_model_name": "HBoxModel",
            "_view_count": null,
            "_view_module": "@jupyter-widgets/controls",
            "_view_module_version": "1.5.0",
            "_view_name": "HBoxView",
            "box_style": "",
            "children": [
              "IPY_MODEL_ae0620622e4444839e1af940f9046165",
              "IPY_MODEL_db085553dfd94db2a2c3c47f64943bc7",
              "IPY_MODEL_b7fdf20437474bcfa56664dff4d0d39c"
            ],
            "layout": "IPY_MODEL_a50d7daf2efe44ba8daafd58c024502e"
          }
        },
        "ae0620622e4444839e1af940f9046165": {
          "model_module": "@jupyter-widgets/controls",
          "model_name": "HTMLModel",
          "model_module_version": "1.5.0",
          "state": {
            "_dom_classes": [],
            "_model_module": "@jupyter-widgets/controls",
            "_model_module_version": "1.5.0",
            "_model_name": "HTMLModel",
            "_view_count": null,
            "_view_module": "@jupyter-widgets/controls",
            "_view_module_version": "1.5.0",
            "_view_name": "HTMLView",
            "description": "",
            "description_tooltip": null,
            "layout": "IPY_MODEL_b58334102257401a8b447fb1661ab493",
            "placeholder": "​",
            "style": "IPY_MODEL_aa3c037bdf2e4228adbd340918eb7e6b",
            "value": "100%"
          }
        },
        "db085553dfd94db2a2c3c47f64943bc7": {
          "model_module": "@jupyter-widgets/controls",
          "model_name": "FloatProgressModel",
          "model_module_version": "1.5.0",
          "state": {
            "_dom_classes": [],
            "_model_module": "@jupyter-widgets/controls",
            "_model_module_version": "1.5.0",
            "_model_name": "FloatProgressModel",
            "_view_count": null,
            "_view_module": "@jupyter-widgets/controls",
            "_view_module_version": "1.5.0",
            "_view_name": "ProgressView",
            "bar_style": "success",
            "description": "",
            "description_tooltip": null,
            "layout": "IPY_MODEL_6bd8d97526be4cba9978cec3a8e1900e",
            "max": 250,
            "min": 0,
            "orientation": "horizontal",
            "style": "IPY_MODEL_35a381a161714a859f5aabf7263d8a74",
            "value": 250
          }
        },
        "b7fdf20437474bcfa56664dff4d0d39c": {
          "model_module": "@jupyter-widgets/controls",
          "model_name": "HTMLModel",
          "model_module_version": "1.5.0",
          "state": {
            "_dom_classes": [],
            "_model_module": "@jupyter-widgets/controls",
            "_model_module_version": "1.5.0",
            "_model_name": "HTMLModel",
            "_view_count": null,
            "_view_module": "@jupyter-widgets/controls",
            "_view_module_version": "1.5.0",
            "_view_name": "HTMLView",
            "description": "",
            "description_tooltip": null,
            "layout": "IPY_MODEL_713d769da71042b48a8b08067fa239c1",
            "placeholder": "​",
            "style": "IPY_MODEL_4ec8ac0a75624d9aae265e0de1e86ca5",
            "value": " 250/250 [00:04&lt;00:00, 50.98it/s]"
          }
        },
        "a50d7daf2efe44ba8daafd58c024502e": {
          "model_module": "@jupyter-widgets/base",
          "model_name": "LayoutModel",
          "model_module_version": "1.2.0",
          "state": {
            "_model_module": "@jupyter-widgets/base",
            "_model_module_version": "1.2.0",
            "_model_name": "LayoutModel",
            "_view_count": null,
            "_view_module": "@jupyter-widgets/base",
            "_view_module_version": "1.2.0",
            "_view_name": "LayoutView",
            "align_content": null,
            "align_items": null,
            "align_self": null,
            "border": null,
            "bottom": null,
            "display": null,
            "flex": null,
            "flex_flow": null,
            "grid_area": null,
            "grid_auto_columns": null,
            "grid_auto_flow": null,
            "grid_auto_rows": null,
            "grid_column": null,
            "grid_gap": null,
            "grid_row": null,
            "grid_template_areas": null,
            "grid_template_columns": null,
            "grid_template_rows": null,
            "height": null,
            "justify_content": null,
            "justify_items": null,
            "left": null,
            "margin": null,
            "max_height": null,
            "max_width": null,
            "min_height": null,
            "min_width": null,
            "object_fit": null,
            "object_position": null,
            "order": null,
            "overflow": null,
            "overflow_x": null,
            "overflow_y": null,
            "padding": null,
            "right": null,
            "top": null,
            "visibility": null,
            "width": null
          }
        },
        "b58334102257401a8b447fb1661ab493": {
          "model_module": "@jupyter-widgets/base",
          "model_name": "LayoutModel",
          "model_module_version": "1.2.0",
          "state": {
            "_model_module": "@jupyter-widgets/base",
            "_model_module_version": "1.2.0",
            "_model_name": "LayoutModel",
            "_view_count": null,
            "_view_module": "@jupyter-widgets/base",
            "_view_module_version": "1.2.0",
            "_view_name": "LayoutView",
            "align_content": null,
            "align_items": null,
            "align_self": null,
            "border": null,
            "bottom": null,
            "display": null,
            "flex": null,
            "flex_flow": null,
            "grid_area": null,
            "grid_auto_columns": null,
            "grid_auto_flow": null,
            "grid_auto_rows": null,
            "grid_column": null,
            "grid_gap": null,
            "grid_row": null,
            "grid_template_areas": null,
            "grid_template_columns": null,
            "grid_template_rows": null,
            "height": null,
            "justify_content": null,
            "justify_items": null,
            "left": null,
            "margin": null,
            "max_height": null,
            "max_width": null,
            "min_height": null,
            "min_width": null,
            "object_fit": null,
            "object_position": null,
            "order": null,
            "overflow": null,
            "overflow_x": null,
            "overflow_y": null,
            "padding": null,
            "right": null,
            "top": null,
            "visibility": null,
            "width": null
          }
        },
        "aa3c037bdf2e4228adbd340918eb7e6b": {
          "model_module": "@jupyter-widgets/controls",
          "model_name": "DescriptionStyleModel",
          "model_module_version": "1.5.0",
          "state": {
            "_model_module": "@jupyter-widgets/controls",
            "_model_module_version": "1.5.0",
            "_model_name": "DescriptionStyleModel",
            "_view_count": null,
            "_view_module": "@jupyter-widgets/base",
            "_view_module_version": "1.2.0",
            "_view_name": "StyleView",
            "description_width": ""
          }
        },
        "6bd8d97526be4cba9978cec3a8e1900e": {
          "model_module": "@jupyter-widgets/base",
          "model_name": "LayoutModel",
          "model_module_version": "1.2.0",
          "state": {
            "_model_module": "@jupyter-widgets/base",
            "_model_module_version": "1.2.0",
            "_model_name": "LayoutModel",
            "_view_count": null,
            "_view_module": "@jupyter-widgets/base",
            "_view_module_version": "1.2.0",
            "_view_name": "LayoutView",
            "align_content": null,
            "align_items": null,
            "align_self": null,
            "border": null,
            "bottom": null,
            "display": null,
            "flex": null,
            "flex_flow": null,
            "grid_area": null,
            "grid_auto_columns": null,
            "grid_auto_flow": null,
            "grid_auto_rows": null,
            "grid_column": null,
            "grid_gap": null,
            "grid_row": null,
            "grid_template_areas": null,
            "grid_template_columns": null,
            "grid_template_rows": null,
            "height": null,
            "justify_content": null,
            "justify_items": null,
            "left": null,
            "margin": null,
            "max_height": null,
            "max_width": null,
            "min_height": null,
            "min_width": null,
            "object_fit": null,
            "object_position": null,
            "order": null,
            "overflow": null,
            "overflow_x": null,
            "overflow_y": null,
            "padding": null,
            "right": null,
            "top": null,
            "visibility": null,
            "width": null
          }
        },
        "35a381a161714a859f5aabf7263d8a74": {
          "model_module": "@jupyter-widgets/controls",
          "model_name": "ProgressStyleModel",
          "model_module_version": "1.5.0",
          "state": {
            "_model_module": "@jupyter-widgets/controls",
            "_model_module_version": "1.5.0",
            "_model_name": "ProgressStyleModel",
            "_view_count": null,
            "_view_module": "@jupyter-widgets/base",
            "_view_module_version": "1.2.0",
            "_view_name": "StyleView",
            "bar_color": null,
            "description_width": ""
          }
        },
        "713d769da71042b48a8b08067fa239c1": {
          "model_module": "@jupyter-widgets/base",
          "model_name": "LayoutModel",
          "model_module_version": "1.2.0",
          "state": {
            "_model_module": "@jupyter-widgets/base",
            "_model_module_version": "1.2.0",
            "_model_name": "LayoutModel",
            "_view_count": null,
            "_view_module": "@jupyter-widgets/base",
            "_view_module_version": "1.2.0",
            "_view_name": "LayoutView",
            "align_content": null,
            "align_items": null,
            "align_self": null,
            "border": null,
            "bottom": null,
            "display": null,
            "flex": null,
            "flex_flow": null,
            "grid_area": null,
            "grid_auto_columns": null,
            "grid_auto_flow": null,
            "grid_auto_rows": null,
            "grid_column": null,
            "grid_gap": null,
            "grid_row": null,
            "grid_template_areas": null,
            "grid_template_columns": null,
            "grid_template_rows": null,
            "height": null,
            "justify_content": null,
            "justify_items": null,
            "left": null,
            "margin": null,
            "max_height": null,
            "max_width": null,
            "min_height": null,
            "min_width": null,
            "object_fit": null,
            "object_position": null,
            "order": null,
            "overflow": null,
            "overflow_x": null,
            "overflow_y": null,
            "padding": null,
            "right": null,
            "top": null,
            "visibility": null,
            "width": null
          }
        },
        "4ec8ac0a75624d9aae265e0de1e86ca5": {
          "model_module": "@jupyter-widgets/controls",
          "model_name": "DescriptionStyleModel",
          "model_module_version": "1.5.0",
          "state": {
            "_model_module": "@jupyter-widgets/controls",
            "_model_module_version": "1.5.0",
            "_model_name": "DescriptionStyleModel",
            "_view_count": null,
            "_view_module": "@jupyter-widgets/base",
            "_view_module_version": "1.2.0",
            "_view_name": "StyleView",
            "description_width": ""
          }
        },
        "489fef83434e43a29fd0da8207f89a38": {
          "model_module": "@jupyter-widgets/controls",
          "model_name": "HBoxModel",
          "model_module_version": "1.5.0",
          "state": {
            "_dom_classes": [],
            "_model_module": "@jupyter-widgets/controls",
            "_model_module_version": "1.5.0",
            "_model_name": "HBoxModel",
            "_view_count": null,
            "_view_module": "@jupyter-widgets/controls",
            "_view_module_version": "1.5.0",
            "_view_name": "HBoxView",
            "box_style": "",
            "children": [
              "IPY_MODEL_1832cc370ab443cfbed4a0e39fc86a66",
              "IPY_MODEL_ffc6ba6f4ec44293a06b14ab24f5d9c4",
              "IPY_MODEL_fa60ce1e48b841fdae4ff89c85741dd0"
            ],
            "layout": "IPY_MODEL_ac23e168e40c458e8d77a1ee7dcfc13e"
          }
        },
        "1832cc370ab443cfbed4a0e39fc86a66": {
          "model_module": "@jupyter-widgets/controls",
          "model_name": "HTMLModel",
          "model_module_version": "1.5.0",
          "state": {
            "_dom_classes": [],
            "_model_module": "@jupyter-widgets/controls",
            "_model_module_version": "1.5.0",
            "_model_name": "HTMLModel",
            "_view_count": null,
            "_view_module": "@jupyter-widgets/controls",
            "_view_module_version": "1.5.0",
            "_view_name": "HTMLView",
            "description": "",
            "description_tooltip": null,
            "layout": "IPY_MODEL_8fd4550a5dc746cdae5ae3fb3302bc57",
            "placeholder": "​",
            "style": "IPY_MODEL_f5e8a2de7f884df5a17eed87725c7126",
            "value": "100%"
          }
        },
        "ffc6ba6f4ec44293a06b14ab24f5d9c4": {
          "model_module": "@jupyter-widgets/controls",
          "model_name": "FloatProgressModel",
          "model_module_version": "1.5.0",
          "state": {
            "_dom_classes": [],
            "_model_module": "@jupyter-widgets/controls",
            "_model_module_version": "1.5.0",
            "_model_name": "FloatProgressModel",
            "_view_count": null,
            "_view_module": "@jupyter-widgets/controls",
            "_view_module_version": "1.5.0",
            "_view_name": "ProgressView",
            "bar_style": "success",
            "description": "",
            "description_tooltip": null,
            "layout": "IPY_MODEL_7ed9ae0f706a43e2bb7ef798f4bd4b6e",
            "max": 250,
            "min": 0,
            "orientation": "horizontal",
            "style": "IPY_MODEL_e53dca2dcb764748a04966ad151873d5",
            "value": 250
          }
        },
        "fa60ce1e48b841fdae4ff89c85741dd0": {
          "model_module": "@jupyter-widgets/controls",
          "model_name": "HTMLModel",
          "model_module_version": "1.5.0",
          "state": {
            "_dom_classes": [],
            "_model_module": "@jupyter-widgets/controls",
            "_model_module_version": "1.5.0",
            "_model_name": "HTMLModel",
            "_view_count": null,
            "_view_module": "@jupyter-widgets/controls",
            "_view_module_version": "1.5.0",
            "_view_name": "HTMLView",
            "description": "",
            "description_tooltip": null,
            "layout": "IPY_MODEL_018f40fb7d62492b9c4971c5248dcc08",
            "placeholder": "​",
            "style": "IPY_MODEL_5b05a3c1f3154b3eb3c666c9330a46ec",
            "value": " 250/250 [00:04&lt;00:00, 51.09it/s]"
          }
        },
        "ac23e168e40c458e8d77a1ee7dcfc13e": {
          "model_module": "@jupyter-widgets/base",
          "model_name": "LayoutModel",
          "model_module_version": "1.2.0",
          "state": {
            "_model_module": "@jupyter-widgets/base",
            "_model_module_version": "1.2.0",
            "_model_name": "LayoutModel",
            "_view_count": null,
            "_view_module": "@jupyter-widgets/base",
            "_view_module_version": "1.2.0",
            "_view_name": "LayoutView",
            "align_content": null,
            "align_items": null,
            "align_self": null,
            "border": null,
            "bottom": null,
            "display": null,
            "flex": null,
            "flex_flow": null,
            "grid_area": null,
            "grid_auto_columns": null,
            "grid_auto_flow": null,
            "grid_auto_rows": null,
            "grid_column": null,
            "grid_gap": null,
            "grid_row": null,
            "grid_template_areas": null,
            "grid_template_columns": null,
            "grid_template_rows": null,
            "height": null,
            "justify_content": null,
            "justify_items": null,
            "left": null,
            "margin": null,
            "max_height": null,
            "max_width": null,
            "min_height": null,
            "min_width": null,
            "object_fit": null,
            "object_position": null,
            "order": null,
            "overflow": null,
            "overflow_x": null,
            "overflow_y": null,
            "padding": null,
            "right": null,
            "top": null,
            "visibility": null,
            "width": null
          }
        },
        "8fd4550a5dc746cdae5ae3fb3302bc57": {
          "model_module": "@jupyter-widgets/base",
          "model_name": "LayoutModel",
          "model_module_version": "1.2.0",
          "state": {
            "_model_module": "@jupyter-widgets/base",
            "_model_module_version": "1.2.0",
            "_model_name": "LayoutModel",
            "_view_count": null,
            "_view_module": "@jupyter-widgets/base",
            "_view_module_version": "1.2.0",
            "_view_name": "LayoutView",
            "align_content": null,
            "align_items": null,
            "align_self": null,
            "border": null,
            "bottom": null,
            "display": null,
            "flex": null,
            "flex_flow": null,
            "grid_area": null,
            "grid_auto_columns": null,
            "grid_auto_flow": null,
            "grid_auto_rows": null,
            "grid_column": null,
            "grid_gap": null,
            "grid_row": null,
            "grid_template_areas": null,
            "grid_template_columns": null,
            "grid_template_rows": null,
            "height": null,
            "justify_content": null,
            "justify_items": null,
            "left": null,
            "margin": null,
            "max_height": null,
            "max_width": null,
            "min_height": null,
            "min_width": null,
            "object_fit": null,
            "object_position": null,
            "order": null,
            "overflow": null,
            "overflow_x": null,
            "overflow_y": null,
            "padding": null,
            "right": null,
            "top": null,
            "visibility": null,
            "width": null
          }
        },
        "f5e8a2de7f884df5a17eed87725c7126": {
          "model_module": "@jupyter-widgets/controls",
          "model_name": "DescriptionStyleModel",
          "model_module_version": "1.5.0",
          "state": {
            "_model_module": "@jupyter-widgets/controls",
            "_model_module_version": "1.5.0",
            "_model_name": "DescriptionStyleModel",
            "_view_count": null,
            "_view_module": "@jupyter-widgets/base",
            "_view_module_version": "1.2.0",
            "_view_name": "StyleView",
            "description_width": ""
          }
        },
        "7ed9ae0f706a43e2bb7ef798f4bd4b6e": {
          "model_module": "@jupyter-widgets/base",
          "model_name": "LayoutModel",
          "model_module_version": "1.2.0",
          "state": {
            "_model_module": "@jupyter-widgets/base",
            "_model_module_version": "1.2.0",
            "_model_name": "LayoutModel",
            "_view_count": null,
            "_view_module": "@jupyter-widgets/base",
            "_view_module_version": "1.2.0",
            "_view_name": "LayoutView",
            "align_content": null,
            "align_items": null,
            "align_self": null,
            "border": null,
            "bottom": null,
            "display": null,
            "flex": null,
            "flex_flow": null,
            "grid_area": null,
            "grid_auto_columns": null,
            "grid_auto_flow": null,
            "grid_auto_rows": null,
            "grid_column": null,
            "grid_gap": null,
            "grid_row": null,
            "grid_template_areas": null,
            "grid_template_columns": null,
            "grid_template_rows": null,
            "height": null,
            "justify_content": null,
            "justify_items": null,
            "left": null,
            "margin": null,
            "max_height": null,
            "max_width": null,
            "min_height": null,
            "min_width": null,
            "object_fit": null,
            "object_position": null,
            "order": null,
            "overflow": null,
            "overflow_x": null,
            "overflow_y": null,
            "padding": null,
            "right": null,
            "top": null,
            "visibility": null,
            "width": null
          }
        },
        "e53dca2dcb764748a04966ad151873d5": {
          "model_module": "@jupyter-widgets/controls",
          "model_name": "ProgressStyleModel",
          "model_module_version": "1.5.0",
          "state": {
            "_model_module": "@jupyter-widgets/controls",
            "_model_module_version": "1.5.0",
            "_model_name": "ProgressStyleModel",
            "_view_count": null,
            "_view_module": "@jupyter-widgets/base",
            "_view_module_version": "1.2.0",
            "_view_name": "StyleView",
            "bar_color": null,
            "description_width": ""
          }
        },
        "018f40fb7d62492b9c4971c5248dcc08": {
          "model_module": "@jupyter-widgets/base",
          "model_name": "LayoutModel",
          "model_module_version": "1.2.0",
          "state": {
            "_model_module": "@jupyter-widgets/base",
            "_model_module_version": "1.2.0",
            "_model_name": "LayoutModel",
            "_view_count": null,
            "_view_module": "@jupyter-widgets/base",
            "_view_module_version": "1.2.0",
            "_view_name": "LayoutView",
            "align_content": null,
            "align_items": null,
            "align_self": null,
            "border": null,
            "bottom": null,
            "display": null,
            "flex": null,
            "flex_flow": null,
            "grid_area": null,
            "grid_auto_columns": null,
            "grid_auto_flow": null,
            "grid_auto_rows": null,
            "grid_column": null,
            "grid_gap": null,
            "grid_row": null,
            "grid_template_areas": null,
            "grid_template_columns": null,
            "grid_template_rows": null,
            "height": null,
            "justify_content": null,
            "justify_items": null,
            "left": null,
            "margin": null,
            "max_height": null,
            "max_width": null,
            "min_height": null,
            "min_width": null,
            "object_fit": null,
            "object_position": null,
            "order": null,
            "overflow": null,
            "overflow_x": null,
            "overflow_y": null,
            "padding": null,
            "right": null,
            "top": null,
            "visibility": null,
            "width": null
          }
        },
        "5b05a3c1f3154b3eb3c666c9330a46ec": {
          "model_module": "@jupyter-widgets/controls",
          "model_name": "DescriptionStyleModel",
          "model_module_version": "1.5.0",
          "state": {
            "_model_module": "@jupyter-widgets/controls",
            "_model_module_version": "1.5.0",
            "_model_name": "DescriptionStyleModel",
            "_view_count": null,
            "_view_module": "@jupyter-widgets/base",
            "_view_module_version": "1.2.0",
            "_view_name": "StyleView",
            "description_width": ""
          }
        }
      }
    }
  },
  "nbformat": 4,
  "nbformat_minor": 0
}