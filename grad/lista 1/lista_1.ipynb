{
  "cells": [
    {
      "cell_type": "code",
      "execution_count": 1,
      "metadata": {
        "id": "nEClwlfTxU94",
        "outputId": "3045cfe9-e3d4-4ee7-c332-33a21389baa2",
        "colab": {
          "base_uri": "https://localhost:8080/"
        }
      },
      "outputs": [
        {
          "output_type": "stream",
          "name": "stdout",
          "text": [
            "Cloning into 'PUC_Redes_Neurais'...\n",
            "remote: Enumerating objects: 329, done.\u001b[K\n",
            "remote: Counting objects: 100% (49/49), done.\u001b[K\n",
            "remote: Compressing objects: 100% (9/9), done.\u001b[K\n",
            "remote: Total 329 (delta 44), reused 40 (delta 40), pack-reused 280 (from 1)\u001b[K\n",
            "Receiving objects: 100% (329/329), 4.02 MiB | 4.72 MiB/s, done.\n",
            "Resolving deltas: 100% (128/128), done.\n"
          ]
        }
      ],
      "source": [
        "colab = True\n",
        "if colab:\n",
        "    !git clone https://github.com/mdrs-thiago/PUC_Redes_Neurais\n",
        "    import os\n",
        "    os.chdir('/content/PUC_Redes_Neurais/grad/lista 1')"
      ]
    },
    {
      "cell_type": "markdown",
      "metadata": {
        "id": "CkLVLEtsgPUF",
        "scrolled": true
      },
      "source": [
        "# Redes Neurais\n",
        "## 1ª Lista de Exercícios - Classificação de padrões\n",
        "\n",
        "\n",
        "Aluno: Felipe Luz Machado\n",
        "\n",
        "Base de dados:  Diabetes"
      ]
    },
    {
      "cell_type": "markdown",
      "metadata": {
        "id": "PThbY14PxU95"
      },
      "source": [
        "### Para cada item da lista de exercício, não esqueça de fazer uma análise pertinente dos resultados obtidos.\n",
        "\n",
        "<b> Importante: </b> faça uma média dos resultados para cada item. Como o modelo é estocástico, os resultados podem variar de acordo com a inicialização dos pesos."
      ]
    },
    {
      "cell_type": "code",
      "execution_count": 2,
      "metadata": {
        "id": "7SVw33VAgPUw"
      },
      "outputs": [],
      "source": [
        "import numpy as np\n",
        "import pandas as pd\n",
        "import json\n",
        "import matplotlib.pyplot as plt\n",
        "import seaborn as sns\n",
        "from time import sleep\n",
        "import requests\n",
        "\n",
        "import torch\n",
        "import torch.nn as nn\n",
        "import torch.nn.functional as F\n",
        "from torch.utils.data import DataLoader\n",
        "\n",
        "from sklearn.preprocessing import LabelEncoder\n",
        "from sklearn.model_selection import cross_val_score, KFold, train_test_split\n",
        "from sklearn.metrics import classification_report, confusion_matrix\n",
        "\n",
        "from utils import CustomDataset, transform_data, plot_confusion_matrix\n",
        "from model_utils import train\n"
      ]
    },
    {
      "cell_type": "code",
      "execution_count": 3,
      "metadata": {
        "id": "KzCC7HdqgPVF"
      },
      "outputs": [],
      "source": [
        "class NeuralNetwork(torch.nn.Module):\n",
        "  '''\n",
        "  Objeto criado para facilitar o desenvolvimento dos scripts das aulas práticas.\n",
        "  Opção alternativa à criação externa fdo modelo. Basicamente serve como um\n",
        "  'agregador'  de trechos comuns para a criação do modelo. Por exemplo, ao invés\n",
        "  de gastar n+1 linhas para a criação de um modelo com n camadas, podemos criar\n",
        "  o mesmo modelo com apenas uma linha.\n",
        "\n",
        "  Parâmetros de entrada:\n",
        "  - hidden_neurons: Lista com a quantidade de neurônios na camada escondida.\n",
        "  - hidden_activation: Função de ativação para cada camada escondida. Aceita\n",
        "  como parâmetro string ou lista. Caso o parâmetro receba string, então a mesma\n",
        "  função de ativação é utilizada para todas as camadas escondidas. Caso seja uma\n",
        "  lista, cada camada terá sua propria função de ativação definida pela lista.\n",
        "  - output_activation: Função de ativação para a camada de saída.\n",
        "  - lr: Taxa de aprendizado\n",
        "  - n_input: Tamanho do vetor de entrada.\n",
        "  - n_output: Saída do modelo.\n",
        "  '''\n",
        "  def __init__(self,hidden_neurons = 4, hidden_activation = 'relu', output_activation='softmax', lr = 0.05, n_input = 1, n_output = 1):\n",
        "    # create model\n",
        "    super(NeuralNetwork, self).__init__()\n",
        "\n",
        "    self.activations = {'relu': nn.ReLU(), 'sigmoid':nn.Sigmoid(), 'softmax':nn.Softmax()}\n",
        "\n",
        "    self.fc1 = nn.Linear(n_input, hidden_neurons)\n",
        "    self.ha = self.activations[hidden_activation]\n",
        "    self.fc2 = nn.Linear(hidden_neurons, n_output)\n",
        "    #self.out = self.activations[output_activation]\n",
        "\n",
        "    #self.out = nn.Sigmoid() #Para o caso binário\n",
        "  def forward(self,x):\n",
        "    h = self.fc1(x)\n",
        "    h1 = self.ha(h)\n",
        "    y = self.fc2(h1)\n",
        "    #y = self.out(h2)\n",
        "    return y\n",
        "\n",
        "  def predict(self, x, binary=True):\n",
        "    y_hat = self.forward(x)\n",
        "\n",
        "    if binary:\n",
        "      y_pred = torch.round(torch.sigmoid(y_hat))\n",
        "      y_pred = y_pred.detach().numpy()\n",
        "    else:\n",
        "      y_pred = torch.argmax(y_hat, dim=1)\n",
        "\n",
        "    return y_pred"
      ]
    },
    {
      "cell_type": "code",
      "execution_count": 4,
      "metadata": {
        "id": "EUGYVLLTxU96"
      },
      "outputs": [],
      "source": [
        "device = torch.device('cuda' if torch.cuda.is_available() else 'cpu')"
      ]
    },
    {
      "cell_type": "markdown",
      "metadata": {
        "id": "OK2ohgzfgPVK"
      },
      "source": [
        "# Preparação dos dados\n",
        "\n",
        "Não esqueça de verificar o path para a pasta. Mude também o filename, de acordo com a base de dados."
      ]
    },
    {
      "cell_type": "code",
      "execution_count": 5,
      "metadata": {
        "id": "XhWc8w9ygPVT"
      },
      "outputs": [],
      "source": [
        "dataset_name = 'diabetes'\n",
        "dataset_path = f'https://raw.githubusercontent.com/mdrs-thiago/PUC_Redes_Neurais/main/datasets/c_{dataset_name}.csv'\n",
        "info_path = f'https://raw.githubusercontent.com/mdrs-thiago/PUC_Redes_Neurais/main/datasets/data_info/{dataset_name}/data_info.json'\n",
        "dataset = pd.read_csv(dataset_path)"
      ]
    },
    {
      "cell_type": "code",
      "execution_count": 6,
      "metadata": {
        "id": "VrmVpxUkxU97"
      },
      "outputs": [],
      "source": [
        "resp = requests.get(info_path)\n",
        "info = json.loads(resp.text)"
      ]
    },
    {
      "cell_type": "code",
      "execution_count": 7,
      "metadata": {
        "id": "vP12CdZmxU97"
      },
      "outputs": [],
      "source": [
        "for col, k in info.items():\n",
        "    if k == 'categorical':\n",
        "        dataset[col] = dataset[col].astype(object)"
      ]
    },
    {
      "cell_type": "code",
      "execution_count": 8,
      "metadata": {
        "id": "5UHvr26txU97",
        "outputId": "060cfb5b-6a40-4a8c-fbe4-fbf756114a6e",
        "colab": {
          "base_uri": "https://localhost:8080/"
        }
      },
      "outputs": [
        {
          "output_type": "stream",
          "name": "stdout",
          "text": [
            "('preg', dtype('int64'))\n",
            "('plas', dtype('int64'))\n",
            "('pres', dtype('int64'))\n",
            "('skin', dtype('int64'))\n",
            "('insu', dtype('int64'))\n",
            "('mass', dtype('float64'))\n",
            "('pedi', dtype('float64'))\n",
            "('age', dtype('int64'))\n",
            "('target', dtype('O'))\n"
          ]
        }
      ],
      "source": [
        "for i in dataset.dtypes.items():\n",
        "    print(i)"
      ]
    },
    {
      "cell_type": "markdown",
      "metadata": {
        "id": "wwblCYvdgPVV"
      },
      "source": [
        "## Parte I - Compreensão do problema e análise de variáveis\n",
        "\n",
        "Total: 1,0 pts.\n"
      ]
    },
    {
      "cell_type": "markdown",
      "metadata": {
        "id": "Xcmh5eH_gPVW"
      },
      "source": [
        "### 1)\tObserve a base de dados do problema. Existem variáveis que podem ser eliminadas do dataset? Justifique."
      ]
    },
    {
      "cell_type": "markdown",
      "metadata": {
        "id": "t41HM_RqgPVY"
      },
      "source": [
        "#### Rascunho"
      ]
    },
    {
      "cell_type": "code",
      "execution_count": 24,
      "metadata": {
        "id": "PMMN_pkLgPVf",
        "outputId": "7d24d60f-595c-4cee-fbd4-ad1fc677c5a4",
        "colab": {
          "base_uri": "https://localhost:8080/"
        }
      },
      "outputs": [
        {
          "output_type": "stream",
          "name": "stdout",
          "text": [
            "227\n",
            "374\n",
            "35\n"
          ]
        }
      ],
      "source": [
        "print(dataset['skin'].value_counts()[0])\n",
        "print(dataset['insu'].value_counts()[0])\n",
        "print(dataset['pres'].value_counts()[0])\n"
      ]
    },
    {
      "cell_type": "markdown",
      "metadata": {
        "id": "6DCNmE9pgPVg"
      },
      "source": [
        "#### Resposta"
      ]
    },
    {
      "cell_type": "code",
      "execution_count": 27,
      "metadata": {
        "id": "HIavGaiUgPVj",
        "outputId": "f4139cc1-5c0a-4c0e-af9d-ac81f0d1a04b",
        "colab": {
          "base_uri": "https://localhost:8080/"
        }
      },
      "outputs": [
        {
          "output_type": "stream",
          "name": "stdout",
          "text": [
            "zeros skin: 227\n",
            "zeros insu: 374\n"
          ]
        }
      ],
      "source": [
        "print(\"zeros skin:\", dataset['skin'].value_counts()[0])\n",
        "print(\"zeros insu:\", dataset['insu'].value_counts()[0])\n",
        "#Pelo grande numero de zeros, que indica que não houve medição, as variaveis skin e insu sao candidatas imediatas a serem removidas do dataset"
      ]
    },
    {
      "cell_type": "markdown",
      "metadata": {
        "id": "2gwm8VM7gPVk"
      },
      "source": [
        "### 2)\tImplemente técnicas de visualização de dados e seleção de variáveis para extrair características importantes sobre a base de dados. Explique a motivação destas técnicas e o que é possível inferir dos resultados obtidos."
      ]
    },
    {
      "cell_type": "markdown",
      "metadata": {
        "id": "2KTMuMxigPVl"
      },
      "source": [
        "#### Rascunho"
      ]
    },
    {
      "cell_type": "code",
      "execution_count": 30,
      "metadata": {
        "id": "9MhSKzy0gPVm",
        "outputId": "4ada7cc7-402f-44f3-b721-bca11474d78d",
        "colab": {
          "base_uri": "https://localhost:8080/",
          "height": 450
        }
      },
      "outputs": [
        {
          "output_type": "display_data",
          "data": {
            "text/plain": [
              "<Figure size 640x480 with 1 Axes>"
            ],
            "image/png": "[encoded data removed]"
          },
          "metadata": {}
        }
      ],
      "source": [
        "#dataset.hist(bins=30, figsize=(12,8))\n",
        "#plt.show()\n",
        "sns.boxplot(x=\"target\", y=\"plas\", data=dataset)\n",
        "plt.show()\n"
      ]
    },
    {
      "cell_type": "code",
      "execution_count": null,
      "metadata": {
        "id": "ET1owKAbgPVn"
      },
      "outputs": [],
      "source": []
    },
    {
      "cell_type": "markdown",
      "metadata": {
        "id": "cXyhqHJFgPVo"
      },
      "source": [
        "#### Resposta"
      ]
    },
    {
      "cell_type": "code",
      "execution_count": 42,
      "metadata": {
        "id": "mqpGofxTgPVp",
        "scrolled": false,
        "outputId": "56020cfd-ea7c-402e-cbf1-a5ef06ce1e6d",
        "colab": {
          "base_uri": "https://localhost:8080/",
          "height": 530
        }
      },
      "outputs": [
        {
          "output_type": "execute_result",
          "data": {
            "text/plain": [
              "<seaborn.axisgrid.PairGrid at 0x7e261a64d430>"
            ]
          },
          "metadata": {},
          "execution_count": 42
        },
        {
          "output_type": "display_data",
          "data": {
            "text/plain": [
              "<Figure size 661.875x500 with 6 Axes>"
            ],
            "image/png": "[encoded data removed]"
          },
          "metadata": {}
        }
      ],
      "source": [
        "#sns.pairplot(dataset, hue=\"target\", diag_kind=\"hist\")\n",
        "sns.pairplot(dataset[['preg','age','target']], hue=\"target\", diag_kind=\"hist\")\n",
        "\n",
        "\n"
      ]
    },
    {
      "cell_type": "markdown",
      "metadata": {
        "id": "p2qe3VzFgPVs"
      },
      "source": [
        "## Parte II. Treinamento do modelo de Rede Neural - Baseline\n",
        "\n",
        "Total: 1,0 pts."
      ]
    },
    {
      "cell_type": "markdown",
      "metadata": {
        "id": "STUb4bCjgPVt"
      },
      "source": [
        "### 1)\tCom as configurações do modelo MLP previamente definidas no script, faça o treinamento da Rede Neural sem normalizar os atributos numéricos. Comente o resultado obtido, baseado nas métricas de avaliação disponíveis (acurácia, precision, recall, F1-Score, Matriz de confusão, etc.)"
      ]
    },
    {
      "cell_type": "markdown",
      "metadata": {
        "id": "xIXkzdZfgPVu"
      },
      "source": [
        "#### Rascunho"
      ]
    },
    {
      "cell_type": "code",
      "execution_count": 43,
      "metadata": {
        "id": "eml98zS5gPVx"
      },
      "outputs": [],
      "source": [
        "new_df = transform_data(dataset, normalize=False)\n",
        "#new_df.head()"
      ]
    },
    {
      "cell_type": "code",
      "execution_count": 44,
      "metadata": {
        "id": "YwKoGm2txU99",
        "outputId": "7e448651-a69d-441f-8262-bcf4cc6740c3",
        "colab": {
          "base_uri": "https://localhost:8080/",
          "height": 206
        }
      },
      "outputs": [
        {
          "output_type": "execute_result",
          "data": {
            "text/plain": [
              "   preg  plas  pres  skin  insu  mass   pedi  age           target  \\\n",
              "0     6   148    72    35     0  33.6  0.627   50  tested_positive   \n",
              "1     1    85    66    29     0  26.6  0.351   31  tested_negative   \n",
              "2     8   183    64     0     0  23.3  0.672   32  tested_positive   \n",
              "3     1    89    66    23    94  28.1  0.167   21  tested_negative   \n",
              "4     0   137    40    35   168  43.1  2.288   33  tested_positive   \n",
              "\n",
              "   target_encoded  \n",
              "0               1  \n",
              "1               0  \n",
              "2               1  \n",
              "3               0  \n",
              "4               1  "
            ],
            "text/html": [
              "\n",
              "  <div id=\"df-7caee62f-b949-43d2-b17d-97aed8eb69aa\" class=\"colab-df-container\">\n",
              "    <div>\n",
              "<style scoped>\n",
              "    .dataframe tbody tr th:only-of-type {\n",
              "        vertical-align: middle;\n",
              "    }\n",
              "\n",
              "    .dataframe tbody tr th {\n",
              "        vertical-align: top;\n",
              "    }\n",
              "\n",
              "    .dataframe thead th {\n",
              "        text-align: right;\n",
              "    }\n",
              "</style>\n",
              "<table border=\"1\" class=\"dataframe\">\n",
              "  <thead>\n",
              "    <tr style=\"text-align: right;\">\n",
              "      <th></th>\n",
              "      <th>preg</th>\n",
              "      <th>plas</th>\n",
              "      <th>pres</th>\n",
              "      <th>skin</th>\n",
              "      <th>insu</th>\n",
              "      <th>mass</th>\n",
              "      <th>pedi</th>\n",
              "      <th>age</th>\n",
              "      <th>target</th>\n",
              "      <th>target_encoded</th>\n",
              "    </tr>\n",
              "  </thead>\n",
              "  <tbody>\n",
              "    <tr>\n",
              "      <th>0</th>\n",
              "      <td>6</td>\n",
              "      <td>148</td>\n",
              "      <td>72</td>\n",
              "      <td>35</td>\n",
              "      <td>0</td>\n",
              "      <td>33.6</td>\n",
              "      <td>0.627</td>\n",
              "      <td>50</td>\n",
              "      <td>tested_positive</td>\n",
              "      <td>1</td>\n",
              "    </tr>\n",
              "    <tr>\n",
              "      <th>1</th>\n",
              "      <td>1</td>\n",
              "      <td>85</td>\n",
              "      <td>66</td>\n",
              "      <td>29</td>\n",
              "      <td>0</td>\n",
              "      <td>26.6</td>\n",
              "      <td>0.351</td>\n",
              "      <td>31</td>\n",
              "      <td>tested_negative</td>\n",
              "      <td>0</td>\n",
              "    </tr>\n",
              "    <tr>\n",
              "      <th>2</th>\n",
              "      <td>8</td>\n",
              "      <td>183</td>\n",
              "      <td>64</td>\n",
              "      <td>0</td>\n",
              "      <td>0</td>\n",
              "      <td>23.3</td>\n",
              "      <td>0.672</td>\n",
              "      <td>32</td>\n",
              "      <td>tested_positive</td>\n",
              "      <td>1</td>\n",
              "    </tr>\n",
              "    <tr>\n",
              "      <th>3</th>\n",
              "      <td>1</td>\n",
              "      <td>89</td>\n",
              "      <td>66</td>\n",
              "      <td>23</td>\n",
              "      <td>94</td>\n",
              "      <td>28.1</td>\n",
              "      <td>0.167</td>\n",
              "      <td>21</td>\n",
              "      <td>tested_negative</td>\n",
              "      <td>0</td>\n",
              "    </tr>\n",
              "    <tr>\n",
              "      <th>4</th>\n",
              "      <td>0</td>\n",
              "      <td>137</td>\n",
              "      <td>40</td>\n",
              "      <td>35</td>\n",
              "      <td>168</td>\n",
              "      <td>43.1</td>\n",
              "      <td>2.288</td>\n",
              "      <td>33</td>\n",
              "      <td>tested_positive</td>\n",
              "      <td>1</td>\n",
              "    </tr>\n",
              "  </tbody>\n",
              "</table>\n",
              "</div>\n",
              "    <div class=\"colab-df-buttons\">\n",
              "\n",
              "  <div class=\"colab-df-container\">\n",
              "    <button class=\"colab-df-convert\" onclick=\"convertToInteractive('df-7caee62f-b949-43d2-b17d-97aed8eb69aa')\"\n",
              "            title=\"Convert this dataframe to an interactive table.\"\n",
              "            style=\"display:none;\">\n",
              "\n",
              "  <svg xmlns=\"http://www.w3.org/2000/svg\" height=\"24px\" viewBox=\"0 -960 960 960\">\n",
              "    <path d=\"M120-120v-720h720v720H120Zm60-500h600v-160H180v160Zm220 220h160v-160H400v160Zm0 220h160v-160H400v160ZM180-400h160v-160H180v160Zm440 0h160v-160H620v160ZM180-180h160v-160H180v160Zm440 0h160v-160H620v160Z\"/>\n",
              "  </svg>\n",
              "    </button>\n",
              "\n",
              "  <style>\n",
              "    .colab-df-container {\n",
              "      display:flex;\n",
              "      gap: 12px;\n",
              "    }\n",
              "\n",
              "    .colab-df-convert {\n",
              "      background-color: #E8F0FE;\n",
              "      border: none;\n",
              "      border-radius: 50%;\n",
              "      cursor: pointer;\n",
              "      display: none;\n",
              "      fill: #1967D2;\n",
              "      height: 32px;\n",
              "      padding: 0 0 0 0;\n",
              "      width: 32px;\n",
              "    }\n",
              "\n",
              "    .colab-df-convert:hover {\n",
              "      background-color: #E2EBFA;\n",
              "      box-shadow: 0px 1px 2px rgba(60, 64, 67, 0.3), 0px 1px 3px 1px rgba(60, 64, 67, 0.15);\n",
              "      fill: #174EA6;\n",
              "    }\n",
              "\n",
              "    .colab-df-buttons div {\n",
              "      margin-bottom: 4px;\n",
              "    }\n",
              "\n",
              "    [theme=dark] .colab-df-convert {\n",
              "      background-color: #3B4455;\n",
              "      fill: #D2E3FC;\n",
              "    }\n",
              "\n",
              "    [theme=dark] .colab-df-convert:hover {\n",
              "      background-color: #434B5C;\n",
              "      box-shadow: 0px 1px 3px 1px rgba(0, 0, 0, 0.15);\n",
              "      filter: drop-shadow(0px 1px 2px rgba(0, 0, 0, 0.3));\n",
              "      fill: #FFFFFF;\n",
              "    }\n",
              "  </style>\n",
              "\n",
              "    <script>\n",
              "      const buttonEl =\n",
              "        document.querySelector('#df-7caee62f-b949-43d2-b17d-97aed8eb69aa button.colab-df-convert');\n",
              "      buttonEl.style.display =\n",
              "        google.colab.kernel.accessAllowed ? 'block' : 'none';\n",
              "\n",
              "      async function convertToInteractive(key) {\n",
              "        const element = document.querySelector('#df-7caee62f-b949-43d2-b17d-97aed8eb69aa');\n",
              "        const dataTable =\n",
              "          await google.colab.kernel.invokeFunction('convertToInteractive',\n",
              "                                                    [key], {});\n",
              "        if (!dataTable) return;\n",
              "\n",
              "        const docLinkHtml = 'Like what you see? Visit the ' +\n",
              "          '<a target=\"_blank\" href=https://colab.research.google.com/notebooks/data_table.ipynb>data table notebook</a>'\n",
              "          + ' to learn more about interactive tables.';\n",
              "        element.innerHTML = '';\n",
              "        dataTable['output_type'] = 'display_data';\n",
              "        await google.colab.output.renderOutput(dataTable, element);\n",
              "        const docLink = document.createElement('div');\n",
              "        docLink.innerHTML = docLinkHtml;\n",
              "        element.appendChild(docLink);\n",
              "      }\n",
              "    </script>\n",
              "  </div>\n",
              "\n",
              "\n",
              "    <div id=\"df-8db5dd0e-26e1-4c80-b9ca-9cde68151a7a\">\n",
              "      <button class=\"colab-df-quickchart\" onclick=\"quickchart('df-8db5dd0e-26e1-4c80-b9ca-9cde68151a7a')\"\n",
              "                title=\"Suggest charts\"\n",
              "                style=\"display:none;\">\n",
              "\n",
              "<svg xmlns=\"http://www.w3.org/2000/svg\" height=\"24px\"viewBox=\"0 0 24 24\"\n",
              "     width=\"24px\">\n",
              "    <g>\n",
              "        <path d=\"M19 3H5c-1.1 0-2 .9-2 2v14c0 1.1.9 2 2 2h14c1.1 0 2-.9 2-2V5c0-1.1-.9-2-2-2zM9 17H7v-7h2v7zm4 0h-2V7h2v10zm4 0h-2v-4h2v4z\"/>\n",
              "    </g>\n",
              "</svg>\n",
              "      </button>\n",
              "\n",
              "<style>\n",
              "  .colab-df-quickchart {\n",
              "      --bg-color: #E8F0FE;\n",
              "      --fill-color: #1967D2;\n",
              "      --hover-bg-color: #E2EBFA;\n",
              "      --hover-fill-color: #174EA6;\n",
              "      --disabled-fill-color: #AAA;\n",
              "      --disabled-bg-color: #DDD;\n",
              "  }\n",
              "\n",
              "  [theme=dark] .colab-df-quickchart {\n",
              "      --bg-color: #3B4455;\n",
              "      --fill-color: #D2E3FC;\n",
              "      --hover-bg-color: #434B5C;\n",
              "      --hover-fill-color: #FFFFFF;\n",
              "      --disabled-bg-color: #3B4455;\n",
              "      --disabled-fill-color: #666;\n",
              "  }\n",
              "\n",
              "  .colab-df-quickchart {\n",
              "    background-color: var(--bg-color);\n",
              "    border: none;\n",
              "    border-radius: 50%;\n",
              "    cursor: pointer;\n",
              "    display: none;\n",
              "    fill: var(--fill-color);\n",
              "    height: 32px;\n",
              "    padding: 0;\n",
              "    width: 32px;\n",
              "  }\n",
              "\n",
              "  .colab-df-quickchart:hover {\n",
              "    background-color: var(--hover-bg-color);\n",
              "    box-shadow: 0 1px 2px rgba(60, 64, 67, 0.3), 0 1px 3px 1px rgba(60, 64, 67, 0.15);\n",
              "    fill: var(--button-hover-fill-color);\n",
              "  }\n",
              "\n",
              "  .colab-df-quickchart-complete:disabled,\n",
              "  .colab-df-quickchart-complete:disabled:hover {\n",
              "    background-color: var(--disabled-bg-color);\n",
              "    fill: var(--disabled-fill-color);\n",
              "    box-shadow: none;\n",
              "  }\n",
              "\n",
              "  .colab-df-spinner {\n",
              "    border: 2px solid var(--fill-color);\n",
              "    border-color: transparent;\n",
              "    border-bottom-color: var(--fill-color);\n",
              "    animation:\n",
              "      spin 1s steps(1) infinite;\n",
              "  }\n",
              "\n",
              "  @keyframes spin {\n",
              "    0% {\n",
              "      border-color: transparent;\n",
              "      border-bottom-color: var(--fill-color);\n",
              "      border-left-color: var(--fill-color);\n",
              "    }\n",
              "    20% {\n",
              "      border-color: transparent;\n",
              "      border-left-color: var(--fill-color);\n",
              "      border-top-color: var(--fill-color);\n",
              "    }\n",
              "    30% {\n",
              "      border-color: transparent;\n",
              "      border-left-color: var(--fill-color);\n",
              "      border-top-color: var(--fill-color);\n",
              "      border-right-color: var(--fill-color);\n",
              "    }\n",
              "    40% {\n",
              "      border-color: transparent;\n",
              "      border-right-color: var(--fill-color);\n",
              "      border-top-color: var(--fill-color);\n",
              "    }\n",
              "    60% {\n",
              "      border-color: transparent;\n",
              "      border-right-color: var(--fill-color);\n",
              "    }\n",
              "    80% {\n",
              "      border-color: transparent;\n",
              "      border-right-color: var(--fill-color);\n",
              "      border-bottom-color: var(--fill-color);\n",
              "    }\n",
              "    90% {\n",
              "      border-color: transparent;\n",
              "      border-bottom-color: var(--fill-color);\n",
              "    }\n",
              "  }\n",
              "</style>\n",
              "\n",
              "      <script>\n",
              "        async function quickchart(key) {\n",
              "          const quickchartButtonEl =\n",
              "            document.querySelector('#' + key + ' button');\n",
              "          quickchartButtonEl.disabled = true;  // To prevent multiple clicks.\n",
              "          quickchartButtonEl.classList.add('colab-df-spinner');\n",
              "          try {\n",
              "            const charts = await google.colab.kernel.invokeFunction(\n",
              "                'suggestCharts', [key], {});\n",
              "          } catch (error) {\n",
              "            console.error('Error during call to suggestCharts:', error);\n",
              "          }\n",
              "          quickchartButtonEl.classList.remove('colab-df-spinner');\n",
              "          quickchartButtonEl.classList.add('colab-df-quickchart-complete');\n",
              "        }\n",
              "        (() => {\n",
              "          let quickchartButtonEl =\n",
              "            document.querySelector('#df-8db5dd0e-26e1-4c80-b9ca-9cde68151a7a button');\n",
              "          quickchartButtonEl.style.display =\n",
              "            google.colab.kernel.accessAllowed ? 'block' : 'none';\n",
              "        })();\n",
              "      </script>\n",
              "    </div>\n",
              "\n",
              "    </div>\n",
              "  </div>\n"
            ],
            "application/vnd.google.colaboratory.intrinsic+json": {
              "type": "dataframe",
              "variable_name": "new_df",
              "summary": "{\n  \"name\": \"new_df\",\n  \"rows\": 768,\n  \"fields\": [\n    {\n      \"column\": \"preg\",\n      \"properties\": {\n        \"dtype\": \"number\",\n        \"std\": 3,\n        \"min\": 0,\n        \"max\": 17,\n        \"num_unique_values\": 17,\n        \"samples\": [\n          6,\n          1,\n          3\n        ],\n        \"semantic_type\": \"\",\n        \"description\": \"\"\n      }\n    },\n    {\n      \"column\": \"plas\",\n      \"properties\": {\n        \"dtype\": \"number\",\n        \"std\": 31,\n        \"min\": 0,\n        \"max\": 199,\n        \"num_unique_values\": 136,\n        \"samples\": [\n          151,\n          101,\n          112\n        ],\n        \"semantic_type\": \"\",\n        \"description\": \"\"\n      }\n    },\n    {\n      \"column\": \"pres\",\n      \"properties\": {\n        \"dtype\": \"number\",\n        \"std\": 19,\n        \"min\": 0,\n        \"max\": 122,\n        \"num_unique_values\": 47,\n        \"samples\": [\n          86,\n          46,\n          85\n        ],\n        \"semantic_type\": \"\",\n        \"description\": \"\"\n      }\n    },\n    {\n      \"column\": \"skin\",\n      \"properties\": {\n        \"dtype\": \"number\",\n        \"std\": 15,\n        \"min\": 0,\n        \"max\": 99,\n        \"num_unique_values\": 51,\n        \"samples\": [\n          7,\n          12,\n          48\n        ],\n        \"semantic_type\": \"\",\n        \"description\": \"\"\n      }\n    },\n    {\n      \"column\": \"insu\",\n      \"properties\": {\n        \"dtype\": \"number\",\n        \"std\": 115,\n        \"min\": 0,\n        \"max\": 846,\n        \"num_unique_values\": 186,\n        \"samples\": [\n          52,\n          41,\n          183\n        ],\n        \"semantic_type\": \"\",\n        \"description\": \"\"\n      }\n    },\n    {\n      \"column\": \"mass\",\n      \"properties\": {\n        \"dtype\": \"number\",\n        \"std\": 7.8841603203754405,\n        \"min\": 0.0,\n        \"max\": 67.1,\n        \"num_unique_values\": 248,\n        \"samples\": [\n          19.9,\n          31.0,\n          38.1\n        ],\n        \"semantic_type\": \"\",\n        \"description\": \"\"\n      }\n    },\n    {\n      \"column\": \"pedi\",\n      \"properties\": {\n        \"dtype\": \"number\",\n        \"std\": 0.33132859501277484,\n        \"min\": 0.078,\n        \"max\": 2.42,\n        \"num_unique_values\": 517,\n        \"samples\": [\n          1.731,\n          0.426,\n          0.138\n        ],\n        \"semantic_type\": \"\",\n        \"description\": \"\"\n      }\n    },\n    {\n      \"column\": \"age\",\n      \"properties\": {\n        \"dtype\": \"number\",\n        \"std\": 11,\n        \"min\": 21,\n        \"max\": 81,\n        \"num_unique_values\": 52,\n        \"samples\": [\n          60,\n          47,\n          72\n        ],\n        \"semantic_type\": \"\",\n        \"description\": \"\"\n      }\n    },\n    {\n      \"column\": \"target\",\n      \"properties\": {\n        \"dtype\": \"category\",\n        \"num_unique_values\": 2,\n        \"samples\": [\n          \"tested_negative\",\n          \"tested_positive\"\n        ],\n        \"semantic_type\": \"\",\n        \"description\": \"\"\n      }\n    },\n    {\n      \"column\": \"target_encoded\",\n      \"properties\": {\n        \"dtype\": \"number\",\n        \"std\": 0,\n        \"min\": 0,\n        \"max\": 1,\n        \"num_unique_values\": 2,\n        \"samples\": [\n          0,\n          1\n        ],\n        \"semantic_type\": \"\",\n        \"description\": \"\"\n      }\n    }\n  ]\n}"
            }
          },
          "metadata": {},
          "execution_count": 44
        }
      ],
      "source": [
        "new_df.head()"
      ]
    },
    {
      "cell_type": "code",
      "execution_count": 45,
      "metadata": {
        "colab": {
          "base_uri": "https://localhost:8080/",
          "height": 211
        },
        "id": "JQQacqWGgPVz",
        "outputId": "46a08b4a-363a-4604-a698-e9204e6be972"
      },
      "outputs": [
        {
          "output_type": "error",
          "ename": "ValueError",
          "evalue": "could not convert string to float: 'tested_positive'",
          "traceback": [
            "\u001b[0;31m---------------------------------------------------------------------------\u001b[0m",
            "\u001b[0;31mValueError\u001b[0m                                Traceback (most recent call last)",
            "\u001b[0;32m/tmp/ipython-input-1837905734.py\u001b[0m in \u001b[0;36m<cell line: 0>\u001b[0;34m()\u001b[0m\n\u001b[0;32m----> 1\u001b[0;31m \u001b[0mX\u001b[0m \u001b[0;34m=\u001b[0m \u001b[0mnew_df\u001b[0m\u001b[0;34m.\u001b[0m\u001b[0mvalues\u001b[0m\u001b[0;34m[\u001b[0m\u001b[0;34m:\u001b[0m\u001b[0;34m,\u001b[0m\u001b[0;34m:\u001b[0m\u001b[0;34m-\u001b[0m\u001b[0;36m1\u001b[0m\u001b[0;34m]\u001b[0m\u001b[0;34m.\u001b[0m\u001b[0mastype\u001b[0m\u001b[0;34m(\u001b[0m\u001b[0;34m'float'\u001b[0m\u001b[0;34m)\u001b[0m\u001b[0;34m\u001b[0m\u001b[0;34m\u001b[0m\u001b[0m\n\u001b[0m\u001b[1;32m      2\u001b[0m \u001b[0mtarget\u001b[0m \u001b[0;34m=\u001b[0m \u001b[0mnew_df\u001b[0m\u001b[0;34m.\u001b[0m\u001b[0mvalues\u001b[0m\u001b[0;34m[\u001b[0m\u001b[0;34m:\u001b[0m\u001b[0;34m,\u001b[0m\u001b[0;34m-\u001b[0m\u001b[0;36m1\u001b[0m\u001b[0;34m]\u001b[0m\u001b[0;34m\u001b[0m\u001b[0;34m\u001b[0m\u001b[0m\n\u001b[1;32m      3\u001b[0m \u001b[0;34m\u001b[0m\u001b[0m\n\u001b[1;32m      4\u001b[0m \u001b[0mencoder\u001b[0m \u001b[0;34m=\u001b[0m \u001b[0mLabelEncoder\u001b[0m\u001b[0;34m(\u001b[0m\u001b[0;34m)\u001b[0m\u001b[0;34m\u001b[0m\u001b[0;34m\u001b[0m\u001b[0m\n\u001b[1;32m      5\u001b[0m \u001b[0my\u001b[0m \u001b[0;34m=\u001b[0m \u001b[0mencoder\u001b[0m\u001b[0;34m.\u001b[0m\u001b[0mfit_transform\u001b[0m\u001b[0;34m(\u001b[0m\u001b[0mtarget\u001b[0m\u001b[0;34m)\u001b[0m\u001b[0;34m\u001b[0m\u001b[0;34m\u001b[0m\u001b[0m\n",
            "\u001b[0;31mValueError\u001b[0m: could not convert string to float: 'tested_positive'"
          ]
        }
      ],
      "source": [
        "X = new_df.values[:,:-1].astype('float')\n",
        "target = new_df.values[:,-1]\n",
        "\n",
        "encoder = LabelEncoder()\n",
        "y = encoder.fit_transform(target)\n",
        "\n",
        "n_input = X.shape[1]\n",
        "\n",
        "if np.unique(y).shape[0] <= 2:\n",
        "  print('Binary classification')\n",
        "  n_output = 1\n",
        "  binary = True\n",
        "else:\n",
        "  print('Multiclass classification')\n",
        "  n_output = len(encoder.classes_)\n",
        "  binary = False\n",
        "  #y = np.eye(n_output)[y]"
      ]
    },
    {
      "cell_type": "code",
      "execution_count": null,
      "metadata": {
        "id": "9zA-7VamxU99"
      },
      "outputs": [],
      "source": [
        "batch_size = 32\n",
        "epochs = 170"
      ]
    },
    {
      "cell_type": "code",
      "execution_count": null,
      "metadata": {
        "id": "bpOpmNongPV1"
      },
      "outputs": [],
      "source": [
        "X_train, X_test, y_train, y_test = train_test_split(X,y,test_size=0.2,random_state=42)\n",
        "X_train, X_val, y_train, y_val = train_test_split(X_train,y_train,test_size=0.2,random_state=42)"
      ]
    },
    {
      "cell_type": "code",
      "execution_count": null,
      "metadata": {
        "id": "7pFZGEEoxU99"
      },
      "outputs": [],
      "source": [
        "\n",
        "#Para o caso de múltiplas classes\n",
        "#train_dataset = CustomDataset(torch.from_numpy(X_train).float(), torch.from_numpy(y_train).long())\n",
        "#val_dataset = CustomDataset(torch.from_numpy(X_val).float(), torch.from_numpy(y_val).long())\n",
        "#test_dataset = CustomDataset(torch.from_numpy(X_test).float(), torch.from_numpy(y_test).long())\n",
        "\n"
      ]
    },
    {
      "cell_type": "code",
      "execution_count": null,
      "metadata": {
        "id": "VsISdAV4xU9-"
      },
      "outputs": [],
      "source": [
        "#Para o caso binário\n",
        "if binary:\n",
        "    train_dataset = CustomDataset(torch.from_numpy(X_train).float(), torch.from_numpy(y_train).float().unsqueeze(1))\n",
        "    val_dataset = CustomDataset(torch.from_numpy(X_val).float(), torch.from_numpy(y_val).float().unsqueeze(1))\n",
        "    test_dataset = CustomDataset(torch.from_numpy(X_test).float(), torch.from_numpy(y_test).float().unsqueeze(1))\n",
        "else:\n",
        "    train_dataset = CustomDataset(torch.from_numpy(X_train).float(), torch.from_numpy(y_train).long())\n",
        "    val_dataset = CustomDataset(torch.from_numpy(X_val).float(), torch.from_numpy(y_val).long())\n",
        "    test_dataset = CustomDataset(torch.from_numpy(X_test).float(), torch.from_numpy(y_test).long())\n",
        "\n",
        "train_loader = DataLoader(dataset=train_dataset,batch_size=batch_size)\n",
        "val_loader = DataLoader(dataset=val_dataset, batch_size=1)\n",
        "test_loader = DataLoader(dataset=test_dataset, batch_size=1)"
      ]
    },
    {
      "cell_type": "code",
      "execution_count": null,
      "metadata": {
        "id": "Je7McMBPxU9-",
        "outputId": "4e67436b-7174-4a49-e6dc-9cc67fe04cbb"
      },
      "outputs": [
        {
          "data": {
            "text/plain": [
              "tensor([[1.0000e+00, 0.0000e+00, 7.0000e+02,  ..., 5.8000e+01, 6.0000e+00,\n",
              "         0.0000e+00],\n",
              "        [0.0000e+00, 0.0000e+00, 4.4600e+02,  ..., 4.0000e+01, 6.0000e+00,\n",
              "         0.0000e+00],\n",
              "        [0.0000e+00, 0.0000e+00, 5.7800e+02,  ..., 2.7000e+01, 6.0000e+00,\n",
              "         0.0000e+00],\n",
              "        ...,\n",
              "        [0.0000e+00, 0.0000e+00, 5.3000e+02,  ..., 6.3000e+01, 0.0000e+00,\n",
              "         2.8500e+02],\n",
              "        [1.0000e+00, 0.0000e+00, 7.5700e+02,  ..., 2.0000e+01, 4.8000e+01,\n",
              "         0.0000e+00],\n",
              "        [0.0000e+00, 0.0000e+00, 2.0000e+03,  ..., 3.6000e+01, 6.0000e+00,\n",
              "         0.0000e+00]])"
            ]
          },
          "execution_count": 46,
          "metadata": {},
          "output_type": "execute_result"
        }
      ],
      "source": [
        "train_dataset.X_data"
      ]
    },
    {
      "cell_type": "code",
      "execution_count": null,
      "metadata": {
        "id": "xREE_DzsxU9-"
      },
      "outputs": [],
      "source": [
        "model = NeuralNetwork(n_input = n_input, n_output=n_output,output_activation='sigmoid')"
      ]
    },
    {
      "cell_type": "code",
      "execution_count": null,
      "metadata": {
        "id": "G5A2sjaCgPV5",
        "outputId": "36791d41-b4da-4c1f-ed24-c50948b2ccd3",
        "colab": {
          "referenced_widgets": [
            "ef1ebad35e394c21a0574b61791a0697"
          ]
        }
      },
      "outputs": [
        {
          "data": {
            "application/vnd.jupyter.widget-view+json": {
              "model_id": "ef1ebad35e394c21a0574b61791a0697",
              "version_major": 2,
              "version_minor": 0
            },
            "text/plain": [
              "  0%|          | 0/250 [00:00<?, ?it/s]"
            ]
          },
          "metadata": {},
          "output_type": "display_data"
        },
        {
          "name": "stdout",
          "output_type": "stream",
          "text": [
            "Epoch 001: | Train Loss: 6.590 | Val Loss: 0.6991 | Train Acc: 47.9333| Val Acc: 50.0000\n",
            "Epoch 002: | Train Loss: 0.702 | Val Loss: 0.6980 | Train Acc: 47.9333| Val Acc: 50.0000\n",
            "Epoch 003: | Train Loss: 0.700 | Val Loss: 0.6971 | Train Acc: 47.9333| Val Acc: 50.0000\n",
            "Epoch 004: | Train Loss: 0.699 | Val Loss: 0.6964 | Train Acc: 47.9333| Val Acc: 50.0000\n",
            "Epoch 005: | Train Loss: 0.698 | Val Loss: 0.6957 | Train Acc: 47.9333| Val Acc: 50.0000\n",
            "Epoch 006: | Train Loss: 0.698 | Val Loss: 0.6952 | Train Acc: 47.9333| Val Acc: 50.0000\n",
            "Epoch 007: | Train Loss: 0.697 | Val Loss: 0.6948 | Train Acc: 47.9333| Val Acc: 50.0000\n",
            "Epoch 008: | Train Loss: 0.696 | Val Loss: 0.6944 | Train Acc: 47.9333| Val Acc: 50.0000\n",
            "Epoch 009: | Train Loss: 0.696 | Val Loss: 0.6941 | Train Acc: 47.9333| Val Acc: 50.0000\n",
            "Epoch 010: | Train Loss: 0.695 | Val Loss: 0.6939 | Train Acc: 47.9333| Val Acc: 50.0000\n",
            "Epoch 011: | Train Loss: 0.695 | Val Loss: 0.6937 | Train Acc: 47.9333| Val Acc: 50.0000\n",
            "Epoch 012: | Train Loss: 0.694 | Val Loss: 0.6935 | Train Acc: 47.9333| Val Acc: 50.0000\n",
            "Epoch 013: | Train Loss: 0.694 | Val Loss: 0.6934 | Train Acc: 47.9333| Val Acc: 50.0000\n",
            "Epoch 014: | Train Loss: 0.694 | Val Loss: 0.6933 | Train Acc: 47.9333| Val Acc: 50.0000\n",
            "Epoch 015: | Train Loss: 0.694 | Val Loss: 0.6932 | Train Acc: 47.9333| Val Acc: 50.0000\n",
            "Epoch 016: | Train Loss: 0.693 | Val Loss: 0.6932 | Train Acc: 47.9333| Val Acc: 50.0000\n",
            "Epoch 017: | Train Loss: 0.693 | Val Loss: 0.6932 | Train Acc: 47.9333| Val Acc: 50.0000\n",
            "Epoch 018: | Train Loss: 0.693 | Val Loss: 0.6931 | Train Acc: 48.8000| Val Acc: 50.0000\n",
            "Epoch 019: | Train Loss: 0.693 | Val Loss: 0.6931 | Train Acc: 52.0667| Val Acc: 50.0000\n",
            "Epoch 020: | Train Loss: 0.693 | Val Loss: 0.6931 | Train Acc: 52.0667| Val Acc: 50.0000\n",
            "Epoch 021: | Train Loss: 0.693 | Val Loss: 0.6931 | Train Acc: 52.0667| Val Acc: 50.0000\n",
            "Epoch 022: | Train Loss: 0.693 | Val Loss: 0.6931 | Train Acc: 52.0667| Val Acc: 50.0000\n",
            "Epoch 023: | Train Loss: 0.693 | Val Loss: 0.6931 | Train Acc: 52.0667| Val Acc: 50.0000\n",
            "Epoch 024: | Train Loss: 0.693 | Val Loss: 0.6931 | Train Acc: 52.0667| Val Acc: 50.0000\n",
            "Epoch 025: | Train Loss: 0.693 | Val Loss: 0.6932 | Train Acc: 52.0667| Val Acc: 50.0000\n",
            "Epoch 026: | Train Loss: 0.693 | Val Loss: 0.6932 | Train Acc: 52.0667| Val Acc: 50.0000\n",
            "Epoch 027: | Train Loss: 0.693 | Val Loss: 0.6932 | Train Acc: 52.0667| Val Acc: 50.0000\n",
            "Epoch 028: | Train Loss: 0.693 | Val Loss: 0.6932 | Train Acc: 52.0667| Val Acc: 50.0000\n",
            "Epoch 029: | Train Loss: 0.692 | Val Loss: 0.6932 | Train Acc: 52.0667| Val Acc: 50.0000\n",
            "Epoch 030: | Train Loss: 0.692 | Val Loss: 0.6933 | Train Acc: 52.0667| Val Acc: 50.0000\n",
            "Epoch 031: | Train Loss: 0.692 | Val Loss: 0.6933 | Train Acc: 52.0667| Val Acc: 50.0000\n",
            "Epoch 032: | Train Loss: 0.692 | Val Loss: 0.6933 | Train Acc: 52.0667| Val Acc: 50.0000\n",
            "Epoch 033: | Train Loss: 0.692 | Val Loss: 0.6933 | Train Acc: 52.0667| Val Acc: 50.0000\n",
            "Epoch 034: | Train Loss: 0.692 | Val Loss: 0.6933 | Train Acc: 52.0667| Val Acc: 50.0000\n",
            "Epoch 035: | Train Loss: 0.692 | Val Loss: 0.6934 | Train Acc: 52.0667| Val Acc: 50.0000\n",
            "Epoch 036: | Train Loss: 0.692 | Val Loss: 0.6934 | Train Acc: 52.0667| Val Acc: 50.0000\n",
            "Epoch 037: | Train Loss: 0.692 | Val Loss: 0.6934 | Train Acc: 52.0667| Val Acc: 50.0000\n",
            "Epoch 038: | Train Loss: 0.692 | Val Loss: 0.6934 | Train Acc: 52.0667| Val Acc: 50.0000\n",
            "Epoch 039: | Train Loss: 0.692 | Val Loss: 0.6934 | Train Acc: 52.0667| Val Acc: 50.0000\n",
            "Epoch 040: | Train Loss: 0.692 | Val Loss: 0.6935 | Train Acc: 52.0667| Val Acc: 50.0000\n",
            "Epoch 041: | Train Loss: 0.692 | Val Loss: 0.6935 | Train Acc: 52.0667| Val Acc: 50.0000\n",
            "Epoch 042: | Train Loss: 0.692 | Val Loss: 0.6935 | Train Acc: 52.0667| Val Acc: 50.0000\n",
            "Epoch 043: | Train Loss: 0.692 | Val Loss: 0.6935 | Train Acc: 52.0667| Val Acc: 50.0000\n",
            "Epoch 044: | Train Loss: 0.692 | Val Loss: 0.6935 | Train Acc: 52.0667| Val Acc: 50.0000\n",
            "Epoch 045: | Train Loss: 0.692 | Val Loss: 0.6935 | Train Acc: 52.0667| Val Acc: 50.0000\n",
            "Epoch 046: | Train Loss: 0.692 | Val Loss: 0.6935 | Train Acc: 52.0667| Val Acc: 50.0000\n",
            "Epoch 047: | Train Loss: 0.692 | Val Loss: 0.6935 | Train Acc: 52.0667| Val Acc: 50.0000\n",
            "Epoch 048: | Train Loss: 0.692 | Val Loss: 0.6935 | Train Acc: 52.0667| Val Acc: 50.0000\n",
            "Epoch 049: | Train Loss: 0.692 | Val Loss: 0.6936 | Train Acc: 52.0667| Val Acc: 50.0000\n",
            "Epoch 050: | Train Loss: 0.692 | Val Loss: 0.6936 | Train Acc: 52.0667| Val Acc: 50.0000\n",
            "Epoch 051: | Train Loss: 0.692 | Val Loss: 0.6936 | Train Acc: 52.0667| Val Acc: 50.0000\n",
            "Epoch 052: | Train Loss: 0.692 | Val Loss: 0.6936 | Train Acc: 52.0667| Val Acc: 50.0000\n",
            "Epoch 053: | Train Loss: 0.692 | Val Loss: 0.6936 | Train Acc: 52.0667| Val Acc: 50.0000\n",
            "Epoch 054: | Train Loss: 0.692 | Val Loss: 0.6936 | Train Acc: 52.0667| Val Acc: 50.0000\n",
            "Epoch 055: | Train Loss: 0.692 | Val Loss: 0.6936 | Train Acc: 52.0667| Val Acc: 50.0000\n",
            "Epoch 056: | Train Loss: 0.692 | Val Loss: 0.6936 | Train Acc: 52.0667| Val Acc: 50.0000\n",
            "Epoch 057: | Train Loss: 0.692 | Val Loss: 0.6936 | Train Acc: 52.0667| Val Acc: 50.0000\n",
            "Epoch 058: | Train Loss: 0.692 | Val Loss: 0.6936 | Train Acc: 52.0667| Val Acc: 50.0000\n",
            "Epoch 059: | Train Loss: 0.692 | Val Loss: 0.6936 | Train Acc: 52.0667| Val Acc: 50.0000\n",
            "Epoch 060: | Train Loss: 0.692 | Val Loss: 0.6936 | Train Acc: 52.0667| Val Acc: 50.0000\n",
            "Epoch 061: | Train Loss: 0.692 | Val Loss: 0.6936 | Train Acc: 52.0667| Val Acc: 50.0000\n",
            "Epoch 062: | Train Loss: 0.692 | Val Loss: 0.6936 | Train Acc: 52.0667| Val Acc: 50.0000\n",
            "Epoch 063: | Train Loss: 0.692 | Val Loss: 0.6936 | Train Acc: 52.0667| Val Acc: 50.0000\n",
            "Epoch 064: | Train Loss: 0.692 | Val Loss: 0.6936 | Train Acc: 52.0667| Val Acc: 50.0000\n",
            "Epoch 065: | Train Loss: 0.692 | Val Loss: 0.6936 | Train Acc: 52.0667| Val Acc: 50.0000\n",
            "Epoch 066: | Train Loss: 0.692 | Val Loss: 0.6936 | Train Acc: 52.0667| Val Acc: 50.0000\n",
            "Epoch 067: | Train Loss: 0.692 | Val Loss: 0.6936 | Train Acc: 52.0667| Val Acc: 50.0000\n",
            "Epoch 068: | Train Loss: 0.692 | Val Loss: 0.6937 | Train Acc: 52.0667| Val Acc: 50.0000\n",
            "Epoch 069: | Train Loss: 0.692 | Val Loss: 0.6937 | Train Acc: 52.0667| Val Acc: 50.0000\n",
            "Epoch 070: | Train Loss: 0.692 | Val Loss: 0.6937 | Train Acc: 52.0667| Val Acc: 50.0000\n",
            "Epoch 071: | Train Loss: 0.692 | Val Loss: 0.6937 | Train Acc: 52.0667| Val Acc: 50.0000\n",
            "Epoch 072: | Train Loss: 0.692 | Val Loss: 0.6937 | Train Acc: 52.0667| Val Acc: 50.0000\n",
            "Epoch 073: | Train Loss: 0.692 | Val Loss: 0.6937 | Train Acc: 52.0667| Val Acc: 50.0000\n",
            "Epoch 074: | Train Loss: 0.692 | Val Loss: 0.6937 | Train Acc: 52.0667| Val Acc: 50.0000\n",
            "Epoch 075: | Train Loss: 0.692 | Val Loss: 0.6937 | Train Acc: 52.0667| Val Acc: 50.0000\n",
            "Epoch 076: | Train Loss: 0.692 | Val Loss: 0.6937 | Train Acc: 52.0667| Val Acc: 50.0000\n",
            "Epoch 077: | Train Loss: 0.692 | Val Loss: 0.6937 | Train Acc: 52.0667| Val Acc: 50.0000\n",
            "Epoch 078: | Train Loss: 0.692 | Val Loss: 0.6937 | Train Acc: 52.0667| Val Acc: 50.0000\n",
            "Epoch 079: | Train Loss: 0.692 | Val Loss: 0.6937 | Train Acc: 52.0667| Val Acc: 50.0000\n",
            "Epoch 080: | Train Loss: 0.692 | Val Loss: 0.6937 | Train Acc: 52.0667| Val Acc: 50.0000\n",
            "Epoch 081: | Train Loss: 0.692 | Val Loss: 0.6937 | Train Acc: 52.0667| Val Acc: 50.0000\n",
            "Epoch 082: | Train Loss: 0.692 | Val Loss: 0.6937 | Train Acc: 52.0667| Val Acc: 50.0000\n",
            "Epoch 083: | Train Loss: 0.692 | Val Loss: 0.6937 | Train Acc: 52.0667| Val Acc: 50.0000\n",
            "Epoch 084: | Train Loss: 0.692 | Val Loss: 0.6937 | Train Acc: 52.0667| Val Acc: 50.0000\n",
            "Epoch 085: | Train Loss: 0.692 | Val Loss: 0.6937 | Train Acc: 52.0667| Val Acc: 50.0000\n",
            "Epoch 086: | Train Loss: 0.692 | Val Loss: 0.6937 | Train Acc: 52.0667| Val Acc: 50.0000\n",
            "Epoch 087: | Train Loss: 0.692 | Val Loss: 0.6937 | Train Acc: 52.0667| Val Acc: 50.0000\n",
            "Epoch 088: | Train Loss: 0.692 | Val Loss: 0.6937 | Train Acc: 52.0667| Val Acc: 50.0000\n",
            "Epoch 089: | Train Loss: 0.692 | Val Loss: 0.6937 | Train Acc: 52.0667| Val Acc: 50.0000\n",
            "Epoch 090: | Train Loss: 0.692 | Val Loss: 0.6937 | Train Acc: 52.0667| Val Acc: 50.0000\n",
            "Epoch 091: | Train Loss: 0.692 | Val Loss: 0.6937 | Train Acc: 52.0667| Val Acc: 50.0000\n",
            "Epoch 092: | Train Loss: 0.692 | Val Loss: 0.6937 | Train Acc: 52.0667| Val Acc: 50.0000\n",
            "Epoch 093: | Train Loss: 0.692 | Val Loss: 0.6937 | Train Acc: 52.0667| Val Acc: 50.0000\n",
            "Epoch 094: | Train Loss: 0.692 | Val Loss: 0.6937 | Train Acc: 52.0667| Val Acc: 50.0000\n",
            "Epoch 095: | Train Loss: 0.692 | Val Loss: 0.6937 | Train Acc: 52.0667| Val Acc: 50.0000\n",
            "Epoch 096: | Train Loss: 0.692 | Val Loss: 0.6937 | Train Acc: 52.0667| Val Acc: 50.0000\n",
            "Epoch 097: | Train Loss: 0.692 | Val Loss: 0.6937 | Train Acc: 52.0667| Val Acc: 50.0000\n",
            "Epoch 098: | Train Loss: 0.692 | Val Loss: 0.6937 | Train Acc: 52.0667| Val Acc: 50.0000\n",
            "Epoch 099: | Train Loss: 0.692 | Val Loss: 0.6937 | Train Acc: 52.0667| Val Acc: 50.0000\n",
            "Epoch 100: | Train Loss: 0.692 | Val Loss: 0.6937 | Train Acc: 52.0667| Val Acc: 50.0000\n",
            "Epoch 101: | Train Loss: 0.692 | Val Loss: 0.6937 | Train Acc: 52.0667| Val Acc: 50.0000\n",
            "Epoch 102: | Train Loss: 0.692 | Val Loss: 0.6937 | Train Acc: 52.0667| Val Acc: 50.0000\n",
            "Epoch 103: | Train Loss: 0.692 | Val Loss: 0.6937 | Train Acc: 52.0667| Val Acc: 50.0000\n",
            "Epoch 104: | Train Loss: 0.692 | Val Loss: 0.6937 | Train Acc: 52.0667| Val Acc: 50.0000\n",
            "Epoch 105: | Train Loss: 0.692 | Val Loss: 0.6937 | Train Acc: 52.0667| Val Acc: 50.0000\n",
            "Epoch 106: | Train Loss: 0.692 | Val Loss: 0.6937 | Train Acc: 52.0667| Val Acc: 50.0000\n",
            "Epoch 107: | Train Loss: 0.692 | Val Loss: 0.6937 | Train Acc: 52.0667| Val Acc: 50.0000\n",
            "Epoch 108: | Train Loss: 0.692 | Val Loss: 0.6937 | Train Acc: 52.0667| Val Acc: 50.0000\n",
            "Epoch 109: | Train Loss: 0.692 | Val Loss: 0.6937 | Train Acc: 52.0667| Val Acc: 50.0000\n",
            "Epoch 110: | Train Loss: 0.692 | Val Loss: 0.6937 | Train Acc: 52.0667| Val Acc: 50.0000\n",
            "Epoch 111: | Train Loss: 0.692 | Val Loss: 0.6937 | Train Acc: 52.0667| Val Acc: 50.0000\n",
            "Epoch 112: | Train Loss: 0.692 | Val Loss: 0.6937 | Train Acc: 52.0667| Val Acc: 50.0000\n",
            "Epoch 113: | Train Loss: 0.692 | Val Loss: 0.6937 | Train Acc: 52.0667| Val Acc: 50.0000\n",
            "Epoch 114: | Train Loss: 0.692 | Val Loss: 0.6937 | Train Acc: 52.0667| Val Acc: 50.0000\n",
            "Epoch 115: | Train Loss: 0.692 | Val Loss: 0.6937 | Train Acc: 52.0667| Val Acc: 50.0000\n",
            "Epoch 116: | Train Loss: 0.692 | Val Loss: 0.6937 | Train Acc: 52.0667| Val Acc: 50.0000\n",
            "Epoch 117: | Train Loss: 0.692 | Val Loss: 0.6937 | Train Acc: 52.0667| Val Acc: 50.0000\n",
            "Epoch 118: | Train Loss: 0.692 | Val Loss: 0.6937 | Train Acc: 52.0667| Val Acc: 50.0000\n",
            "Epoch 119: | Train Loss: 0.692 | Val Loss: 0.6937 | Train Acc: 52.0667| Val Acc: 50.0000\n",
            "Epoch 120: | Train Loss: 0.692 | Val Loss: 0.6937 | Train Acc: 52.0667| Val Acc: 50.0000\n",
            "Epoch 121: | Train Loss: 0.692 | Val Loss: 0.6937 | Train Acc: 52.0667| Val Acc: 50.0000\n",
            "Epoch 122: | Train Loss: 0.692 | Val Loss: 0.6937 | Train Acc: 52.0667| Val Acc: 50.0000\n",
            "Epoch 123: | Train Loss: 0.692 | Val Loss: 0.6937 | Train Acc: 52.0667| Val Acc: 50.0000\n",
            "Epoch 124: | Train Loss: 0.692 | Val Loss: 0.6937 | Train Acc: 52.0667| Val Acc: 50.0000\n",
            "Epoch 125: | Train Loss: 0.692 | Val Loss: 0.6937 | Train Acc: 52.0667| Val Acc: 50.0000\n",
            "Epoch 126: | Train Loss: 0.692 | Val Loss: 0.6937 | Train Acc: 52.0667| Val Acc: 50.0000\n",
            "Epoch 127: | Train Loss: 0.692 | Val Loss: 0.6937 | Train Acc: 52.0667| Val Acc: 50.0000\n",
            "Epoch 128: | Train Loss: 0.692 | Val Loss: 0.6937 | Train Acc: 52.0667| Val Acc: 50.0000\n",
            "Epoch 129: | Train Loss: 0.692 | Val Loss: 0.6937 | Train Acc: 52.0667| Val Acc: 50.0000\n",
            "Epoch 130: | Train Loss: 0.692 | Val Loss: 0.6937 | Train Acc: 52.0667| Val Acc: 50.0000\n",
            "Epoch 131: | Train Loss: 0.692 | Val Loss: 0.6937 | Train Acc: 52.0667| Val Acc: 50.0000\n",
            "Epoch 132: | Train Loss: 0.692 | Val Loss: 0.6937 | Train Acc: 52.0667| Val Acc: 50.0000\n",
            "Epoch 133: | Train Loss: 0.692 | Val Loss: 0.6937 | Train Acc: 52.0667| Val Acc: 50.0000\n",
            "Epoch 134: | Train Loss: 0.692 | Val Loss: 0.6937 | Train Acc: 52.0667| Val Acc: 50.0000\n",
            "Epoch 135: | Train Loss: 0.692 | Val Loss: 0.6937 | Train Acc: 52.0667| Val Acc: 50.0000\n",
            "Epoch 136: | Train Loss: 0.692 | Val Loss: 0.6937 | Train Acc: 52.0667| Val Acc: 50.0000\n",
            "Epoch 137: | Train Loss: 0.692 | Val Loss: 0.6937 | Train Acc: 52.0667| Val Acc: 50.0000\n",
            "Epoch 138: | Train Loss: 0.692 | Val Loss: 0.6937 | Train Acc: 52.0667| Val Acc: 50.0000\n",
            "Epoch 139: | Train Loss: 0.692 | Val Loss: 0.6937 | Train Acc: 52.0667| Val Acc: 50.0000\n",
            "Epoch 140: | Train Loss: 0.692 | Val Loss: 0.6937 | Train Acc: 52.0667| Val Acc: 50.0000\n",
            "Epoch 141: | Train Loss: 0.692 | Val Loss: 0.6937 | Train Acc: 52.0667| Val Acc: 50.0000\n",
            "Epoch 142: | Train Loss: 0.692 | Val Loss: 0.6937 | Train Acc: 52.0667| Val Acc: 50.0000\n",
            "Epoch 143: | Train Loss: 0.692 | Val Loss: 0.6937 | Train Acc: 52.0667| Val Acc: 50.0000\n",
            "Epoch 144: | Train Loss: 0.692 | Val Loss: 0.6937 | Train Acc: 52.0667| Val Acc: 50.0000\n",
            "Epoch 145: | Train Loss: 0.692 | Val Loss: 0.6937 | Train Acc: 52.0667| Val Acc: 50.0000\n",
            "Epoch 146: | Train Loss: 0.692 | Val Loss: 0.6937 | Train Acc: 52.0667| Val Acc: 50.0000\n",
            "Epoch 147: | Train Loss: 0.692 | Val Loss: 0.6937 | Train Acc: 52.0667| Val Acc: 50.0000\n",
            "Epoch 148: | Train Loss: 0.692 | Val Loss: 0.6937 | Train Acc: 52.0667| Val Acc: 50.0000\n",
            "Epoch 149: | Train Loss: 0.692 | Val Loss: 0.6937 | Train Acc: 52.0667| Val Acc: 50.0000\n",
            "Epoch 150: | Train Loss: 0.692 | Val Loss: 0.6937 | Train Acc: 52.0667| Val Acc: 50.0000\n",
            "Epoch 151: | Train Loss: 0.692 | Val Loss: 0.6937 | Train Acc: 52.0667| Val Acc: 50.0000\n",
            "Epoch 152: | Train Loss: 0.692 | Val Loss: 0.6937 | Train Acc: 52.0667| Val Acc: 50.0000\n",
            "Epoch 153: | Train Loss: 0.692 | Val Loss: 0.6937 | Train Acc: 52.0667| Val Acc: 50.0000\n",
            "Epoch 154: | Train Loss: 0.692 | Val Loss: 0.6937 | Train Acc: 52.0667| Val Acc: 50.0000\n",
            "Epoch 155: | Train Loss: 0.692 | Val Loss: 0.6937 | Train Acc: 52.0667| Val Acc: 50.0000\n",
            "Epoch 156: | Train Loss: 0.692 | Val Loss: 0.6937 | Train Acc: 52.0667| Val Acc: 50.0000\n",
            "Epoch 157: | Train Loss: 0.692 | Val Loss: 0.6937 | Train Acc: 52.0667| Val Acc: 50.0000\n",
            "Epoch 158: | Train Loss: 0.692 | Val Loss: 0.6937 | Train Acc: 52.0667| Val Acc: 50.0000\n",
            "Epoch 159: | Train Loss: 0.692 | Val Loss: 0.6937 | Train Acc: 52.0667| Val Acc: 50.0000\n",
            "Epoch 160: | Train Loss: 0.692 | Val Loss: 0.6937 | Train Acc: 52.0667| Val Acc: 50.0000\n",
            "Epoch 161: | Train Loss: 0.692 | Val Loss: 0.6937 | Train Acc: 52.0667| Val Acc: 50.0000\n",
            "Epoch 162: | Train Loss: 0.692 | Val Loss: 0.6937 | Train Acc: 52.0667| Val Acc: 50.0000\n",
            "Epoch 163: | Train Loss: 0.692 | Val Loss: 0.6937 | Train Acc: 52.0667| Val Acc: 50.0000\n",
            "Epoch 164: | Train Loss: 0.692 | Val Loss: 0.6937 | Train Acc: 52.0667| Val Acc: 50.0000\n",
            "Epoch 165: | Train Loss: 0.692 | Val Loss: 0.6937 | Train Acc: 52.0667| Val Acc: 50.0000\n",
            "Epoch 166: | Train Loss: 0.692 | Val Loss: 0.6937 | Train Acc: 52.0667| Val Acc: 50.0000\n",
            "Epoch 167: | Train Loss: 0.692 | Val Loss: 0.6937 | Train Acc: 52.0667| Val Acc: 50.0000\n",
            "Epoch 168: | Train Loss: 0.692 | Val Loss: 0.6937 | Train Acc: 52.0667| Val Acc: 50.0000\n",
            "Epoch 169: | Train Loss: 0.692 | Val Loss: 0.6937 | Train Acc: 52.0667| Val Acc: 50.0000\n",
            "Epoch 170: | Train Loss: 0.692 | Val Loss: 0.6937 | Train Acc: 52.0667| Val Acc: 50.0000\n",
            "Epoch 171: | Train Loss: 0.692 | Val Loss: 0.6937 | Train Acc: 52.0667| Val Acc: 50.0000\n",
            "Epoch 172: | Train Loss: 0.692 | Val Loss: 0.6937 | Train Acc: 52.0667| Val Acc: 50.0000\n",
            "Epoch 173: | Train Loss: 0.692 | Val Loss: 0.6937 | Train Acc: 52.0667| Val Acc: 50.0000\n",
            "Epoch 174: | Train Loss: 0.692 | Val Loss: 0.6937 | Train Acc: 52.0667| Val Acc: 50.0000\n",
            "Epoch 175: | Train Loss: 0.692 | Val Loss: 0.6937 | Train Acc: 52.0667| Val Acc: 50.0000\n",
            "Epoch 176: | Train Loss: 0.692 | Val Loss: 0.6937 | Train Acc: 52.0667| Val Acc: 50.0000\n",
            "Epoch 177: | Train Loss: 0.692 | Val Loss: 0.6937 | Train Acc: 52.0667| Val Acc: 50.0000\n",
            "Epoch 178: | Train Loss: 0.692 | Val Loss: 0.6937 | Train Acc: 52.0667| Val Acc: 50.0000\n",
            "Epoch 179: | Train Loss: 0.692 | Val Loss: 0.6937 | Train Acc: 52.0667| Val Acc: 50.0000\n",
            "Epoch 180: | Train Loss: 0.692 | Val Loss: 0.6937 | Train Acc: 52.0667| Val Acc: 50.0000\n",
            "Epoch 181: | Train Loss: 0.692 | Val Loss: 0.6937 | Train Acc: 52.0667| Val Acc: 50.0000\n",
            "Epoch 182: | Train Loss: 0.692 | Val Loss: 0.6937 | Train Acc: 52.0667| Val Acc: 50.0000\n",
            "Epoch 183: | Train Loss: 0.692 | Val Loss: 0.6937 | Train Acc: 52.0667| Val Acc: 50.0000\n",
            "Epoch 184: | Train Loss: 0.692 | Val Loss: 0.6937 | Train Acc: 52.0667| Val Acc: 50.0000\n",
            "Epoch 185: | Train Loss: 0.692 | Val Loss: 0.6937 | Train Acc: 52.0667| Val Acc: 50.0000\n",
            "Epoch 186: | Train Loss: 0.692 | Val Loss: 0.6937 | Train Acc: 52.0667| Val Acc: 50.0000\n",
            "Epoch 187: | Train Loss: 0.692 | Val Loss: 0.6937 | Train Acc: 52.0667| Val Acc: 50.0000\n",
            "Epoch 188: | Train Loss: 0.692 | Val Loss: 0.6937 | Train Acc: 52.0667| Val Acc: 50.0000\n",
            "Epoch 189: | Train Loss: 0.692 | Val Loss: 0.6937 | Train Acc: 52.0667| Val Acc: 50.0000\n",
            "Epoch 190: | Train Loss: 0.692 | Val Loss: 0.6937 | Train Acc: 52.0667| Val Acc: 50.0000\n",
            "Epoch 191: | Train Loss: 0.692 | Val Loss: 0.6937 | Train Acc: 52.0667| Val Acc: 50.0000\n",
            "Epoch 192: | Train Loss: 0.692 | Val Loss: 0.6937 | Train Acc: 52.0667| Val Acc: 50.0000\n",
            "Epoch 193: | Train Loss: 0.692 | Val Loss: 0.6937 | Train Acc: 52.0667| Val Acc: 50.0000\n",
            "Epoch 194: | Train Loss: 0.692 | Val Loss: 0.6937 | Train Acc: 52.0667| Val Acc: 50.0000\n",
            "Epoch 195: | Train Loss: 0.692 | Val Loss: 0.6937 | Train Acc: 52.0667| Val Acc: 50.0000\n",
            "Epoch 196: | Train Loss: 0.692 | Val Loss: 0.6937 | Train Acc: 52.0667| Val Acc: 50.0000\n",
            "Epoch 197: | Train Loss: 0.692 | Val Loss: 0.6937 | Train Acc: 52.0667| Val Acc: 50.0000\n",
            "Epoch 198: | Train Loss: 0.692 | Val Loss: 0.6937 | Train Acc: 52.0667| Val Acc: 50.0000\n",
            "Epoch 199: | Train Loss: 0.692 | Val Loss: 0.6937 | Train Acc: 52.0667| Val Acc: 50.0000\n",
            "Epoch 200: | Train Loss: 0.692 | Val Loss: 0.6937 | Train Acc: 52.0667| Val Acc: 50.0000\n",
            "Epoch 201: | Train Loss: 0.692 | Val Loss: 0.6937 | Train Acc: 52.0667| Val Acc: 50.0000\n",
            "Epoch 202: | Train Loss: 0.692 | Val Loss: 0.6937 | Train Acc: 52.0667| Val Acc: 50.0000\n",
            "Epoch 203: | Train Loss: 0.692 | Val Loss: 0.6937 | Train Acc: 52.0667| Val Acc: 50.0000\n",
            "Epoch 204: | Train Loss: 0.692 | Val Loss: 0.6937 | Train Acc: 52.0667| Val Acc: 50.0000\n",
            "Epoch 205: | Train Loss: 0.692 | Val Loss: 0.6937 | Train Acc: 52.0667| Val Acc: 50.0000\n",
            "Epoch 206: | Train Loss: 0.692 | Val Loss: 0.6937 | Train Acc: 52.0667| Val Acc: 50.0000\n",
            "Epoch 207: | Train Loss: 0.692 | Val Loss: 0.6937 | Train Acc: 52.0667| Val Acc: 50.0000\n",
            "Epoch 208: | Train Loss: 0.692 | Val Loss: 0.6937 | Train Acc: 52.0667| Val Acc: 50.0000\n",
            "Epoch 209: | Train Loss: 0.692 | Val Loss: 0.6937 | Train Acc: 52.0667| Val Acc: 50.0000\n",
            "Epoch 210: | Train Loss: 0.692 | Val Loss: 0.6937 | Train Acc: 52.0667| Val Acc: 50.0000\n",
            "Epoch 211: | Train Loss: 0.692 | Val Loss: 0.6937 | Train Acc: 52.0667| Val Acc: 50.0000\n",
            "Epoch 212: | Train Loss: 0.692 | Val Loss: 0.6937 | Train Acc: 52.0667| Val Acc: 50.0000\n",
            "Epoch 213: | Train Loss: 0.692 | Val Loss: 0.6937 | Train Acc: 52.0667| Val Acc: 50.0000\n",
            "Epoch 214: | Train Loss: 0.692 | Val Loss: 0.6937 | Train Acc: 52.0667| Val Acc: 50.0000\n",
            "Epoch 215: | Train Loss: 0.692 | Val Loss: 0.6937 | Train Acc: 52.0667| Val Acc: 50.0000\n",
            "Epoch 216: | Train Loss: 0.692 | Val Loss: 0.6937 | Train Acc: 52.0667| Val Acc: 50.0000\n",
            "Epoch 217: | Train Loss: 0.692 | Val Loss: 0.6937 | Train Acc: 52.0667| Val Acc: 50.0000\n",
            "Epoch 218: | Train Loss: 0.692 | Val Loss: 0.6937 | Train Acc: 52.0667| Val Acc: 50.0000\n",
            "Epoch 219: | Train Loss: 0.692 | Val Loss: 0.6937 | Train Acc: 52.0667| Val Acc: 50.0000\n",
            "Epoch 220: | Train Loss: 0.692 | Val Loss: 0.6937 | Train Acc: 52.0667| Val Acc: 50.0000\n",
            "Epoch 221: | Train Loss: 0.692 | Val Loss: 0.6937 | Train Acc: 52.0667| Val Acc: 50.0000\n",
            "Epoch 222: | Train Loss: 0.692 | Val Loss: 0.6937 | Train Acc: 52.0667| Val Acc: 50.0000\n",
            "Epoch 223: | Train Loss: 0.692 | Val Loss: 0.6937 | Train Acc: 52.0667| Val Acc: 50.0000\n",
            "Epoch 224: | Train Loss: 0.692 | Val Loss: 0.6937 | Train Acc: 52.0667| Val Acc: 50.0000\n",
            "Epoch 225: | Train Loss: 0.692 | Val Loss: 0.6937 | Train Acc: 52.0667| Val Acc: 50.0000\n",
            "Epoch 226: | Train Loss: 0.692 | Val Loss: 0.6937 | Train Acc: 52.0667| Val Acc: 50.0000\n",
            "Epoch 227: | Train Loss: 0.692 | Val Loss: 0.6937 | Train Acc: 52.0667| Val Acc: 50.0000\n",
            "Epoch 228: | Train Loss: 0.692 | Val Loss: 0.6937 | Train Acc: 52.0667| Val Acc: 50.0000\n",
            "Epoch 229: | Train Loss: 0.692 | Val Loss: 0.6937 | Train Acc: 52.0667| Val Acc: 50.0000\n",
            "Epoch 230: | Train Loss: 0.692 | Val Loss: 0.6937 | Train Acc: 52.0667| Val Acc: 50.0000\n",
            "Epoch 231: | Train Loss: 0.692 | Val Loss: 0.6937 | Train Acc: 52.0667| Val Acc: 50.0000\n",
            "Epoch 232: | Train Loss: 0.692 | Val Loss: 0.6937 | Train Acc: 52.0667| Val Acc: 50.0000\n",
            "Epoch 233: | Train Loss: 0.692 | Val Loss: 0.6937 | Train Acc: 52.0667| Val Acc: 50.0000\n",
            "Epoch 234: | Train Loss: 0.692 | Val Loss: 0.6937 | Train Acc: 52.0667| Val Acc: 50.0000\n",
            "Epoch 235: | Train Loss: 0.692 | Val Loss: 0.6937 | Train Acc: 52.0667| Val Acc: 50.0000\n",
            "Epoch 236: | Train Loss: 0.692 | Val Loss: 0.6937 | Train Acc: 52.0667| Val Acc: 50.0000\n",
            "Epoch 237: | Train Loss: 0.692 | Val Loss: 0.6937 | Train Acc: 52.0667| Val Acc: 50.0000\n",
            "Epoch 238: | Train Loss: 0.692 | Val Loss: 0.6937 | Train Acc: 52.0667| Val Acc: 50.0000\n",
            "Epoch 239: | Train Loss: 0.692 | Val Loss: 0.6937 | Train Acc: 52.0667| Val Acc: 50.0000\n",
            "Epoch 240: | Train Loss: 0.692 | Val Loss: 0.6937 | Train Acc: 52.0667| Val Acc: 50.0000\n",
            "Epoch 241: | Train Loss: 0.692 | Val Loss: 0.6937 | Train Acc: 52.0667| Val Acc: 50.0000\n",
            "Epoch 242: | Train Loss: 0.692 | Val Loss: 0.6937 | Train Acc: 52.0667| Val Acc: 50.0000\n",
            "Epoch 243: | Train Loss: 0.692 | Val Loss: 0.6937 | Train Acc: 52.0667| Val Acc: 50.0000\n",
            "Epoch 244: | Train Loss: 0.692 | Val Loss: 0.6937 | Train Acc: 52.0667| Val Acc: 50.0000\n",
            "Epoch 245: | Train Loss: 0.692 | Val Loss: 0.6937 | Train Acc: 52.0667| Val Acc: 50.0000\n",
            "Epoch 246: | Train Loss: 0.692 | Val Loss: 0.6937 | Train Acc: 52.0667| Val Acc: 50.0000\n",
            "Epoch 247: | Train Loss: 0.692 | Val Loss: 0.6937 | Train Acc: 52.0667| Val Acc: 50.0000\n",
            "Epoch 248: | Train Loss: 0.692 | Val Loss: 0.6937 | Train Acc: 52.0667| Val Acc: 50.0000\n",
            "Epoch 249: | Train Loss: 0.692 | Val Loss: 0.6937 | Train Acc: 52.0667| Val Acc: 50.0000\n",
            "Epoch 250: | Train Loss: 0.692 | Val Loss: 0.6937 | Train Acc: 52.0667| Val Acc: 50.0000\n"
          ]
        }
      ],
      "source": [
        "lr = 0.01\n",
        "epochs = 250\n",
        "\n",
        "history, y_hat = train(model, train_loader, val_dataset, epochs=epochs, lr=lr, device=device, binary=binary)"
      ]
    },
    {
      "cell_type": "code",
      "execution_count": null,
      "metadata": {
        "id": "aCDR37-ZxU9-"
      },
      "outputs": [],
      "source": [
        "y_pred = model.predict(test_dataset.X_data, binary=binary)"
      ]
    },
    {
      "cell_type": "code",
      "execution_count": null,
      "metadata": {
        "id": "4QVHPhoSxU9-",
        "outputId": "e78e416f-f9bb-477e-ba92-050fc4cb263c"
      },
      "outputs": [
        {
          "name": "stdout",
          "output_type": "stream",
          "text": [
            "              precision    recall  f1-score   support\n",
            "\n",
            "           0       0.55      1.00      0.71       164\n",
            "           1       0.00      0.00      0.00       136\n",
            "\n",
            "    accuracy                           0.55       300\n",
            "   macro avg       0.27      0.50      0.35       300\n",
            "weighted avg       0.30      0.55      0.39       300\n",
            "\n"
          ]
        },
        {
          "name": "stderr",
          "output_type": "stream",
          "text": [
            "c:\\Python38\\lib\\site-packages\\sklearn\\metrics\\_classification.py:1248: UndefinedMetricWarning: Precision and F-score are ill-defined and being set to 0.0 in labels with no predicted samples. Use `zero_division` parameter to control this behavior.\n",
            "  _warn_prf(average, modifier, msg_start, len(result))\n",
            "c:\\Python38\\lib\\site-packages\\sklearn\\metrics\\_classification.py:1248: UndefinedMetricWarning: Precision and F-score are ill-defined and being set to 0.0 in labels with no predicted samples. Use `zero_division` parameter to control this behavior.\n",
            "  _warn_prf(average, modifier, msg_start, len(result))\n",
            "c:\\Python38\\lib\\site-packages\\sklearn\\metrics\\_classification.py:1248: UndefinedMetricWarning: Precision and F-score are ill-defined and being set to 0.0 in labels with no predicted samples. Use `zero_division` parameter to control this behavior.\n",
            "  _warn_prf(average, modifier, msg_start, len(result))\n"
          ]
        },
        {
          "data": {
            "image/png": "[encoded data removed]",
            "text/plain": [
              "<Figure size 576x432 with 2 Axes>"
            ]
          },
          "metadata": {
            "needs_background": "light"
          },
          "output_type": "display_data"
        }
      ],
      "source": [
        "print(classification_report(y_test, y_pred))\n",
        "\n",
        "cm = confusion_matrix(y_test, y_pred)\n",
        "\n",
        "plot_confusion_matrix(cm)"
      ]
    },
    {
      "cell_type": "markdown",
      "metadata": {
        "id": "sT51muasgPV6"
      },
      "source": [
        "#### Resposta"
      ]
    },
    {
      "cell_type": "markdown",
      "metadata": {
        "id": "vZi3GgBhgPWM"
      },
      "source": [
        "## Parte III - Mudança de configurações do modelo\n",
        "\n",
        "Total: 8,0 pts."
      ]
    },
    {
      "cell_type": "markdown",
      "metadata": {
        "id": "Vlv6Jt4bxU-C"
      },
      "source": [
        "### 1)\tAgora normalize os dados de entrada e treine novamente o modelo MLP. Avalie os resultados obtidos e comente o efeito da normalização no treinamento da Rede Neural."
      ]
    },
    {
      "cell_type": "markdown",
      "metadata": {
        "id": "rZYGPouDxU-C"
      },
      "source": [
        "#### Rascunho"
      ]
    },
    {
      "cell_type": "code",
      "execution_count": null,
      "metadata": {
        "id": "NqjAcXjxxU-C",
        "outputId": "a0fa03e7-bfa8-464f-fade-38fce95ddc3a"
      },
      "outputs": [
        {
          "data": {
            "text/html": [
              "<div>\n",
              "<style scoped>\n",
              "    .dataframe tbody tr th:only-of-type {\n",
              "        vertical-align: middle;\n",
              "    }\n",
              "\n",
              "    .dataframe tbody tr th {\n",
              "        vertical-align: top;\n",
              "    }\n",
              "\n",
              "    .dataframe thead th {\n",
              "        text-align: right;\n",
              "    }\n",
              "</style>\n",
              "<table border=\"1\" class=\"dataframe\">\n",
              "  <thead>\n",
              "    <tr style=\"text-align: right;\">\n",
              "      <th></th>\n",
              "      <th>ESTC</th>\n",
              "      <th>NDEP</th>\n",
              "      <th>RENDA</th>\n",
              "      <th>TIPOR</th>\n",
              "      <th>VBEM</th>\n",
              "      <th>NPARC</th>\n",
              "      <th>VPARC</th>\n",
              "      <th>TEL</th>\n",
              "      <th>IDADE</th>\n",
              "      <th>RESMS</th>\n",
              "      <th>ENTRADA</th>\n",
              "      <th>target</th>\n",
              "    </tr>\n",
              "  </thead>\n",
              "  <tbody>\n",
              "    <tr>\n",
              "      <th>0</th>\n",
              "      <td>0.333333</td>\n",
              "      <td>0.0</td>\n",
              "      <td>0.007792</td>\n",
              "      <td>0.0</td>\n",
              "      <td>0.003514</td>\n",
              "      <td>0.347826</td>\n",
              "      <td>0.003026</td>\n",
              "      <td>0.0</td>\n",
              "      <td>0.117647</td>\n",
              "      <td>0.114286</td>\n",
              "      <td>0.0</td>\n",
              "      <td>1</td>\n",
              "    </tr>\n",
              "    <tr>\n",
              "      <th>1</th>\n",
              "      <td>0.000000</td>\n",
              "      <td>0.0</td>\n",
              "      <td>0.006494</td>\n",
              "      <td>1.0</td>\n",
              "      <td>0.045405</td>\n",
              "      <td>0.391304</td>\n",
              "      <td>0.022693</td>\n",
              "      <td>0.0</td>\n",
              "      <td>0.274510</td>\n",
              "      <td>0.014286</td>\n",
              "      <td>0.0</td>\n",
              "      <td>1</td>\n",
              "    </tr>\n",
              "    <tr>\n",
              "      <th>2</th>\n",
              "      <td>0.000000</td>\n",
              "      <td>0.0</td>\n",
              "      <td>0.103896</td>\n",
              "      <td>0.0</td>\n",
              "      <td>0.142973</td>\n",
              "      <td>0.347826</td>\n",
              "      <td>0.113464</td>\n",
              "      <td>0.0</td>\n",
              "      <td>0.725490</td>\n",
              "      <td>0.114286</td>\n",
              "      <td>0.0</td>\n",
              "      <td>1</td>\n",
              "    </tr>\n",
              "    <tr>\n",
              "      <th>3</th>\n",
              "      <td>0.000000</td>\n",
              "      <td>0.0</td>\n",
              "      <td>0.350649</td>\n",
              "      <td>0.0</td>\n",
              "      <td>0.068108</td>\n",
              "      <td>0.478261</td>\n",
              "      <td>0.039334</td>\n",
              "      <td>1.0</td>\n",
              "      <td>0.235294</td>\n",
              "      <td>0.142857</td>\n",
              "      <td>0.0</td>\n",
              "      <td>1</td>\n",
              "    </tr>\n",
              "    <tr>\n",
              "      <th>4</th>\n",
              "      <td>0.333333</td>\n",
              "      <td>0.0</td>\n",
              "      <td>0.090909</td>\n",
              "      <td>0.0</td>\n",
              "      <td>0.137568</td>\n",
              "      <td>0.478261</td>\n",
              "      <td>0.092284</td>\n",
              "      <td>0.0</td>\n",
              "      <td>0.098039</td>\n",
              "      <td>0.016667</td>\n",
              "      <td>0.0</td>\n",
              "      <td>1</td>\n",
              "    </tr>\n",
              "  </tbody>\n",
              "</table>\n",
              "</div>"
            ],
            "text/plain": [
              "       ESTC  NDEP     RENDA  TIPOR      VBEM     NPARC     VPARC  TEL  \\\n",
              "0  0.333333   0.0  0.007792    0.0  0.003514  0.347826  0.003026  0.0   \n",
              "1  0.000000   0.0  0.006494    1.0  0.045405  0.391304  0.022693  0.0   \n",
              "2  0.000000   0.0  0.103896    0.0  0.142973  0.347826  0.113464  0.0   \n",
              "3  0.000000   0.0  0.350649    0.0  0.068108  0.478261  0.039334  1.0   \n",
              "4  0.333333   0.0  0.090909    0.0  0.137568  0.478261  0.092284  0.0   \n",
              "\n",
              "      IDADE     RESMS  ENTRADA  target  \n",
              "0  0.117647  0.114286      0.0       1  \n",
              "1  0.274510  0.014286      0.0       1  \n",
              "2  0.725490  0.114286      0.0       1  \n",
              "3  0.235294  0.142857      0.0       1  \n",
              "4  0.098039  0.016667      0.0       1  "
            ]
          },
          "metadata": {},
          "output_type": "display_data"
        }
      ],
      "source": [
        "new_df = transform_data(dataset, normalize=True)\n",
        "new_df.head()"
      ]
    },
    {
      "cell_type": "code",
      "execution_count": null,
      "metadata": {
        "id": "HdkDDbecxU-C"
      },
      "outputs": [],
      "source": []
    },
    {
      "cell_type": "code",
      "execution_count": null,
      "metadata": {
        "id": "4xv8591lxU-D",
        "outputId": "be1b43b2-2bbb-4830-db17-709755642473"
      },
      "outputs": [
        {
          "name": "stdout",
          "output_type": "stream",
          "text": [
            "Binary classification\n"
          ]
        }
      ],
      "source": [
        "X = new_df.values[:,:-1].astype('float')\n",
        "target = new_df.values[:,-1]\n",
        "\n",
        "encoder = LabelEncoder()\n",
        "y = encoder.fit_transform(target)\n",
        "\n",
        "n_input = X.shape[1]\n",
        "\n",
        "if np.unique(y).shape[0] <= 2:\n",
        "  print('Binary classification')\n",
        "  n_output = 1\n",
        "\n",
        "else:\n",
        "  print('Multiclass classification')\n",
        "  #y = to_categorical(y)\n",
        "  n_output = encoder.classes_.shape[0]\n",
        "\n",
        "\n",
        "X_train, X_test, y_train, y_test = train_test_split(X,y,test_size=0.2,random_state=42)\n",
        "X_train, X_val, y_train, y_val = train_test_split(X_train,y_train,test_size=0.2,random_state=42)"
      ]
    },
    {
      "cell_type": "code",
      "execution_count": null,
      "metadata": {
        "id": "knGmVu5GxU-D"
      },
      "outputs": [],
      "source": [
        "if binary:\n",
        "    train_dataset = CustomDataset(torch.from_numpy(X_train).float(), torch.from_numpy(y_train).float().unsqueeze(1))\n",
        "    val_dataset = CustomDataset(torch.from_numpy(X_val).float(), torch.from_numpy(y_val).float().unsqueeze(1))\n",
        "    test_dataset = CustomDataset(torch.from_numpy(X_test).float(), torch.from_numpy(y_test).float().unsqueeze(1))\n",
        "else:\n",
        "    train_dataset = CustomDataset(torch.from_numpy(X_train).float(), torch.from_numpy(y_train).long())\n",
        "    val_dataset = CustomDataset(torch.from_numpy(X_val).float(), torch.from_numpy(y_val).long())\n",
        "    test_dataset = CustomDataset(torch.from_numpy(X_test).float(), torch.from_numpy(y_test).long())\n",
        "\n",
        "train_loader = DataLoader(dataset=train_dataset,batch_size=batch_size)\n",
        "val_loader = DataLoader(dataset=val_dataset, batch_size=1)\n",
        "test_loader = DataLoader(dataset=test_dataset, batch_size=1)"
      ]
    },
    {
      "cell_type": "code",
      "execution_count": null,
      "metadata": {
        "id": "cOkvqI3axU-D",
        "outputId": "5fded569-bb79-46d4-e409-711e722e805d",
        "colab": {
          "referenced_widgets": [
            "49f651ccecd34cf7916a1ef21e69b31b"
          ]
        }
      },
      "outputs": [
        {
          "data": {
            "application/vnd.jupyter.widget-view+json": {
              "model_id": "49f651ccecd34cf7916a1ef21e69b31b",
              "version_major": 2,
              "version_minor": 0
            },
            "text/plain": [
              "  0%|          | 0/250 [00:00<?, ?it/s]"
            ]
          },
          "metadata": {},
          "output_type": "display_data"
        },
        {
          "name": "stdout",
          "output_type": "stream",
          "text": [
            "Epoch 001: | Train Loss: 0.684 | Val Loss: 0.6824 | Train Acc: 62.4667| Val Acc: 63.0000\n",
            "Epoch 002: | Train Loss: 0.681 | Val Loss: 0.6798 | Train Acc: 64.2667| Val Acc: 64.0000\n",
            "Epoch 003: | Train Loss: 0.678 | Val Loss: 0.6774 | Train Acc: 65.4333| Val Acc: 65.0000\n",
            "Epoch 004: | Train Loss: 0.675 | Val Loss: 0.6753 | Train Acc: 66.0000| Val Acc: 64.0000\n",
            "Epoch 005: | Train Loss: 0.673 | Val Loss: 0.6733 | Train Acc: 65.7667| Val Acc: 64.0000\n",
            "Epoch 006: | Train Loss: 0.670 | Val Loss: 0.6713 | Train Acc: 65.6000| Val Acc: 65.0000\n",
            "Epoch 007: | Train Loss: 0.668 | Val Loss: 0.6694 | Train Acc: 65.6333| Val Acc: 65.0000\n",
            "Epoch 008: | Train Loss: 0.666 | Val Loss: 0.6674 | Train Acc: 66.2667| Val Acc: 66.0000\n",
            "Epoch 009: | Train Loss: 0.663 | Val Loss: 0.6653 | Train Acc: 66.2667| Val Acc: 66.0000\n",
            "Epoch 010: | Train Loss: 0.661 | Val Loss: 0.6632 | Train Acc: 66.3667| Val Acc: 67.0000\n",
            "Epoch 011: | Train Loss: 0.658 | Val Loss: 0.6610 | Train Acc: 66.6000| Val Acc: 68.0000\n",
            "Epoch 012: | Train Loss: 0.656 | Val Loss: 0.6588 | Train Acc: 67.5000| Val Acc: 68.0000\n",
            "Epoch 013: | Train Loss: 0.653 | Val Loss: 0.6565 | Train Acc: 68.1000| Val Acc: 67.0000\n",
            "Epoch 014: | Train Loss: 0.650 | Val Loss: 0.6541 | Train Acc: 68.4000| Val Acc: 68.0000\n",
            "Epoch 015: | Train Loss: 0.648 | Val Loss: 0.6517 | Train Acc: 69.4667| Val Acc: 68.0000\n",
            "Epoch 016: | Train Loss: 0.645 | Val Loss: 0.6492 | Train Acc: 71.2000| Val Acc: 68.0000\n",
            "Epoch 017: | Train Loss: 0.642 | Val Loss: 0.6466 | Train Acc: 72.1667| Val Acc: 69.0000\n",
            "Epoch 018: | Train Loss: 0.639 | Val Loss: 0.6440 | Train Acc: 72.6667| Val Acc: 70.0000\n",
            "Epoch 019: | Train Loss: 0.636 | Val Loss: 0.6413 | Train Acc: 73.1000| Val Acc: 72.0000\n",
            "Epoch 020: | Train Loss: 0.632 | Val Loss: 0.6385 | Train Acc: 73.7667| Val Acc: 73.0000\n",
            "Epoch 021: | Train Loss: 0.629 | Val Loss: 0.6357 | Train Acc: 74.1667| Val Acc: 73.0000\n",
            "Epoch 022: | Train Loss: 0.626 | Val Loss: 0.6328 | Train Acc: 74.3667| Val Acc: 72.0000\n",
            "Epoch 023: | Train Loss: 0.622 | Val Loss: 0.6299 | Train Acc: 74.2667| Val Acc: 72.0000\n",
            "Epoch 024: | Train Loss: 0.619 | Val Loss: 0.6269 | Train Acc: 74.3000| Val Acc: 72.0000\n",
            "Epoch 025: | Train Loss: 0.616 | Val Loss: 0.6239 | Train Acc: 74.5000| Val Acc: 72.0000\n",
            "Epoch 026: | Train Loss: 0.612 | Val Loss: 0.6208 | Train Acc: 74.6333| Val Acc: 73.0000\n",
            "Epoch 027: | Train Loss: 0.608 | Val Loss: 0.6176 | Train Acc: 74.8333| Val Acc: 73.0000\n",
            "Epoch 028: | Train Loss: 0.605 | Val Loss: 0.6144 | Train Acc: 74.8333| Val Acc: 73.0000\n",
            "Epoch 029: | Train Loss: 0.601 | Val Loss: 0.6112 | Train Acc: 74.9333| Val Acc: 73.0000\n",
            "Epoch 030: | Train Loss: 0.597 | Val Loss: 0.6078 | Train Acc: 74.8333| Val Acc: 73.0000\n",
            "Epoch 031: | Train Loss: 0.593 | Val Loss: 0.6044 | Train Acc: 75.0333| Val Acc: 73.0000\n",
            "Epoch 032: | Train Loss: 0.589 | Val Loss: 0.6009 | Train Acc: 75.0333| Val Acc: 73.0000\n",
            "Epoch 033: | Train Loss: 0.585 | Val Loss: 0.5974 | Train Acc: 75.1333| Val Acc: 73.0000\n",
            "Epoch 034: | Train Loss: 0.581 | Val Loss: 0.5939 | Train Acc: 75.1333| Val Acc: 73.0000\n",
            "Epoch 035: | Train Loss: 0.577 | Val Loss: 0.5904 | Train Acc: 75.0333| Val Acc: 73.0000\n",
            "Epoch 036: | Train Loss: 0.573 | Val Loss: 0.5869 | Train Acc: 74.9333| Val Acc: 73.0000\n",
            "Epoch 037: | Train Loss: 0.568 | Val Loss: 0.5834 | Train Acc: 75.0333| Val Acc: 73.0000\n",
            "Epoch 038: | Train Loss: 0.564 | Val Loss: 0.5799 | Train Acc: 75.0333| Val Acc: 73.0000\n",
            "Epoch 039: | Train Loss: 0.560 | Val Loss: 0.5764 | Train Acc: 75.0333| Val Acc: 73.0000\n",
            "Epoch 040: | Train Loss: 0.556 | Val Loss: 0.5729 | Train Acc: 75.0333| Val Acc: 73.0000\n",
            "Epoch 041: | Train Loss: 0.552 | Val Loss: 0.5695 | Train Acc: 75.0333| Val Acc: 73.0000\n",
            "Epoch 042: | Train Loss: 0.548 | Val Loss: 0.5660 | Train Acc: 75.0333| Val Acc: 73.0000\n",
            "Epoch 043: | Train Loss: 0.544 | Val Loss: 0.5626 | Train Acc: 74.9333| Val Acc: 73.0000\n",
            "Epoch 044: | Train Loss: 0.540 | Val Loss: 0.5592 | Train Acc: 74.8333| Val Acc: 73.0000\n",
            "Epoch 045: | Train Loss: 0.536 | Val Loss: 0.5558 | Train Acc: 74.8333| Val Acc: 73.0000\n",
            "Epoch 046: | Train Loss: 0.532 | Val Loss: 0.5524 | Train Acc: 75.0333| Val Acc: 74.0000\n",
            "Epoch 047: | Train Loss: 0.528 | Val Loss: 0.5491 | Train Acc: 75.0333| Val Acc: 74.0000\n",
            "Epoch 048: | Train Loss: 0.524 | Val Loss: 0.5458 | Train Acc: 75.1333| Val Acc: 74.0000\n",
            "Epoch 049: | Train Loss: 0.520 | Val Loss: 0.5425 | Train Acc: 75.2333| Val Acc: 74.0000\n",
            "Epoch 050: | Train Loss: 0.517 | Val Loss: 0.5393 | Train Acc: 75.3333| Val Acc: 74.0000\n",
            "Epoch 051: | Train Loss: 0.513 | Val Loss: 0.5361 | Train Acc: 75.7667| Val Acc: 74.0000\n",
            "Epoch 052: | Train Loss: 0.509 | Val Loss: 0.5329 | Train Acc: 76.0667| Val Acc: 74.0000\n",
            "Epoch 053: | Train Loss: 0.506 | Val Loss: 0.5298 | Train Acc: 76.2667| Val Acc: 74.0000\n",
            "Epoch 054: | Train Loss: 0.502 | Val Loss: 0.5267 | Train Acc: 76.5667| Val Acc: 75.0000\n",
            "Epoch 055: | Train Loss: 0.499 | Val Loss: 0.5236 | Train Acc: 76.8000| Val Acc: 75.0000\n",
            "Epoch 056: | Train Loss: 0.495 | Val Loss: 0.5206 | Train Acc: 76.9000| Val Acc: 75.0000\n",
            "Epoch 057: | Train Loss: 0.492 | Val Loss: 0.5176 | Train Acc: 77.3667| Val Acc: 76.0000\n",
            "Epoch 058: | Train Loss: 0.488 | Val Loss: 0.5146 | Train Acc: 77.8000| Val Acc: 76.0000\n",
            "Epoch 059: | Train Loss: 0.485 | Val Loss: 0.5116 | Train Acc: 78.3333| Val Acc: 76.0000\n",
            "Epoch 060: | Train Loss: 0.482 | Val Loss: 0.5087 | Train Acc: 78.4333| Val Acc: 78.0000\n",
            "Epoch 061: | Train Loss: 0.478 | Val Loss: 0.5058 | Train Acc: 79.2333| Val Acc: 78.0000\n",
            "Epoch 062: | Train Loss: 0.475 | Val Loss: 0.5030 | Train Acc: 79.5333| Val Acc: 78.0000\n",
            "Epoch 063: | Train Loss: 0.472 | Val Loss: 0.5001 | Train Acc: 79.9333| Val Acc: 78.0000\n",
            "Epoch 064: | Train Loss: 0.469 | Val Loss: 0.4972 | Train Acc: 80.6333| Val Acc: 78.0000\n",
            "Epoch 065: | Train Loss: 0.466 | Val Loss: 0.4944 | Train Acc: 80.8667| Val Acc: 79.0000\n",
            "Epoch 066: | Train Loss: 0.463 | Val Loss: 0.4916 | Train Acc: 81.1000| Val Acc: 80.0000\n",
            "Epoch 067: | Train Loss: 0.460 | Val Loss: 0.4889 | Train Acc: 81.9333| Val Acc: 80.0000\n",
            "Epoch 068: | Train Loss: 0.457 | Val Loss: 0.4861 | Train Acc: 82.1333| Val Acc: 80.0000\n",
            "Epoch 069: | Train Loss: 0.454 | Val Loss: 0.4834 | Train Acc: 82.3667| Val Acc: 81.0000\n",
            "Epoch 070: | Train Loss: 0.451 | Val Loss: 0.4807 | Train Acc: 83.2667| Val Acc: 82.0000\n",
            "Epoch 071: | Train Loss: 0.448 | Val Loss: 0.4781 | Train Acc: 83.7333| Val Acc: 82.0000\n",
            "Epoch 072: | Train Loss: 0.445 | Val Loss: 0.4754 | Train Acc: 83.9333| Val Acc: 82.0000\n",
            "Epoch 073: | Train Loss: 0.442 | Val Loss: 0.4728 | Train Acc: 84.2333| Val Acc: 82.0000\n",
            "Epoch 074: | Train Loss: 0.440 | Val Loss: 0.4702 | Train Acc: 84.4333| Val Acc: 82.0000\n",
            "Epoch 075: | Train Loss: 0.437 | Val Loss: 0.4676 | Train Acc: 84.8333| Val Acc: 82.0000\n",
            "Epoch 076: | Train Loss: 0.434 | Val Loss: 0.4650 | Train Acc: 85.0333| Val Acc: 83.0000\n",
            "Epoch 077: | Train Loss: 0.431 | Val Loss: 0.4624 | Train Acc: 85.4333| Val Acc: 84.0000\n",
            "Epoch 078: | Train Loss: 0.429 | Val Loss: 0.4599 | Train Acc: 85.3333| Val Acc: 84.0000\n",
            "Epoch 079: | Train Loss: 0.426 | Val Loss: 0.4574 | Train Acc: 85.6667| Val Acc: 83.0000\n",
            "Epoch 080: | Train Loss: 0.424 | Val Loss: 0.4550 | Train Acc: 85.9000| Val Acc: 84.0000\n",
            "Epoch 081: | Train Loss: 0.421 | Val Loss: 0.4525 | Train Acc: 86.1000| Val Acc: 85.0000\n",
            "Epoch 082: | Train Loss: 0.419 | Val Loss: 0.4501 | Train Acc: 86.5333| Val Acc: 85.0000\n",
            "Epoch 083: | Train Loss: 0.416 | Val Loss: 0.4477 | Train Acc: 86.7667| Val Acc: 85.0000\n",
            "Epoch 084: | Train Loss: 0.414 | Val Loss: 0.4454 | Train Acc: 86.9667| Val Acc: 85.0000\n",
            "Epoch 085: | Train Loss: 0.411 | Val Loss: 0.4430 | Train Acc: 87.2000| Val Acc: 85.0000\n",
            "Epoch 086: | Train Loss: 0.409 | Val Loss: 0.4407 | Train Acc: 87.3333| Val Acc: 86.0000\n",
            "Epoch 087: | Train Loss: 0.407 | Val Loss: 0.4384 | Train Acc: 87.4333| Val Acc: 86.0000\n",
            "Epoch 088: | Train Loss: 0.404 | Val Loss: 0.4361 | Train Acc: 87.6333| Val Acc: 86.0000\n",
            "Epoch 089: | Train Loss: 0.402 | Val Loss: 0.4339 | Train Acc: 87.7333| Val Acc: 86.0000\n",
            "Epoch 090: | Train Loss: 0.400 | Val Loss: 0.4317 | Train Acc: 87.9333| Val Acc: 86.0000\n",
            "Epoch 091: | Train Loss: 0.398 | Val Loss: 0.4295 | Train Acc: 88.1667| Val Acc: 86.0000\n",
            "Epoch 092: | Train Loss: 0.396 | Val Loss: 0.4274 | Train Acc: 87.9333| Val Acc: 86.0000\n",
            "Epoch 093: | Train Loss: 0.394 | Val Loss: 0.4253 | Train Acc: 87.9333| Val Acc: 86.0000\n",
            "Epoch 094: | Train Loss: 0.392 | Val Loss: 0.4232 | Train Acc: 87.9333| Val Acc: 86.0000\n",
            "Epoch 095: | Train Loss: 0.390 | Val Loss: 0.4212 | Train Acc: 88.0667| Val Acc: 87.0000\n",
            "Epoch 096: | Train Loss: 0.388 | Val Loss: 0.4192 | Train Acc: 88.1667| Val Acc: 87.0000\n",
            "Epoch 097: | Train Loss: 0.386 | Val Loss: 0.4172 | Train Acc: 88.4000| Val Acc: 87.0000\n",
            "Epoch 098: | Train Loss: 0.384 | Val Loss: 0.4152 | Train Acc: 88.5000| Val Acc: 87.0000\n",
            "Epoch 099: | Train Loss: 0.382 | Val Loss: 0.4133 | Train Acc: 88.6667| Val Acc: 87.0000\n",
            "Epoch 100: | Train Loss: 0.380 | Val Loss: 0.4114 | Train Acc: 88.5667| Val Acc: 87.0000\n",
            "Epoch 101: | Train Loss: 0.378 | Val Loss: 0.4096 | Train Acc: 88.5667| Val Acc: 87.0000\n",
            "Epoch 102: | Train Loss: 0.377 | Val Loss: 0.4078 | Train Acc: 88.8667| Val Acc: 87.0000\n",
            "Epoch 103: | Train Loss: 0.375 | Val Loss: 0.4060 | Train Acc: 88.9667| Val Acc: 87.0000\n",
            "Epoch 104: | Train Loss: 0.373 | Val Loss: 0.4043 | Train Acc: 88.8667| Val Acc: 87.0000\n",
            "Epoch 105: | Train Loss: 0.372 | Val Loss: 0.4026 | Train Acc: 88.8667| Val Acc: 87.0000\n",
            "Epoch 106: | Train Loss: 0.370 | Val Loss: 0.4009 | Train Acc: 88.8667| Val Acc: 87.0000\n",
            "Epoch 107: | Train Loss: 0.369 | Val Loss: 0.3993 | Train Acc: 88.8667| Val Acc: 87.0000\n",
            "Epoch 108: | Train Loss: 0.367 | Val Loss: 0.3977 | Train Acc: 88.8667| Val Acc: 87.0000\n",
            "Epoch 109: | Train Loss: 0.366 | Val Loss: 0.3961 | Train Acc: 88.7667| Val Acc: 87.0000\n",
            "Epoch 110: | Train Loss: 0.364 | Val Loss: 0.3946 | Train Acc: 88.8667| Val Acc: 87.0000\n",
            "Epoch 111: | Train Loss: 0.363 | Val Loss: 0.3931 | Train Acc: 88.8667| Val Acc: 87.0000\n",
            "Epoch 112: | Train Loss: 0.361 | Val Loss: 0.3916 | Train Acc: 88.8667| Val Acc: 88.0000\n",
            "Epoch 113: | Train Loss: 0.360 | Val Loss: 0.3902 | Train Acc: 88.9667| Val Acc: 88.0000\n",
            "Epoch 114: | Train Loss: 0.359 | Val Loss: 0.3888 | Train Acc: 88.9667| Val Acc: 88.0000\n",
            "Epoch 115: | Train Loss: 0.357 | Val Loss: 0.3874 | Train Acc: 88.9667| Val Acc: 88.0000\n",
            "Epoch 116: | Train Loss: 0.356 | Val Loss: 0.3860 | Train Acc: 89.0667| Val Acc: 88.0000\n",
            "Epoch 117: | Train Loss: 0.355 | Val Loss: 0.3847 | Train Acc: 89.1667| Val Acc: 88.0000\n",
            "Epoch 118: | Train Loss: 0.354 | Val Loss: 0.3834 | Train Acc: 89.1667| Val Acc: 88.0000\n",
            "Epoch 119: | Train Loss: 0.353 | Val Loss: 0.3822 | Train Acc: 89.1667| Val Acc: 88.0000\n",
            "Epoch 120: | Train Loss: 0.352 | Val Loss: 0.3809 | Train Acc: 88.9000| Val Acc: 88.0000\n",
            "Epoch 121: | Train Loss: 0.351 | Val Loss: 0.3797 | Train Acc: 89.1333| Val Acc: 88.0000\n",
            "Epoch 122: | Train Loss: 0.349 | Val Loss: 0.3786 | Train Acc: 89.2333| Val Acc: 88.0000\n",
            "Epoch 123: | Train Loss: 0.348 | Val Loss: 0.3774 | Train Acc: 89.3333| Val Acc: 88.0000\n",
            "Epoch 124: | Train Loss: 0.347 | Val Loss: 0.3763 | Train Acc: 89.3333| Val Acc: 88.0000\n",
            "Epoch 125: | Train Loss: 0.346 | Val Loss: 0.3752 | Train Acc: 89.3333| Val Acc: 88.0000\n",
            "Epoch 126: | Train Loss: 0.346 | Val Loss: 0.3741 | Train Acc: 89.5667| Val Acc: 88.0000\n",
            "Epoch 127: | Train Loss: 0.345 | Val Loss: 0.3731 | Train Acc: 89.5667| Val Acc: 88.0000\n",
            "Epoch 128: | Train Loss: 0.344 | Val Loss: 0.3720 | Train Acc: 89.5667| Val Acc: 88.0000\n",
            "Epoch 129: | Train Loss: 0.343 | Val Loss: 0.3710 | Train Acc: 89.5667| Val Acc: 88.0000\n",
            "Epoch 130: | Train Loss: 0.342 | Val Loss: 0.3700 | Train Acc: 89.7000| Val Acc: 88.0000\n",
            "Epoch 131: | Train Loss: 0.341 | Val Loss: 0.3691 | Train Acc: 89.8000| Val Acc: 88.0000\n",
            "Epoch 132: | Train Loss: 0.340 | Val Loss: 0.3681 | Train Acc: 89.8000| Val Acc: 88.0000\n",
            "Epoch 133: | Train Loss: 0.340 | Val Loss: 0.3672 | Train Acc: 89.8000| Val Acc: 88.0000\n",
            "Epoch 134: | Train Loss: 0.339 | Val Loss: 0.3663 | Train Acc: 89.9000| Val Acc: 88.0000\n",
            "Epoch 135: | Train Loss: 0.338 | Val Loss: 0.3655 | Train Acc: 90.0000| Val Acc: 88.0000\n",
            "Epoch 136: | Train Loss: 0.337 | Val Loss: 0.3646 | Train Acc: 90.2333| Val Acc: 88.0000\n",
            "Epoch 137: | Train Loss: 0.337 | Val Loss: 0.3638 | Train Acc: 90.4333| Val Acc: 88.0000\n",
            "Epoch 138: | Train Loss: 0.336 | Val Loss: 0.3630 | Train Acc: 90.4333| Val Acc: 88.0000\n",
            "Epoch 139: | Train Loss: 0.335 | Val Loss: 0.3622 | Train Acc: 90.4333| Val Acc: 88.0000\n",
            "Epoch 140: | Train Loss: 0.335 | Val Loss: 0.3614 | Train Acc: 90.4333| Val Acc: 88.0000\n",
            "Epoch 141: | Train Loss: 0.334 | Val Loss: 0.3606 | Train Acc: 90.4333| Val Acc: 88.0000\n",
            "Epoch 142: | Train Loss: 0.333 | Val Loss: 0.3599 | Train Acc: 90.4333| Val Acc: 88.0000\n",
            "Epoch 143: | Train Loss: 0.333 | Val Loss: 0.3592 | Train Acc: 90.4333| Val Acc: 88.0000\n",
            "Epoch 144: | Train Loss: 0.332 | Val Loss: 0.3585 | Train Acc: 90.4333| Val Acc: 88.0000\n",
            "Epoch 145: | Train Loss: 0.332 | Val Loss: 0.3578 | Train Acc: 90.4333| Val Acc: 88.0000\n",
            "Epoch 146: | Train Loss: 0.331 | Val Loss: 0.3571 | Train Acc: 90.4333| Val Acc: 88.0000\n",
            "Epoch 147: | Train Loss: 0.330 | Val Loss: 0.3564 | Train Acc: 90.4333| Val Acc: 88.0000\n",
            "Epoch 148: | Train Loss: 0.330 | Val Loss: 0.3558 | Train Acc: 90.4333| Val Acc: 88.0000\n",
            "Epoch 149: | Train Loss: 0.329 | Val Loss: 0.3551 | Train Acc: 90.4333| Val Acc: 89.0000\n",
            "Epoch 150: | Train Loss: 0.329 | Val Loss: 0.3545 | Train Acc: 90.4333| Val Acc: 89.0000\n",
            "Epoch 151: | Train Loss: 0.328 | Val Loss: 0.3539 | Train Acc: 90.4333| Val Acc: 89.0000\n",
            "Epoch 152: | Train Loss: 0.328 | Val Loss: 0.3533 | Train Acc: 90.4333| Val Acc: 89.0000\n",
            "Epoch 153: | Train Loss: 0.327 | Val Loss: 0.3527 | Train Acc: 90.4333| Val Acc: 89.0000\n",
            "Epoch 154: | Train Loss: 0.327 | Val Loss: 0.3521 | Train Acc: 90.4333| Val Acc: 89.0000\n",
            "Epoch 155: | Train Loss: 0.327 | Val Loss: 0.3515 | Train Acc: 90.4333| Val Acc: 89.0000\n",
            "Epoch 156: | Train Loss: 0.326 | Val Loss: 0.3510 | Train Acc: 90.4333| Val Acc: 89.0000\n",
            "Epoch 157: | Train Loss: 0.326 | Val Loss: 0.3504 | Train Acc: 90.4333| Val Acc: 89.0000\n",
            "Epoch 158: | Train Loss: 0.325 | Val Loss: 0.3499 | Train Acc: 90.4333| Val Acc: 89.0000\n",
            "Epoch 159: | Train Loss: 0.325 | Val Loss: 0.3494 | Train Acc: 90.5333| Val Acc: 89.0000\n",
            "Epoch 160: | Train Loss: 0.324 | Val Loss: 0.3489 | Train Acc: 90.5333| Val Acc: 89.0000\n",
            "Epoch 161: | Train Loss: 0.324 | Val Loss: 0.3484 | Train Acc: 90.5333| Val Acc: 89.0000\n",
            "Epoch 162: | Train Loss: 0.324 | Val Loss: 0.3479 | Train Acc: 90.5333| Val Acc: 89.0000\n",
            "Epoch 163: | Train Loss: 0.323 | Val Loss: 0.3474 | Train Acc: 90.5333| Val Acc: 89.0000\n",
            "Epoch 164: | Train Loss: 0.323 | Val Loss: 0.3470 | Train Acc: 90.5333| Val Acc: 89.0000\n",
            "Epoch 165: | Train Loss: 0.323 | Val Loss: 0.3465 | Train Acc: 90.5333| Val Acc: 89.0000\n",
            "Epoch 166: | Train Loss: 0.322 | Val Loss: 0.3461 | Train Acc: 90.5333| Val Acc: 89.0000\n",
            "Epoch 167: | Train Loss: 0.322 | Val Loss: 0.3456 | Train Acc: 90.5333| Val Acc: 89.0000\n",
            "Epoch 168: | Train Loss: 0.322 | Val Loss: 0.3452 | Train Acc: 90.4333| Val Acc: 89.0000\n",
            "Epoch 169: | Train Loss: 0.321 | Val Loss: 0.3448 | Train Acc: 90.4333| Val Acc: 89.0000\n",
            "Epoch 170: | Train Loss: 0.321 | Val Loss: 0.3444 | Train Acc: 90.4333| Val Acc: 89.0000\n",
            "Epoch 171: | Train Loss: 0.321 | Val Loss: 0.3440 | Train Acc: 90.4333| Val Acc: 89.0000\n",
            "Epoch 172: | Train Loss: 0.320 | Val Loss: 0.3436 | Train Acc: 90.4333| Val Acc: 89.0000\n",
            "Epoch 173: | Train Loss: 0.320 | Val Loss: 0.3432 | Train Acc: 90.5333| Val Acc: 89.0000\n",
            "Epoch 174: | Train Loss: 0.320 | Val Loss: 0.3428 | Train Acc: 90.5333| Val Acc: 89.0000\n",
            "Epoch 175: | Train Loss: 0.320 | Val Loss: 0.3424 | Train Acc: 90.5333| Val Acc: 89.0000\n",
            "Epoch 176: | Train Loss: 0.319 | Val Loss: 0.3420 | Train Acc: 90.5333| Val Acc: 89.0000\n",
            "Epoch 177: | Train Loss: 0.319 | Val Loss: 0.3417 | Train Acc: 90.5333| Val Acc: 89.0000\n",
            "Epoch 178: | Train Loss: 0.319 | Val Loss: 0.3413 | Train Acc: 90.5333| Val Acc: 89.0000\n",
            "Epoch 179: | Train Loss: 0.319 | Val Loss: 0.3410 | Train Acc: 90.5333| Val Acc: 89.0000\n",
            "Epoch 180: | Train Loss: 0.318 | Val Loss: 0.3406 | Train Acc: 90.5333| Val Acc: 89.0000\n",
            "Epoch 181: | Train Loss: 0.318 | Val Loss: 0.3403 | Train Acc: 90.5333| Val Acc: 89.0000\n",
            "Epoch 182: | Train Loss: 0.318 | Val Loss: 0.3399 | Train Acc: 90.6333| Val Acc: 89.0000\n",
            "Epoch 183: | Train Loss: 0.318 | Val Loss: 0.3396 | Train Acc: 90.6333| Val Acc: 89.0000\n",
            "Epoch 184: | Train Loss: 0.318 | Val Loss: 0.3392 | Train Acc: 90.6333| Val Acc: 89.0000\n",
            "Epoch 185: | Train Loss: 0.317 | Val Loss: 0.3389 | Train Acc: 90.6333| Val Acc: 90.0000\n",
            "Epoch 186: | Train Loss: 0.317 | Val Loss: 0.3386 | Train Acc: 90.6333| Val Acc: 90.0000\n",
            "Epoch 187: | Train Loss: 0.317 | Val Loss: 0.3383 | Train Acc: 90.6333| Val Acc: 90.0000\n",
            "Epoch 188: | Train Loss: 0.317 | Val Loss: 0.3380 | Train Acc: 90.6333| Val Acc: 90.0000\n",
            "Epoch 189: | Train Loss: 0.316 | Val Loss: 0.3377 | Train Acc: 90.6333| Val Acc: 90.0000\n",
            "Epoch 190: | Train Loss: 0.316 | Val Loss: 0.3374 | Train Acc: 90.6333| Val Acc: 90.0000\n",
            "Epoch 191: | Train Loss: 0.316 | Val Loss: 0.3371 | Train Acc: 90.6333| Val Acc: 90.0000\n",
            "Epoch 192: | Train Loss: 0.316 | Val Loss: 0.3368 | Train Acc: 90.6333| Val Acc: 90.0000\n",
            "Epoch 193: | Train Loss: 0.316 | Val Loss: 0.3365 | Train Acc: 90.6333| Val Acc: 90.0000\n",
            "Epoch 194: | Train Loss: 0.316 | Val Loss: 0.3363 | Train Acc: 90.5000| Val Acc: 90.0000\n",
            "Epoch 195: | Train Loss: 0.315 | Val Loss: 0.3360 | Train Acc: 90.5000| Val Acc: 90.0000\n",
            "Epoch 196: | Train Loss: 0.315 | Val Loss: 0.3357 | Train Acc: 90.5000| Val Acc: 90.0000\n",
            "Epoch 197: | Train Loss: 0.315 | Val Loss: 0.3355 | Train Acc: 90.5000| Val Acc: 90.0000\n",
            "Epoch 198: | Train Loss: 0.315 | Val Loss: 0.3352 | Train Acc: 90.3667| Val Acc: 90.0000\n",
            "Epoch 199: | Train Loss: 0.315 | Val Loss: 0.3350 | Train Acc: 90.2667| Val Acc: 90.0000\n",
            "Epoch 200: | Train Loss: 0.315 | Val Loss: 0.3347 | Train Acc: 90.1667| Val Acc: 90.0000\n",
            "Epoch 201: | Train Loss: 0.314 | Val Loss: 0.3345 | Train Acc: 90.1667| Val Acc: 90.0000\n",
            "Epoch 202: | Train Loss: 0.314 | Val Loss: 0.3343 | Train Acc: 90.1667| Val Acc: 90.0000\n",
            "Epoch 203: | Train Loss: 0.314 | Val Loss: 0.3340 | Train Acc: 90.1667| Val Acc: 90.0000\n",
            "Epoch 204: | Train Loss: 0.314 | Val Loss: 0.3338 | Train Acc: 90.1667| Val Acc: 90.0000\n",
            "Epoch 205: | Train Loss: 0.314 | Val Loss: 0.3336 | Train Acc: 90.1667| Val Acc: 90.0000\n",
            "Epoch 206: | Train Loss: 0.314 | Val Loss: 0.3334 | Train Acc: 90.1667| Val Acc: 90.0000\n",
            "Epoch 207: | Train Loss: 0.314 | Val Loss: 0.3331 | Train Acc: 90.1667| Val Acc: 90.0000\n",
            "Epoch 208: | Train Loss: 0.313 | Val Loss: 0.3329 | Train Acc: 90.1667| Val Acc: 90.0000\n",
            "Epoch 209: | Train Loss: 0.313 | Val Loss: 0.3327 | Train Acc: 90.0667| Val Acc: 90.0000\n",
            "Epoch 210: | Train Loss: 0.313 | Val Loss: 0.3325 | Train Acc: 90.0667| Val Acc: 90.0000\n",
            "Epoch 211: | Train Loss: 0.313 | Val Loss: 0.3323 | Train Acc: 90.0667| Val Acc: 90.0000\n",
            "Epoch 212: | Train Loss: 0.313 | Val Loss: 0.3321 | Train Acc: 89.9667| Val Acc: 90.0000\n",
            "Epoch 213: | Train Loss: 0.313 | Val Loss: 0.3319 | Train Acc: 89.9667| Val Acc: 90.0000\n",
            "Epoch 214: | Train Loss: 0.313 | Val Loss: 0.3317 | Train Acc: 89.9667| Val Acc: 90.0000\n",
            "Epoch 215: | Train Loss: 0.313 | Val Loss: 0.3315 | Train Acc: 89.9667| Val Acc: 90.0000\n",
            "Epoch 216: | Train Loss: 0.313 | Val Loss: 0.3313 | Train Acc: 89.9667| Val Acc: 90.0000\n",
            "Epoch 217: | Train Loss: 0.312 | Val Loss: 0.3312 | Train Acc: 90.1667| Val Acc: 90.0000\n",
            "Epoch 218: | Train Loss: 0.312 | Val Loss: 0.3310 | Train Acc: 90.1667| Val Acc: 90.0000\n",
            "Epoch 219: | Train Loss: 0.312 | Val Loss: 0.3308 | Train Acc: 90.1667| Val Acc: 90.0000\n",
            "Epoch 220: | Train Loss: 0.312 | Val Loss: 0.3306 | Train Acc: 90.1667| Val Acc: 90.0000\n",
            "Epoch 221: | Train Loss: 0.312 | Val Loss: 0.3304 | Train Acc: 90.1667| Val Acc: 90.0000\n",
            "Epoch 222: | Train Loss: 0.312 | Val Loss: 0.3303 | Train Acc: 90.1667| Val Acc: 90.0000\n",
            "Epoch 223: | Train Loss: 0.312 | Val Loss: 0.3301 | Train Acc: 90.3000| Val Acc: 90.0000\n",
            "Epoch 224: | Train Loss: 0.312 | Val Loss: 0.3299 | Train Acc: 90.3000| Val Acc: 90.0000\n",
            "Epoch 225: | Train Loss: 0.312 | Val Loss: 0.3298 | Train Acc: 90.3000| Val Acc: 90.0000\n",
            "Epoch 226: | Train Loss: 0.312 | Val Loss: 0.3296 | Train Acc: 90.3000| Val Acc: 90.0000\n",
            "Epoch 227: | Train Loss: 0.311 | Val Loss: 0.3294 | Train Acc: 90.3000| Val Acc: 90.0000\n",
            "Epoch 228: | Train Loss: 0.311 | Val Loss: 0.3293 | Train Acc: 90.3000| Val Acc: 90.0000\n",
            "Epoch 229: | Train Loss: 0.311 | Val Loss: 0.3291 | Train Acc: 90.3000| Val Acc: 90.0000\n",
            "Epoch 230: | Train Loss: 0.311 | Val Loss: 0.3289 | Train Acc: 90.3000| Val Acc: 90.0000\n",
            "Epoch 231: | Train Loss: 0.311 | Val Loss: 0.3288 | Train Acc: 90.3000| Val Acc: 90.0000\n",
            "Epoch 232: | Train Loss: 0.311 | Val Loss: 0.3286 | Train Acc: 90.3000| Val Acc: 90.0000\n",
            "Epoch 233: | Train Loss: 0.311 | Val Loss: 0.3285 | Train Acc: 90.3000| Val Acc: 90.0000\n",
            "Epoch 234: | Train Loss: 0.311 | Val Loss: 0.3284 | Train Acc: 90.3000| Val Acc: 89.0000\n",
            "Epoch 235: | Train Loss: 0.311 | Val Loss: 0.3282 | Train Acc: 90.2000| Val Acc: 89.0000\n",
            "Epoch 236: | Train Loss: 0.311 | Val Loss: 0.3281 | Train Acc: 90.2000| Val Acc: 89.0000\n",
            "Epoch 237: | Train Loss: 0.311 | Val Loss: 0.3279 | Train Acc: 90.2000| Val Acc: 89.0000\n",
            "Epoch 238: | Train Loss: 0.311 | Val Loss: 0.3278 | Train Acc: 90.2000| Val Acc: 89.0000\n",
            "Epoch 239: | Train Loss: 0.311 | Val Loss: 0.3277 | Train Acc: 90.2000| Val Acc: 89.0000\n",
            "Epoch 240: | Train Loss: 0.311 | Val Loss: 0.3275 | Train Acc: 90.2000| Val Acc: 89.0000\n",
            "Epoch 241: | Train Loss: 0.310 | Val Loss: 0.3274 | Train Acc: 90.2000| Val Acc: 89.0000\n",
            "Epoch 242: | Train Loss: 0.310 | Val Loss: 0.3273 | Train Acc: 90.3000| Val Acc: 89.0000\n",
            "Epoch 243: | Train Loss: 0.310 | Val Loss: 0.3271 | Train Acc: 90.3000| Val Acc: 89.0000\n",
            "Epoch 244: | Train Loss: 0.310 | Val Loss: 0.3270 | Train Acc: 90.2000| Val Acc: 89.0000\n",
            "Epoch 245: | Train Loss: 0.310 | Val Loss: 0.3270 | Train Acc: 90.3000| Val Acc: 89.0000\n",
            "Epoch 246: | Train Loss: 0.310 | Val Loss: 0.3270 | Train Acc: 90.2000| Val Acc: 89.0000\n",
            "Epoch 247: | Train Loss: 0.310 | Val Loss: 0.3269 | Train Acc: 90.2000| Val Acc: 89.0000\n",
            "Epoch 248: | Train Loss: 0.310 | Val Loss: 0.3268 | Train Acc: 90.2000| Val Acc: 89.0000\n",
            "Epoch 249: | Train Loss: 0.310 | Val Loss: 0.3267 | Train Acc: 90.2000| Val Acc: 89.0000\n",
            "Epoch 250: | Train Loss: 0.310 | Val Loss: 0.3266 | Train Acc: 90.2000| Val Acc: 89.0000\n"
          ]
        }
      ],
      "source": [
        "model = NeuralNetwork(n_input = n_input, n_output=n_output,output_activation='sigmoid')\n",
        "history, y_hat = train(model, train_loader, val_dataset, epochs=epochs, lr=lr, device=device, binary=binary)"
      ]
    },
    {
      "cell_type": "markdown",
      "metadata": {
        "id": "-d3PqFqVxU-D"
      },
      "source": [
        "#### Resposta"
      ]
    },
    {
      "cell_type": "code",
      "execution_count": null,
      "metadata": {
        "id": "9_VkaYwaxU-D"
      },
      "outputs": [],
      "source": [
        "y_pred = model.predict(test_dataset.X_data,binary=binary)\n"
      ]
    },
    {
      "cell_type": "code",
      "execution_count": null,
      "metadata": {
        "id": "0_c33dusxU-D",
        "outputId": "833e124f-f624-4b38-f919-674a2057f4d1"
      },
      "outputs": [
        {
          "name": "stdout",
          "output_type": "stream",
          "text": [
            "              precision    recall  f1-score   support\n",
            "\n",
            "           0       0.86      0.97      0.91       164\n",
            "           1       0.96      0.82      0.88       136\n",
            "\n",
            "    accuracy                           0.90       300\n",
            "   macro avg       0.91      0.89      0.90       300\n",
            "weighted avg       0.91      0.90      0.90       300\n",
            "\n"
          ]
        },
        {
          "data": {
            "image/png": "[encoded data removed]",
            "text/plain": [
              "<Figure size 576x432 with 2 Axes>"
            ]
          },
          "metadata": {},
          "output_type": "display_data"
        }
      ],
      "source": [
        "print(classification_report(y_test, y_pred))\n",
        "\n",
        "cm = confusion_matrix(y_test, y_pred)\n",
        "\n",
        "plot_confusion_matrix(cm)"
      ]
    },
    {
      "cell_type": "markdown",
      "metadata": {
        "id": "D7cWvJCFgPWV"
      },
      "source": [
        "### 2)\tModifique o tempo de treinamento (épocas) da Rede Neural. Escolha valores distintos (e.g. 1 e 1000 épocas) e avalie os resultados."
      ]
    },
    {
      "cell_type": "markdown",
      "metadata": {
        "id": "w-7UtnU9gPWW"
      },
      "source": [
        "#### Rascunho"
      ]
    },
    {
      "cell_type": "code",
      "execution_count": null,
      "metadata": {
        "id": "mWeBg2aegPWX"
      },
      "outputs": [],
      "source": []
    },
    {
      "cell_type": "code",
      "execution_count": null,
      "metadata": {
        "id": "4Bi4sljdgPWY"
      },
      "outputs": [],
      "source": []
    },
    {
      "cell_type": "markdown",
      "metadata": {
        "id": "XSHP-OfzgPWZ"
      },
      "source": [
        "#### Resposta"
      ]
    },
    {
      "cell_type": "code",
      "execution_count": null,
      "metadata": {
        "id": "jz5i-4AggPWa"
      },
      "outputs": [],
      "source": []
    },
    {
      "cell_type": "code",
      "execution_count": null,
      "metadata": {
        "id": "U_M_0gobgPWb"
      },
      "outputs": [],
      "source": []
    },
    {
      "cell_type": "markdown",
      "metadata": {
        "id": "fvTj11HjgPWc"
      },
      "source": [
        "### 3)\t Modifique a taxa de aprendizado da Rede Neural. Escolha valores distintos (e.g. 0,001 e 0,1) e avalie os resultados."
      ]
    },
    {
      "cell_type": "markdown",
      "metadata": {
        "id": "dk2JosYggPWd"
      },
      "source": [
        "#### Rascunho"
      ]
    },
    {
      "cell_type": "code",
      "execution_count": null,
      "metadata": {
        "id": "wG5CiivfgPWe"
      },
      "outputs": [],
      "source": []
    },
    {
      "cell_type": "code",
      "execution_count": null,
      "metadata": {
        "id": "JJkYToMWgPWf"
      },
      "outputs": [],
      "source": []
    },
    {
      "cell_type": "code",
      "execution_count": null,
      "metadata": {
        "id": "mWfo8qx9gPWg"
      },
      "outputs": [],
      "source": []
    },
    {
      "cell_type": "markdown",
      "metadata": {
        "id": "rVmTwvkggPWh"
      },
      "source": [
        "#### Resposta"
      ]
    },
    {
      "cell_type": "code",
      "execution_count": null,
      "metadata": {
        "id": "PTr_1qMNgPWi"
      },
      "outputs": [],
      "source": []
    },
    {
      "cell_type": "code",
      "execution_count": null,
      "metadata": {
        "id": "wHY877-RgPWj"
      },
      "outputs": [],
      "source": []
    },
    {
      "cell_type": "code",
      "execution_count": null,
      "metadata": {
        "id": "0m0tmG1egPWk"
      },
      "outputs": [],
      "source": []
    },
    {
      "cell_type": "markdown",
      "metadata": {
        "id": "EzIc3RZMgPWk"
      },
      "source": [
        "### 4)\tModifique a quantidade de neurônios na camada escondida da Rede Neural. Escolha valores distintos (e.g. 2 e 70 neurônios) e avalie os resultados."
      ]
    },
    {
      "cell_type": "markdown",
      "metadata": {
        "id": "GHCO6w-2gPWl"
      },
      "source": [
        "#### Rascunho"
      ]
    },
    {
      "cell_type": "code",
      "execution_count": null,
      "metadata": {
        "id": "JsPDeM4IgPWm"
      },
      "outputs": [],
      "source": []
    },
    {
      "cell_type": "code",
      "execution_count": null,
      "metadata": {
        "id": "ESzdXPO1gPWn"
      },
      "outputs": [],
      "source": []
    },
    {
      "cell_type": "code",
      "execution_count": null,
      "metadata": {
        "id": "w4v2Y7kngPWp"
      },
      "outputs": [],
      "source": []
    },
    {
      "cell_type": "code",
      "execution_count": null,
      "metadata": {
        "id": "olKNpJ2lgPWq"
      },
      "outputs": [],
      "source": []
    },
    {
      "cell_type": "markdown",
      "metadata": {
        "id": "WQIl4IUTgPWr"
      },
      "source": [
        "#### Resposta"
      ]
    },
    {
      "cell_type": "code",
      "execution_count": null,
      "metadata": {
        "id": "y1Ue7kAkgPWs"
      },
      "outputs": [],
      "source": []
    },
    {
      "cell_type": "code",
      "execution_count": null,
      "metadata": {
        "id": "p3WyH06FgPWt"
      },
      "outputs": [],
      "source": []
    },
    {
      "cell_type": "code",
      "execution_count": null,
      "metadata": {
        "id": "yoP80Kx8gPWt"
      },
      "outputs": [],
      "source": []
    },
    {
      "cell_type": "markdown",
      "metadata": {
        "id": "QiM6sFTOgPWt"
      },
      "source": [
        "## Parte IV - Análise dos resultados - **Extra**"
      ]
    },
    {
      "cell_type": "markdown",
      "metadata": {
        "id": "1yPVBu47xU-G"
      },
      "source": [
        "### 1)\tImplemente a técnica de parada antecipada (Early Stopping) usando o conjunto de validação. Avalie o resultado obtido.\n",
        "\n",
        "OBS: crie uma nova função (e.g. train_EarlyStopping) ou use um parâmetro para habilitar/desabilitar o Early Stopping."
      ]
    },
    {
      "cell_type": "markdown",
      "metadata": {
        "id": "27OzUOQxxU-G"
      },
      "source": [
        "#### Rascunho"
      ]
    },
    {
      "cell_type": "code",
      "execution_count": null,
      "metadata": {
        "id": "3WLEI0ebxU-G"
      },
      "outputs": [],
      "source": []
    },
    {
      "cell_type": "code",
      "execution_count": null,
      "metadata": {
        "id": "cBdNF1aexU-G"
      },
      "outputs": [],
      "source": []
    },
    {
      "cell_type": "markdown",
      "metadata": {
        "id": "Dz85MvFqxU-G"
      },
      "source": [
        "#### Resposta"
      ]
    },
    {
      "cell_type": "code",
      "execution_count": null,
      "metadata": {
        "id": "Mb-ffKYHxU-G"
      },
      "outputs": [],
      "source": []
    },
    {
      "cell_type": "code",
      "execution_count": null,
      "metadata": {
        "id": "7H310miZxU-G"
      },
      "outputs": [],
      "source": []
    },
    {
      "cell_type": "code",
      "execution_count": null,
      "metadata": {
        "id": "8JnJVTjmxU-H"
      },
      "outputs": [],
      "source": []
    },
    {
      "cell_type": "markdown",
      "metadata": {
        "id": "UW_TArx3gPWw"
      },
      "source": [
        "### 2)\tFaça novos testes para avaliar o desempenho da Rede Neural no problema designado usando a técnica K-Fold (com K = 10). Comente o resultado obtido.\n",
        "\n",
        "Dica: não é necessário utilizar a ferramenta KFold do scikit-learn para o desenvolvimento deste item. Uma alternativa <b> simples </b> é fazer um *for loop*, selecionando os índices em bloco."
      ]
    },
    {
      "cell_type": "markdown",
      "metadata": {
        "id": "92fLmxFxgPWx"
      },
      "source": [
        "#### Rascunho"
      ]
    },
    {
      "cell_type": "code",
      "execution_count": null,
      "metadata": {
        "id": "FdAq5uP8gPWx"
      },
      "outputs": [],
      "source": []
    },
    {
      "cell_type": "code",
      "execution_count": null,
      "metadata": {
        "id": "JKQCChIwgPWy"
      },
      "outputs": [],
      "source": []
    },
    {
      "cell_type": "markdown",
      "metadata": {
        "id": "OJDcfjeRgPWz"
      },
      "source": [
        "#### Resposta"
      ]
    },
    {
      "cell_type": "code",
      "execution_count": null,
      "metadata": {
        "id": "VEYXeqiWgPW0"
      },
      "outputs": [],
      "source": []
    },
    {
      "cell_type": "markdown",
      "metadata": {
        "id": "jMCbzZPCgPW0"
      },
      "source": [
        "### 3)\tFaça análises e novas implementações que você julgue importante para o seu trabalho. Não esqueça de explicar a motivação da análise realizada."
      ]
    },
    {
      "cell_type": "markdown",
      "metadata": {
        "id": "idqI-vD9gPW1"
      },
      "source": [
        "#### Rascunho"
      ]
    },
    {
      "cell_type": "code",
      "execution_count": null,
      "metadata": {
        "id": "1cADcwqogPW4"
      },
      "outputs": [],
      "source": []
    },
    {
      "cell_type": "markdown",
      "metadata": {
        "id": "xUgWaWBbgPXE"
      },
      "source": [
        "#### Resposta"
      ]
    },
    {
      "cell_type": "code",
      "execution_count": null,
      "metadata": {
        "id": "P_-ocy_LgPXG"
      },
      "outputs": [],
      "source": []
    }
  ],
  "metadata": {
    "colab": {
      "collapsed_sections": [
        "dk2JosYggPWd",
        "rVmTwvkggPWh",
        "idqI-vD9gPW1",
        "xUgWaWBbgPXE"
      ],
      "name": "class_pratica1.ipynb",
      "provenance": [],
      "toc_visible": true
    },
    "kernelspec": {
      "display_name": "Python 3",
      "language": "python",
      "name": "python3"
    },
    "language_info": {
      "codemirror_mode": {
        "name": "ipython",
        "version": 3
      },
      "file_extension": ".py",
      "mimetype": "text/x-python",
      "name": "python",
      "nbconvert_exporter": "python",
      "pygments_lexer": "ipython3",
      "version": "3.8.2"
    },
    "vscode": {
      "interpreter": {
        "hash": "d044c6e0ce06759120adefce77398d00e1228e64d92f3f185fbd024a7701b8e0"
      }
    }
  },
  "nbformat": 4,
  "nbformat_minor": 0
}